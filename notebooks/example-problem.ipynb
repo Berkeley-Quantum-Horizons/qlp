{
 "cells": [
  {
   "cell_type": "code",
   "execution_count": null,
   "metadata": {},
   "outputs": [],
   "source": [
    "from itertools import product\n",
    "\n",
    "import numpy as np\n",
    "import pandas as pd\n",
    "\n",
    "import plotly.graph_objects as go\n",
    "\n",
    "from IPython.display import display\n",
    "\n",
    "from sympy import symbols, Eq, N, simplify, expand, S\n",
    "from sympy import zeros, diag, Matrix\n",
    "\n",
    "import qlp.eqn_converter as qlp"
   ]
  },
  {
   "cell_type": "markdown",
   "metadata": {},
   "source": [
    "# New maximization condition\n",
    "\n",
    "$$\n",
    "    f(x_1, x_2) = 8 -(x_1 - 2)^2 - (x_2 - 2)^2 = \\psi_\\alpha M_{\\alpha \\beta} \\psi_\\beta\n",
    "$$\n",
    "with\n",
    "$$ \n",
    "    M_{\\alpha \\beta} \n",
    "    = \n",
    "    - Q_{1\\alpha}Q_{1\\beta} \n",
    "    - Q_{2\\alpha}Q_{2\\beta} \n",
    "    + 4Q_{1\\alpha}\\delta_{\\alpha\\beta}\n",
    "    + 4Q_{2\\alpha}\\delta_{\\alpha\\beta}\n",
    "$$\n",
    "and\n",
    "$$\n",
    "    \\begin{pmatrix}\n",
    "        x_1 \\\\ x_2\n",
    "    \\end{pmatrix}\n",
    "    =\n",
    "    Q\n",
    "    \\vec \\psi \\, ,\n",
    "$$\n",
    "where $\\vec \\psi$ is a vector in a bit basis such that $\\psi_\\alpha \\in \\{0,1\\} \\Rightarrow \\psi^2_\\alpha = \\psi_\\alpha$."
   ]
  },
  {
   "cell_type": "markdown",
   "metadata": {},
   "source": [
    "## Preparation"
   ]
  },
  {
   "cell_type": "code",
   "execution_count": null,
   "metadata": {},
   "outputs": [],
   "source": [
    "def f(x1, x2):\n",
    "    return 8 - (x1 - 2) ** 2 - (x2 - 2) ** 2\n",
    "\n",
    "\n",
    "zmin = 6.0\n",
    "\n",
    "xx, yy = np.meshgrid(*[np.linspace(0, 4, 100)] * 2)\n",
    "zz = f(xx, yy)\n",
    "zz = np.where(zz < zmin, np.nan, zz)"
   ]
  },
  {
   "cell_type": "code",
   "execution_count": null,
   "metadata": {},
   "outputs": [],
   "source": [
    "f_data = go.Heatmap(\n",
    "    x=np.linspace(0, 4, 100),\n",
    "    y=np.linspace(0, 4, 100),\n",
    "    z=zz,\n",
    "    colorscale=\"Blues\",\n",
    "    zmin=zmin,\n",
    "    zsmooth=\"best\",\n",
    ")\n",
    "layout = go.Layout(\n",
    "    paper_bgcolor=\"white\", plot_bgcolor=\"white\", height=600, width=600, showlegend=False\n",
    ")"
   ]
  },
  {
   "cell_type": "markdown",
   "metadata": {},
   "source": [
    "## Plot"
   ]
  },
  {
   "cell_type": "code",
   "execution_count": null,
   "metadata": {
    "scrolled": false
   },
   "outputs": [],
   "source": [
    "go.Figure(data=[f_data], layout=layout).show()"
   ]
  },
  {
   "cell_type": "markdown",
   "metadata": {},
   "source": [
    "## Maximization without constraints"
   ]
  },
  {
   "cell_type": "markdown",
   "metadata": {},
   "source": [
    "Let's take a 2 bit basis, so that $M$ is a $4\\times4$ matrix."
   ]
  },
  {
   "cell_type": "code",
   "execution_count": null,
   "metadata": {},
   "outputs": [],
   "source": [
    "q = qlp.get_bit_map(2, 2)\n",
    "\n",
    "print(q)\n",
    "\n",
    "m = -q.T @ q + 4 * np.diag(q[0] + q[1])\n",
    "\n",
    "m"
   ]
  },
  {
   "cell_type": "code",
   "execution_count": null,
   "metadata": {},
   "outputs": [],
   "source": [
    "f_max = -10\n",
    "psi_opt = None\n",
    "\n",
    "data = []\n",
    "\n",
    "for psi in product(*[range(2)] * q.shape[1]):\n",
    "    f_classical = f(*q @ psi)\n",
    "    f_quantum = psi @ m @ psi\n",
    "\n",
    "    assert f_classical == f_quantum\n",
    "\n",
    "    data.append({\"x1\": q[0, :] @ psi, \"x2\": q[1, :] @ psi, \"f\": f_classical})\n",
    "\n",
    "    if f_classical > f_max:\n",
    "        f_max = f_classical\n",
    "        psi_opt = psi\n",
    "\n",
    "assert f_max == 8\n",
    "assert (q @ psi_opt == np.array([2, 2])).all()\n",
    "\n",
    "pd.DataFrame(data).sort_values(\"f\", ascending=False).head()"
   ]
  },
  {
   "cell_type": "markdown",
   "metadata": {},
   "source": [
    "## Including constraints"
   ]
  },
  {
   "cell_type": "markdown",
   "metadata": {},
   "source": [
    "The first constraint is a linear constraint in the sense that it will not affect the location of the minimum."
   ]
  },
  {
   "cell_type": "code",
   "execution_count": null,
   "metadata": {},
   "outputs": [],
   "source": [
    "x1, x2, s = symbols(\"x1 x2 s\")\n",
    "m = -1\n",
    "b = 4\n",
    "\n",
    "eq = m * x1 + b >= x2\n",
    "eq"
   ]
  },
  {
   "cell_type": "code",
   "execution_count": null,
   "metadata": {
    "scrolled": false
   },
   "outputs": [],
   "source": [
    "x = np.linspace(0, 4, 5)\n",
    "y = np.array([eq.lhs.subs({\"x1\": xx}) for xx in x], dtype=float)\n",
    "contraint1_data = go.Scatter(\n",
    "    x=x, y=y, line={\"dash\": \"solid\", \"color\": \"black\"}, mode=\"lines\", text=\"Constraint\"\n",
    ")\n",
    "max_data1 = go.Scatter(x=[2], y=[2], marker={\"color\": \"green\", \"size\": 15})"
   ]
  },
  {
   "cell_type": "code",
   "execution_count": null,
   "metadata": {
    "scrolled": false
   },
   "outputs": [],
   "source": [
    "go.Figure(data=[f_data, contraint1_data, max_data1], layout=layout,).update_layout(\n",
    "    title={\n",
    "        \"text\": f\"Constrained: {eq}\",\n",
    "        \"xanchor\": \"center\",\n",
    "        \"yanchor\": \"top\",\n",
    "        \"x\": 0.5,\n",
    "    }\n",
    ").show()"
   ]
  },
  {
   "cell_type": "markdown",
   "metadata": {},
   "source": [
    "## Implementation of constrained"
   ]
  },
  {
   "cell_type": "code",
   "execution_count": null,
   "metadata": {},
   "outputs": [],
   "source": [
    "print(\"constrained\")\n",
    "display(eq)\n",
    "\n",
    "constrained = eq.lhs - eq.rhs - s\n",
    "print(\"constrained with slack)\")\n",
    "display(Eq(constrained, 0))"
   ]
  },
  {
   "cell_type": "code",
   "execution_count": null,
   "metadata": {},
   "outputs": [],
   "source": [
    "Nx = 2\n",
    "Ns = 1\n",
    "\n",
    "xi = Matrix([S(f\"x{i}\") for i in range(Nx)] + [S(f\"s{i}\") for i in range(Ns)])\n",
    "xi_to_x = np.diag(([1 for i in range(Nx)] + [0 for i in range(Ns)]))\n",
    "\n",
    "print(\"xi\")\n",
    "display(xi)\n",
    "\n",
    "print(\"xi_to_x@xi\")\n",
    "display(xi_to_x @ xi)"
   ]
  },
  {
   "cell_type": "code",
   "execution_count": null,
   "metadata": {},
   "outputs": [],
   "source": [
    "alpha = Matrix([-1, -1, -1]).T\n",
    "print(\"alpha\")\n",
    "display(alpha)\n",
    "\n",
    "beta = Matrix([b])\n",
    "print(\"beta\")\n",
    "display(beta)\n",
    "\n",
    "\n",
    "print(\"alpha@xi + beta\")\n",
    "display(alpha @ xi + beta)"
   ]
  },
  {
   "cell_type": "code",
   "execution_count": null,
   "metadata": {},
   "outputs": [],
   "source": [
    "Nvars = Nx + Ns\n",
    "Nbits = 2\n",
    "\n",
    "q = qlp.get_bit_map(3, 2)\n",
    "print(q)\n",
    "\n",
    "psi = Matrix([f\"psi_{i}{j}\" for i in range(Nvars) for j in range(Nbits)])\n",
    "print(\"psi\")\n",
    "display(psi)\n",
    "\n",
    "print(\"q@psi\")\n",
    "display(Eq(xi, q @ psi))\n",
    "\n",
    "print(\"alpha@q@psi\")\n",
    "display(alpha @ q @ psi)"
   ]
  },
  {
   "cell_type": "code",
   "execution_count": null,
   "metadata": {},
   "outputs": [],
   "source": [
    "constrained_mat = np.array(\n",
    "    q.T @ alpha.T @ alpha @ q + diag(*beta.T @ alpha @ q) + diag(*q.T @ alpha.T @ beta)\n",
    ")\n",
    "constrained_mat"
   ]
  },
  {
   "cell_type": "markdown",
   "metadata": {},
   "source": [
    "### Cross Checks"
   ]
  },
  {
   "cell_type": "code",
   "execution_count": null,
   "metadata": {},
   "outputs": [],
   "source": [
    "r1 = expand((alpha @ q @ psi + beta) ** 2)[0, 0]\n",
    "r2 = expand(psi.T @ constrained_mat @ psi + beta.T @ beta)[0, 0]\n",
    "\n",
    "diff = simplify(r1 - r2)\n",
    "print(\"(alpha@q@psi + beta)**2 - psi.T@Omega@psi - beta.T@beta\")\n",
    "display(diff)\n",
    "\n",
    "print(\"Diff after psi_ij**2 -> psi_ij\")\n",
    "display(diff.subs({S(symb) ** 2: symb for symb in diff.free_symbols}))"
   ]
  },
  {
   "cell_type": "code",
   "execution_count": null,
   "metadata": {},
   "outputs": [],
   "source": [
    "data = []\n",
    "\n",
    "Alpha = np.array(alpha)\n",
    "Beta = np.array(beta)\n",
    "\n",
    "for psi_vec in product(*[range(2)] * len(psi)):\n",
    "    xi_vec = q @ psi_vec\n",
    "    f_classical = ((Alpha @ xi_vec + Beta).T @ (Alpha @ xi_vec + Beta))[0, 0]\n",
    "    f_quantum = psi_vec @ constrained_mat @ psi_vec\n",
    "\n",
    "    data.append(\n",
    "        {\n",
    "            \"x0\": xi_vec[0],\n",
    "            \"x1\": xi_vec[1],\n",
    "            \"s0\": xi_vec[2],\n",
    "            \"f_classical\": f_classical,\n",
    "            \"f_quantum\": f_quantum,\n",
    "        }\n",
    "    )\n",
    "\n",
    "df = pd.DataFrame(data).sort_values(\"f_classical\", ascending=True)\n",
    "df[\"diff\"] = df[\"f_classical\"] - df[\"f_quantum\"]\n",
    "df.head(5)"
   ]
  },
  {
   "cell_type": "code",
   "execution_count": null,
   "metadata": {},
   "outputs": [],
   "source": [
    "print(\"Is there a constant difference between classical and qunatum which is b**2?\")\n",
    "assert all(df[\"diff\"].unique() == b ** 2)\n",
    "print(\"-> Yes!\")"
   ]
  },
  {
   "cell_type": "code",
   "execution_count": null,
   "metadata": {},
   "outputs": [],
   "source": [
    "print(\"Are all classical solutions larger or equal to zero?\")\n",
    "assert all(df.f_classical.unique() >= 0)\n",
    "print(\"-> Yes!\")"
   ]
  },
  {
   "cell_type": "code",
   "execution_count": null,
   "metadata": {},
   "outputs": [],
   "source": [
    "print(\"Do all solutions which are equal to zero fulfill the constrained?\")\n",
    "assert (\n",
    "    df.query(\"f_classical == 0\")[[\"x0\", \"x1\"]]\n",
    "    .apply(lambda row: eq.subs({\"x1\": row[\"x0\"], \"x2\": row[\"x1\"]}), axis=1)\n",
    "    .astype(bool)\n",
    "    .all()\n",
    ")\n",
    "print(\"-> Yes!\")"
   ]
  },
  {
   "cell_type": "code",
   "execution_count": null,
   "metadata": {},
   "outputs": [],
   "source": [
    "print(\"Do all solutions which are larger than zero a violation of the constrained?\")\n",
    "assert not (\n",
    "    df.query(\"f_classical > 0\")[[\"x0\", \"x1\"]]\n",
    "    .apply(lambda row: eq.subs({\"x1\": row[\"x0\"], \"x2\": row[\"x1\"]}), axis=1)\n",
    "    .astype(bool)\n",
    "    .all()\n",
    ")\n",
    "print(\"-> Yes!\")"
   ]
  },
  {
   "cell_type": "markdown",
   "metadata": {},
   "source": [
    "## Implementation of optimizer"
   ]
  },
  {
   "cell_type": "code",
   "execution_count": null,
   "metadata": {},
   "outputs": [],
   "source": [
    "m = (-q.T @ xi_to_x.T @ xi_to_x @ q + 4 * np.diag((xi_to_x @ q)[0] + (xi_to_x @ q)[1]))\n",
    "m"
   ]
  },
  {
   "cell_type": "code",
   "execution_count": null,
   "metadata": {},
   "outputs": [],
   "source": [
    "p =10\n",
    "Omega = m - p * constrained_mat"
   ]
  },
  {
   "cell_type": "code",
   "execution_count": null,
   "metadata": {},
   "outputs": [],
   "source": [
    "data = []\n",
    "\n",
    "Alpha = np.array(alpha)\n",
    "Beta = np.array(beta)\n",
    "\n",
    "for psi_vec in product(*[range(2)] * len(psi)):\n",
    "    xi_vec = q @ psi_vec\n",
    "    f_classical = float(f(xi_vec[0], xi_vec[1]) - p*((Alpha @ xi_vec + Beta).T @ (Alpha @ xi_vec + Beta))[0, 0])\n",
    "    f_quantum = float(psi_vec @ Omega @ psi_vec)\n",
    "\n",
    "    data.append(\n",
    "        {\n",
    "            \"x0\": xi_vec[0],\n",
    "            \"x1\": xi_vec[1],\n",
    "            \"s0\": xi_vec[2],\n",
    "            \"f_classical\": f_classical,\n",
    "            \"f_quantum\": f_quantum,\n",
    "        }\n",
    "    )\n",
    "\n",
    "df = pd.DataFrame(data).sort_values(\"f_classical\", ascending=False)\n",
    "df[\"diff\"] = df[\"f_classical\"] - df[\"f_quantum\"]\n",
    "\n",
    "assert df.f_classical.idxmax() == df.f_quantum.idxmax()\n",
    "assert df.f_classical.max() == df.f_quantum.max() + df[\"diff\"].unique()\n",
    "\n",
    "print(\"Best solution:\", df.loc[df.f_quantum.idxmax(), [\"x0\", \"x1\", \"s0\"]].values)\n",
    "\n",
    "df.head(5)"
   ]
  },
  {
   "cell_type": "code",
   "execution_count": null,
   "metadata": {},
   "outputs": [],
   "source": [
    "print(\"Is there a constant difference between classical and qunatum which is b**2?\")\n",
    "assert all(df[\"diff\"].unique() == - p * b ** 2)\n",
    "print(\"-> Yes!\")"
   ]
  }
 ],
 "metadata": {
  "kernelspec": {
   "display_name": "qlp",
   "language": "python",
   "name": "qlp"
  },
  "language_info": {
   "codemirror_mode": {
    "name": "ipython",
    "version": 3
   },
   "file_extension": ".py",
   "mimetype": "text/x-python",
   "name": "python",
   "nbconvert_exporter": "python",
   "pygments_lexer": "ipython3",
   "version": "3.7.5"
  }
 },
 "nbformat": 4,
 "nbformat_minor": 2
}
