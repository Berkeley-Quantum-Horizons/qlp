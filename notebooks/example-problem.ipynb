{
 "cells": [
  {
   "cell_type": "code",
   "execution_count": null,
   "metadata": {},
   "outputs": [],
   "source": [
    "import plotly.graph_objects as go\n",
    "\n",
    "from IPython.display import display\n",
    "from IPython.display import Latex\n",
    "\n",
    "import qlp.eqn_converter as qe\n",
    "import qlp.checks as qc\n",
    "import qlp.example as qex\n",
    "import qlp.example.plotting as qp"
   ]
  },
  {
   "cell_type": "code",
   "execution_count": null,
   "metadata": {},
   "outputs": [],
   "source": [
    "def display_doc(obj):\n",
    "    \"\"\"Displays the doc string of an object\n",
    "    \"\"\"\n",
    "    for line in obj.__doc__.split(\"\\n\\n\"):\n",
    "        display(Latex(line))\n",
    "\n",
    "\n",
    "display_doc(display_doc)"
   ]
  },
  {
   "cell_type": "markdown",
   "metadata": {},
   "source": [
    "# New maximization condition\n"
   ]
  },
  {
   "cell_type": "code",
   "execution_count": null,
   "metadata": {},
   "outputs": [],
   "source": [
    "display_doc(qex.f)"
   ]
  },
  {
   "cell_type": "code",
   "execution_count": null,
   "metadata": {},
   "outputs": [],
   "source": [
    "go.Figure(data=[qp.F_DATA], layout=qp.LAYOUT).show()"
   ]
  },
  {
   "cell_type": "markdown",
   "metadata": {},
   "source": [
    "## Maximization without constraints"
   ]
  },
  {
   "cell_type": "markdown",
   "metadata": {},
   "source": [
    "Let's take a 2 bit basis, so that $M$ is a $4\\times4$ matrix."
   ]
  },
  {
   "cell_type": "code",
   "execution_count": null,
   "metadata": {},
   "outputs": [],
   "source": [
    "n_bits = 2"
   ]
  },
  {
   "cell_type": "code",
   "execution_count": null,
   "metadata": {},
   "outputs": [],
   "source": [
    "display_doc(qex.get_omega_0)\n",
    "\n",
    "omega_0 = qex.get_omega_0(n_bits=n_bits)\n",
    "omega_0"
   ]
  },
  {
   "cell_type": "code",
   "execution_count": null,
   "metadata": {},
   "outputs": [],
   "source": [
    "display_doc(qe.generate_table)\n",
    "qe.generate_table(omega_0, qex.DEPENDENTS, n_bits=n_bits).head(5)"
   ]
  },
  {
   "cell_type": "markdown",
   "metadata": {},
   "source": [
    "# Including constraints"
   ]
  },
  {
   "cell_type": "markdown",
   "metadata": {},
   "source": [
    "## Non-constraining constraints"
   ]
  },
  {
   "cell_type": "code",
   "execution_count": null,
   "metadata": {},
   "outputs": [],
   "source": [
    "x1, x2 = qex.DEPENDENTS\n",
    "\n",
    "inequalities = [4 - x1 - x2 >= 0]\n",
    "display(inequalities[0])"
   ]
  },
  {
   "cell_type": "code",
   "execution_count": null,
   "metadata": {
    "scrolled": false
   },
   "outputs": [],
   "source": [
    "go.Figure(\n",
    "    data=[qp.F_DATA]\n",
    "    + qp.get_constrained_data(inequalities)\n",
    "    + [go.Scatter(x=[2], y=[2], marker={\"color\": \"green\", \"size\": 20})],\n",
    "    layout=qp.LAYOUT,\n",
    ").show()"
   ]
  },
  {
   "cell_type": "code",
   "execution_count": null,
   "metadata": {},
   "outputs": [],
   "source": [
    "display_doc(qex.get_omega)\n",
    "omega = qex.get_omega(inequalities, n_bits, as_numeric=False)\n",
    "display(omega)"
   ]
  },
  {
   "cell_type": "code",
   "execution_count": null,
   "metadata": {},
   "outputs": [],
   "source": [
    "display_doc(qe.generate_constrained_table)\n",
    "constrained_table = qe.generate_constrained_table(inequalities, qex.DEPENDENTS, n_bits)\n",
    "qc.run_checks(constrained_table, inequalities)"
   ]
  },
  {
   "cell_type": "code",
   "execution_count": null,
   "metadata": {},
   "outputs": [],
   "source": [
    "display_doc(qe.generate_table)\n",
    "table = qe.generate_table(omega, qex.DEPENDENTS, 2)\n",
    "table.head(5)"
   ]
  },
  {
   "cell_type": "markdown",
   "metadata": {},
   "source": [
    "## Constraining constraints"
   ]
  },
  {
   "cell_type": "code",
   "execution_count": null,
   "metadata": {},
   "outputs": [],
   "source": [
    "x1, x2 = qex.DEPENDENTS\n",
    "\n",
    "inequalities = [6 - x1 - 3 * x2 >= 0]"
   ]
  },
  {
   "cell_type": "code",
   "execution_count": null,
   "metadata": {},
   "outputs": [],
   "source": [
    "go.Figure(\n",
    "    data=[qp.F_DATA]\n",
    "    + qp.get_constrained_data(inequalities)\n",
    "    + [go.Scatter(x=[2], y=[1], marker={\"color\": \"green\", \"size\": 20})],\n",
    "    layout=qp.LAYOUT,\n",
    ").show()"
   ]
  },
  {
   "cell_type": "code",
   "execution_count": null,
   "metadata": {},
   "outputs": [],
   "source": [
    "omega = qex.get_omega(inequalities, n_bits, as_numeric=True)\n",
    "qe.generate_table(omega, qex.DEPENDENTS, n_bits).sort_values(\n",
    "    \"value\", ascending=False\n",
    ").head(5)"
   ]
  },
  {
   "cell_type": "markdown",
   "metadata": {},
   "source": [
    "## Degenerate constraints"
   ]
  },
  {
   "cell_type": "code",
   "execution_count": null,
   "metadata": {},
   "outputs": [],
   "source": [
    "x1, x2 = qex.DEPENDENTS\n",
    "\n",
    "inequalities = [3 - x1 - x2 >= 0]"
   ]
  },
  {
   "cell_type": "code",
   "execution_count": null,
   "metadata": {},
   "outputs": [],
   "source": [
    "go.Figure(\n",
    "    data=[qp.F_DATA]\n",
    "    + qp.get_constrained_data(inequalities)\n",
    "    + [go.Scatter(x=[2, 1], y=[1, 2], marker={\"color\": \"green\", \"size\": 20}, line_width=0)],\n",
    "    layout=qp.LAYOUT,\n",
    ").show()"
   ]
  },
  {
   "cell_type": "code",
   "execution_count": null,
   "metadata": {},
   "outputs": [],
   "source": [
    "omega = qex.get_omega(inequalities, n_bits, as_numeric=True)\n",
    "qe.generate_table(omega, qex.DEPENDENTS, n_bits).sort_values(\n",
    "    \"value\", ascending=False\n",
    ").head(5)"
   ]
  },
  {
   "cell_type": "code",
   "execution_count": null,
   "metadata": {},
   "outputs": [],
   "source": []
  }
 ],
 "metadata": {
  "kernelspec": {
   "display_name": "qlp",
   "language": "python",
   "name": "qlp"
  },
  "language_info": {
   "codemirror_mode": {
    "name": "ipython",
    "version": 3
   },
   "file_extension": ".py",
   "mimetype": "text/x-python",
   "name": "python",
   "nbconvert_exporter": "python",
   "pygments_lexer": "ipython3",
   "version": "3.7.5"
  }
 },
 "nbformat": 4,
 "nbformat_minor": 2
}
