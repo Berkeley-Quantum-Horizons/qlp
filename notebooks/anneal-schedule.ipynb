{
 "cells": [
  {
   "cell_type": "markdown",
   "metadata": {},
   "source": [
    "# Benchmark for d-wave"
   ]
  },
  {
   "cell_type": "code",
   "execution_count": 1,
   "metadata": {},
   "outputs": [],
   "source": [
    "from typing import Dict, Tuple, Set, List, Any"
   ]
  },
  {
   "cell_type": "code",
   "execution_count": 2,
   "metadata": {},
   "outputs": [],
   "source": [
    "import matplotlib.pylab as plt"
   ]
  },
  {
   "cell_type": "code",
   "execution_count": 3,
   "metadata": {},
   "outputs": [],
   "source": [
    "from dwave.system.samplers import DWaveSampler\n",
    "from dwave.system.composites import EmbeddingComposite"
   ]
  },
  {
   "cell_type": "code",
   "execution_count": 4,
   "metadata": {},
   "outputs": [],
   "source": [
    "base_params = {\n",
    "    \"answer_mode\": \"raw\",\n",
    "    \"auto_scale\": True,\n",
    "    \"num_reads\": 1,  # raw will dump out all results\n",
    "}\n",
    "sampler = DWaveSampler(solver=\"DW_2000Q_5\")\n",
    "embedding = EmbeddingComposite(sampler)"
   ]
  },
  {
   "cell_type": "code",
   "execution_count": 5,
   "metadata": {},
   "outputs": [],
   "source": [
    "from qlp.mds import graph_tools as gt\n",
    "from qlp.mds.qubo import get_mds_qubo\n",
    "from qlp.mds.solver import classical_search, mds_schedule_submit"
   ]
  },
  {
   "cell_type": "markdown",
   "metadata": {},
   "source": [
    "# Examples"
   ]
  },
  {
   "cell_type": "markdown",
   "metadata": {},
   "source": [
    "## Most simple graph with unique sol"
   ]
  },
  {
   "cell_type": "code",
   "execution_count": 6,
   "metadata": {},
   "outputs": [
    {
     "data": {
      "image/png": "[encoded data removed]",
      "text/plain": [
       "<Figure size 432x288 with 1 Axes>"
      ]
     },
     "metadata": {},
     "output_type": "display_data"
    }
   ],
   "source": [
    "graph = {(1, 0,), (2, 0)}\n",
    "\n",
    "gt.get_plot(graph)\n",
    "plt.show()"
   ]
  },
  {
   "cell_type": "code",
   "execution_count": 7,
   "metadata": {},
   "outputs": [
    {
     "data": {
      "text/plain": [
       "matrix([[-11,   8,   8,  -8, -16,  -8,  -8],\n",
       "        [  8,  -7,   4,  -8, -16,  -8,   0],\n",
       "        [  8,   4,  -7,  -8, -16,   0,  -8],\n",
       "        [  0,   0,   0,  12,   8,   0,   0],\n",
       "        [  0,   0,   0,   8,  32,   0,   0],\n",
       "        [  0,   0,   0,   0,   0,  12,   0],\n",
       "        [  0,   0,   0,   0,   0,   0,  12]], dtype=int32)"
      ]
     },
     "execution_count": 7,
     "metadata": {},
     "output_type": "execute_result"
    }
   ],
   "source": [
    "qubo = get_mds_qubo(graph)\n",
    "qubo.todense()"
   ]
  },
  {
   "cell_type": "markdown",
   "metadata": {},
   "source": [
    "### Solve problem on D-Wave"
   ]
  },
  {
   "cell_type": "code",
   "execution_count": 8,
   "metadata": {},
   "outputs": [
    {
     "name": "stderr",
     "output_type": "stream",
     "text": [
      "100%|██████████| 128/128 [00:00<00:00, 6124.12it/s]"
     ]
    },
    {
     "name": "stdout",
     "output_type": "stream",
     "text": [
      "Brute force search classical minimal energy -11\n"
     ]
    },
    {
     "name": "stderr",
     "output_type": "stream",
     "text": [
      "\n"
     ]
    },
    {
     "data": {
      "image/png": "[encoded data removed]",
      "text/plain": [
       "<Figure size 432x288 with 1 Axes>"
      ]
     },
     "metadata": {},
     "output_type": "display_data"
    }
   ],
   "source": [
    "e, nodes = classical_search(qubo)\n",
    "print(\"Brute force search classical minimal energy\", e)\n",
    "gt.get_plot(graph, nodes[0])\n",
    "plt.show()"
   ]
  },
  {
   "cell_type": "code",
   "execution_count": 9,
   "metadata": {},
   "outputs": [
    {
     "name": "stdout",
     "output_type": "stream",
     "text": [
      "Help on function mds_schedule_submit in module qlp.mds.solver:\n",
      "\n",
      "mds_schedule_submit(graph: Set[Tuple[int, int]], p_schedules: List[Dict[str, Any]], embbedding: 'Embedding', **kwargs) -> List[Dict[str, Any]]\n",
      "    Submits MDS with different schedules for the penalty term.\n",
      "    \n",
      "    The final state of each schedule is used as the initial_state for the next schedule.\n",
      "    The first schedule does not use initial_state.\n",
      "    Each schedule uses exactly one read (`num_reads=1`)\n",
      "    \n",
      "    Arguments:\n",
      "        graph: The graph for the MDS defined by a set of edges.\n",
      "        p_schedules: The penalty term schedules. A list of dicts with two keys:\n",
      "            * the penalty (int)\n",
      "            * and the schedule (list of tuples where the first entry is the start time\n",
      "                and the second is the value for annealing parameters s).\n",
      "        embbedding: The embedding used to `sample_qubo`.\n",
      "        kwargs: Override `sample_qubo` parameters (besides `num_reads`).\n",
      "    \n",
      "    Returns:\n",
      "        A list of dictinoaries containing input and output of each schedule.\n",
      "    \n",
      "    Example:\n",
      "        Suppose you want to submit two schedules for p: a small penalty to start and a\n",
      "        large penalty to fix.\n",
      "    \n",
      "        (1)  |   .                      (2)   | .       .\n",
      "           s | .      where p = 1 and       s |   . . .     where p = 9\n",
      "             |_____                           |___________\n",
      "    \n",
      "        This corresponds to\n",
      "    \n",
      "        ```\n",
      "        p_schedules = [\n",
      "            {\"penalty\": 1, \"schedule\": [(0, 0.0), (200, 1.0)]},\n",
      "            {\"penalty\": 9, \"schedule\": [(0, 1.0), (200, 0.5), (400, 0.5), (600, 1.0)]},\n",
      "        ]\n",
      "        ```\n",
      "\n"
     ]
    }
   ],
   "source": [
    "help(mds_schedule_submit)"
   ]
  },
  {
   "cell_type": "code",
   "execution_count": 10,
   "metadata": {},
   "outputs": [],
   "source": [
    "p_schedules = [\n",
    "    {\"penalty\": 1, \"schedule\": [(0, 0.0), (400, 1.0)]},\n",
    "    {\"penalty\": 9, \"schedule\": [(0, 1.0), (200, 0.5), (400, 0.5), (600, 1.0)]},\n",
    "]"
   ]
  },
  {
   "cell_type": "code",
   "execution_count": 11,
   "metadata": {},
   "outputs": [],
   "source": [
    "results = mds_schedule_submit(graph, p_schedules, embedding)"
   ]
  },
  {
   "cell_type": "code",
   "execution_count": 12,
   "metadata": {},
   "outputs": [
    {
     "data": {
      "text/plain": [
       "[{'answer_mode': 'raw',\n",
       "  'auto_scale': True,\n",
       "  'num_reads': 1,\n",
       "  'anneal_schedule': [(0, 0.0), (400, 1.0)],\n",
       "  'penalty': 1,\n",
       "  'initial_state': None,\n",
       "  'final_state': {0: 0, 1: 1, 2: 1, 3: 0, 4: 0, 5: 0, 6: 0},\n",
       "  'energy_unshifted': 0.0,\n",
       "  'energy': 3.0,\n",
       "  'chain_break_fraction': 0.2857142857142857},\n",
       " {'answer_mode': 'raw',\n",
       "  'auto_scale': True,\n",
       "  'num_reads': 1,\n",
       "  'reinitialize_state': False,\n",
       "  'initial_state': {0: 0, 1: 1, 2: 1, 3: 0, 4: 0, 5: 0, 6: 0},\n",
       "  'anneal_schedule': [(0, 1.0), (200, 0.5), (400, 0.5), (600, 1.0)],\n",
       "  'penalty': 9,\n",
       "  'final_state': {0: 1, 1: 1, 2: 1, 3: 1, 4: 0, 5: 1, 6: 1},\n",
       "  'energy_unshifted': -15.0,\n",
       "  'energy': 12.0,\n",
       "  'chain_break_fraction': 0.8571428571428571}]"
      ]
     },
     "execution_count": 12,
     "metadata": {},
     "output_type": "execute_result"
    }
   ],
   "source": [
    "results"
   ]
  },
  {
   "cell_type": "code",
   "execution_count": null,
   "metadata": {},
   "outputs": [],
   "source": []
  }
 ],
 "metadata": {
  "kernelspec": {
   "display_name": "quantum_linear_programming",
   "language": "python",
   "name": "quantum_linear_programming"
  },
  "language_info": {
   "codemirror_mode": {
    "name": "ipython",
    "version": 3
   },
   "file_extension": ".py",
   "mimetype": "text/x-python",
   "name": "python",
   "nbconvert_exporter": "python",
   "pygments_lexer": "ipython3",
   "version": "3.7.4"
  }
 },
 "nbformat": 4,
 "nbformat_minor": 2
}
