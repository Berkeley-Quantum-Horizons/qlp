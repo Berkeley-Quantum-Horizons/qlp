{
 "cells": [
  {
   "cell_type": "code",
   "execution_count": 16,
   "metadata": {},
   "outputs": [],
   "source": [
    "import os\n",
    "os.environ[\"DJANGO_ALLOW_ASYNC_UNSAFE\"] = \"true\"\n",
    "\n",
    "from qlpdb.graph.models import Graph as graph_Graph\n",
    "from qlpdb.experiment.models import DWaveExperiment as experiment_Experiment\n",
    "from qlpdb.data.models import Data as data_Data\n",
    "\n",
    "from qlp.mds import graph_tools as gt\n",
    "from qlp.mds.qubo import get_mds_qubo\n",
    "from qlp.mds.mds_qlpdb import QUBO_to_Ising\n",
    "\n",
    "import networkx as nx\n",
    "import matplotlib.pyplot as plt\n",
    "import numpy as np"
   ]
  },
  {
   "cell_type": "code",
   "execution_count": 17,
   "metadata": {},
   "outputs": [],
   "source": [
    "# available graphs\n",
    "# vertices = 4, 7, \n",
    "total_vertices = 4"
   ]
  },
  {
   "cell_type": "code",
   "execution_count": 18,
   "metadata": {
    "scrolled": false
   },
   "outputs": [
    {
     "name": "stdout",
     "output_type": "stream",
     "text": [
      "1\n"
     ]
    },
    {
     "data": {
      "image/png": "[encoded data removed]",
      "text/plain": [
       "<Figure size 432x288 with 1 Axes>"
      ]
     },
     "metadata": {},
     "output_type": "display_data"
    },
    {
     "name": "stdout",
     "output_type": "stream",
     "text": [
      "2\n"
     ]
    },
    {
     "data": {
      "image/png": "[encoded data removed]",
      "text/plain": [
       "<Figure size 432x288 with 1 Axes>"
      ]
     },
     "metadata": {},
     "output_type": "display_data"
    }
   ],
   "source": [
    "graphs = graph_Graph.objects.filter(total_vertices=total_vertices)\n",
    "for idx, graph in enumerate(graphs):\n",
    "    # plot graph\n",
    "    adjacency_map = graph.adjacency\n",
    "    gt.get_plot(adjacency_map, directed=False)\n",
    "    print(graph.id)\n",
    "    plt.show()"
   ]
  },
  {
   "cell_type": "code",
   "execution_count": 19,
   "metadata": {},
   "outputs": [],
   "source": [
    "# Choose graph to read out\n",
    "graph_id = 2"
   ]
  },
  {
   "cell_type": "code",
   "execution_count": 20,
   "metadata": {},
   "outputs": [
    {
     "name": "stdout",
     "output_type": "stream",
     "text": [
      "1\n",
      "DWaveExperiment[Experiment](machine=Advantage_system1.1, settings={'num_reads': 1000, 'auto_scale': True, 'answer_mode': 'raw', 'annealing_time': 800, 'chain_strength': 8.0, 'readout_thermalization': 0, 'programming_thermalization': 1000, 'num_spin_reversal_transforms': 0}, settings_hash=a28cd1f58c9d677c03a5580887738add, p=2.00, chain_strength=8.0, tag=FixEmbedding_Binary_0_0_z0)\n"
     ]
    }
   ],
   "source": [
    "for idx, experiment in enumerate(experiment_Experiment.objects.filter(graph_id = graph_id)):\n",
    "    print(experiment.id)\n",
    "    print(experiment)"
   ]
  },
  {
   "cell_type": "code",
   "execution_count": 21,
   "metadata": {},
   "outputs": [],
   "source": [
    "# Choose experiment parameters\n",
    "experiment_id = 1"
   ]
  },
  {
   "cell_type": "code",
   "execution_count": 22,
   "metadata": {},
   "outputs": [
    {
     "name": "stdout",
     "output_type": "stream",
     "text": [
      "QUBO formulation\n",
      "[[-5. 12. 12.  8. -4. -8. -4. -8. -4. -8.  0.  0.]\n",
      " [ 0. -7. 16. 12. -4. -8. -4. -8. -4. -8. -4. -8.]\n",
      " [ 0.  0. -7. 12. -4. -8. -4. -8. -4. -8. -4. -8.]\n",
      " [ 0.  0.  0. -5.  0.  0. -4. -8. -4. -8. -4. -8.]\n",
      " [ 0.  0.  0.  0.  6.  8.  0.  0.  0.  0.  0.  0.]\n",
      " [ 0.  0.  0.  0.  0. 16.  0.  0.  0.  0.  0.  0.]\n",
      " [ 0.  0.  0.  0.  0.  0.  6.  8.  0.  0.  0.  0.]\n",
      " [ 0.  0.  0.  0.  0.  0.  0. 16.  0.  0.  0.  0.]\n",
      " [ 0.  0.  0.  0.  0.  0.  0.  0.  6.  8.  0.  0.]\n",
      " [ 0.  0.  0.  0.  0.  0.  0.  0.  0. 16.  0.  0.]\n",
      " [ 0.  0.  0.  0.  0.  0.  0.  0.  0.  0.  6.  8.]\n",
      " [ 0.  0.  0.  0.  0.  0.  0.  0.  0.  0.  0. 16.]]\n",
      "Ising formulation\n",
      "[[ 0.  3.  3.  2. -1. -2. -1. -2. -1. -2.  0.  0.]\n",
      " [ 0.  0.  4.  3. -1. -2. -1. -2. -1. -2. -1. -2.]\n",
      " [ 0.  0.  0.  3. -1. -2. -1. -2. -1. -2. -1. -2.]\n",
      " [ 0.  0.  0.  0.  0.  0. -1. -2. -1. -2. -1. -2.]\n",
      " [ 0.  0.  0.  0.  0.  2.  0.  0.  0.  0.  0.  0.]\n",
      " [ 0.  0.  0.  0.  0.  0.  0.  0.  0.  0.  0.  0.]\n",
      " [ 0.  0.  0.  0.  0.  0.  0.  2.  0.  0.  0.  0.]\n",
      " [ 0.  0.  0.  0.  0.  0.  0.  0.  0.  0.  0.  0.]\n",
      " [ 0.  0.  0.  0.  0.  0.  0.  0.  0.  2.  0.  0.]\n",
      " [ 0.  0.  0.  0.  0.  0.  0.  0.  0.  0.  0.  0.]\n",
      " [ 0.  0.  0.  0.  0.  0.  0.  0.  0.  0.  0.  2.]\n",
      " [ 0.  0.  0.  0.  0.  0.  0.  0.  0.  0.  0.  0.]]\n",
      "[ 3.5  5.5  5.5  3.5 -2.  -4.  -1.  -2.  -1.  -2.  -2.  -4. ]\n",
      "16.0\n"
     ]
    }
   ],
   "source": [
    "# Print QUBO and Ising\n",
    "penalty = float(experiment_Experiment.objects.get(id=experiment_id).p)\n",
    "adjacency_map = {tuple(edge) for edge in graph_Graph.objects.get(id = graph_id).adjacency}\n",
    "qubo = get_mds_qubo(adjacency_map, penalty=penalty, directed=False, triangularize=True, dtype=\"d\")\n",
    "print(\"QUBO formulation\")\n",
    "print(qubo.todense())\n",
    "J, h, C = QUBO_to_Ising(qubo.todense().tolist())\n",
    "print(\"Ising formulation\")\n",
    "print(J)\n",
    "print(h)\n",
    "print(C)\n",
    "#data_Data.objects.filter(experiment_id = experiment_id)"
   ]
  },
  {
   "cell_type": "code",
   "execution_count": 27,
   "metadata": {},
   "outputs": [
    {
     "data": {
      "text/plain": [
       "<BarContainer object of 10 artists>"
      ]
     },
     "execution_count": 27,
     "metadata": {},
     "output_type": "execute_result"
    },
    {
     "data": {
      "image/png": "[encoded data removed]",
      "text/plain": [
       "<Figure size 432x288 with 1 Axes>"
      ]
     },
     "metadata": {
      "needs_background": "light"
     },
     "output_type": "display_data"
    }
   ],
   "source": [
    "# get data\n",
    "energy = dict()\n",
    "for row in data_Data.objects.filter(experiment_id = experiment_id):\n",
    "    if row.energy in energy:\n",
    "        energy[row.energy] += 1\n",
    "    else:\n",
    "        energy[row.energy] = 1\n",
    "x = np.sort(list(energy.keys()))\n",
    "y = [energy[i] for i in x]\n",
    "plt.bar(x=x, height=y)"
   ]
  },
  {
   "cell_type": "code",
   "execution_count": null,
   "metadata": {},
   "outputs": [],
   "source": []
  }
 ],
 "metadata": {
  "kernelspec": {
   "display_name": "qlp",
   "language": "python",
   "name": "qlp"
  },
  "language_info": {
   "codemirror_mode": {
    "name": "ipython",
    "version": 3
   },
   "file_extension": ".py",
   "mimetype": "text/x-python",
   "name": "python",
   "nbconvert_exporter": "python",
   "pygments_lexer": "ipython3",
   "version": "3.8.5"
  }
 },
 "nbformat": 4,
 "nbformat_minor": 4
}
