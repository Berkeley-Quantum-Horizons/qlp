{
 "cells": [
  {
   "cell_type": "code",
   "execution_count": 1,
   "metadata": {},
   "outputs": [],
   "source": [
    "import matplotlib.pylab as plt\n",
    "import os\n",
    "\n",
    "os.environ[\"DJANGO_ALLOW_ASYNC_UNSAFE\"] = \"true\"\n",
    "import numpy as np\n",
    "import pandas as pd\n",
    "\n",
    "import networkx as nx\n",
    "from networkx import Graph\n",
    "from networkx.drawing.nx_pylab import draw\n",
    "from networkx.algorithms.approximation import min_weighted_dominating_set\n",
    "from networkx.algorithms.dominating import dominating_set\n",
    "\n",
    "from dwave.system.samplers import DWaveSampler\n",
    "from minorminer import find_embedding\n",
    "from dwave.system.composites import EmbeddingComposite, FixedEmbeddingComposite\n",
    "from dimod.utilities import qubo_to_ising\n",
    "from dwave.embedding import embed_qubo\n",
    "\n",
    "from qlp.mds import graph_tools as gt\n",
    "from qlp.mds.qubo import get_mds_qubo\n",
    "from qlp.mds.solver import classical_search\n",
    "from qlp.mds.mds_qlpdb import (\n",
    "    QUBO_to_Ising,\n",
    "    retry_embedding,\n",
    "    find_offset,\n",
    "    AnnealOffset,\n",
    "    plot_anneal_offset,\n",
    ")"
   ]
  },
  {
   "cell_type": "code",
   "execution_count": 23,
   "metadata": {},
   "outputs": [],
   "source": [
    "nvertices = 5"
   ]
  },
  {
   "cell_type": "code",
   "execution_count": 62,
   "metadata": {},
   "outputs": [
    {
     "name": "stdout",
     "output_type": "stream",
     "text": [
      "{(0, 1), (1, 2), (0, 4), (3, 4)}\n",
      "{(2, 3), (2, 4), (0, 3), (1, 4)}\n",
      "isomorphic True\n"
     ]
    },
    {
     "data": {
      "image/png": "[encoded data removed]",
      "text/plain": [
       "<Figure size 432x288 with 1 Axes>"
      ]
     },
     "metadata": {},
     "output_type": "display_data"
    },
    {
     "data": {
      "image/png": "[encoded data removed]",
      "text/plain": [
       "<Figure size 432x288 with 1 Axes>"
      ]
     },
     "metadata": {},
     "output_type": "display_data"
    },
    {
     "name": "stdout",
     "output_type": "stream",
     "text": [
      "Greedy solution\n",
      " {0, 2, 3}\n"
     ]
    }
   ],
   "source": [
    "#graph, tag = gt.generate_nn_graph(nvertices)\n",
    "#graph, tag = gt.generate_corona_graph(2, 0)\n",
    "\n",
    "graph, tag = gt.generate_erdos_renyi_graph(nvertices, np.log(nvertices)/nvertices)\n",
    "print(graph)\n",
    "from networkx.readwrite.edgelist import parse_edgelist\n",
    "elist = [f\"{i[0]} {i[1]}\" for i in graph]\n",
    "G = parse_edgelist(elist)\n",
    "\n",
    "from networkx.algorithms.isomorphism import is_isomorphic\n",
    "graph1, tag = gt.generate_erdos_renyi_graph(nvertices, np.log(nvertices)/nvertices)\n",
    "print(graph1)\n",
    "elist = [f\"{i[0]} {i[1]}\" for i in graph1]\n",
    "G1 = parse_edgelist(elist)\n",
    "print(\"isomorphic\", is_isomorphic(G, G1))\n",
    "\n",
    "# plot graph\n",
    "gt.get_plot(graph, directed=False)\n",
    "plt.show()\n",
    "gt.get_plot(graph1, directed=False)\n",
    "plt.show()\n",
    "\n",
    "penalty = 2\n",
    "qubo = get_mds_qubo(\n",
    "    graph, directed=False, penalty=penalty, triangularize=True, dtype=\"d\"\n",
    ")\n",
    "\n",
    "\n",
    "q_min = np.array(list(qubo.values())).min()\n",
    "\n",
    "# greedy solution\n",
    "G = nx.Graph()\n",
    "G.add_edges_from(graph)\n",
    "print(\"Greedy solution\\n\", dominating_set(G))"
   ]
  },
  {
   "cell_type": "code",
   "execution_count": null,
   "metadata": {},
   "outputs": [],
   "source": [
    "# Embedding retries\n",
    "retries = 100000\n",
    "# Set functional form of anneal offset\n",
    "target_min = -0.08\n",
    "target_range = 0.11\n",
    "problem_min = 0\n",
    "#problem_range = 2*abs(pmin)\n",
    "problem_range = abs(problem_min)\n",
    "# DWave parameters\n",
    "annealing_time = 800  # integer microseconds [1, 2000] #OPTIMIZED\n",
    "answer_mode = \"histogram\"  # histogram or raw\n",
    "auto_scale = True\n",
    "num_reads = 1000  # raw will dump out all results\n",
    "num_spin_reversal_transforms = 0 # OPTIMIZED\n",
    "readout_thermalization = 0  # default 0\n",
    "programming_thermalization = 1000  # default 1000\n",
    "\n",
    "solver = \"Advantage_system1.1\"\n",
    "sampler = DWaveSampler(solver=solver)"
   ]
  },
  {
   "cell_type": "code",
   "execution_count": null,
   "metadata": {},
   "outputs": [],
   "source": [
    "# convert to Ising\n",
    "J, h, C = QUBO_to_Ising(qubo.todense().tolist())\n",
    "maxJ = max(abs(J).flatten())\n",
    "maxh = max(abs(h))\n",
    "# Set chain strength\n",
    "chain_strength = maxJ * 2\n",
    "\n",
    "qubo_dict = {key: val for key, val in zip(qubo.keys(), qubo.values())}\n",
    "qpu_graph = sampler.edgelist\n",
    "embed, embedding, min_offset, max_offset = retry_embedding(\n",
    "    sampler=sampler,\n",
    "    qubo_dict=qubo_dict,\n",
    "    qpu_graph=qpu_graph,\n",
    "    graph_tag=tag,\n",
    "    target_min=target_min,\n",
    "    target_range=target_range,\n",
    "    n_tries=retries,\n",
    ")\n",
    "\n",
    "dwave_config = {\n",
    "    \"annealing_time\": annealing_time,  # integer microseconds [1, 2000]\n",
    "    \"answer_mode\": answer_mode,  # histogram or raw\n",
    "    \"auto_scale\": auto_scale,\n",
    "    \"num_reads\": num_reads,  # raw will dump out all results\n",
    "    \"num_spin_reversal_transforms\": num_spin_reversal_transforms,\n",
    "    \"readout_thermalization\": readout_thermalization,  # default 0\n",
    "    \"programming_thermalization\": programming_thermalization,  # default 1000\n",
    "    \"chain_strength\": chain_strength,\n",
    "}\n",
    "\n",
    "result = embed.sample_qubo(qubo_dict, **dwave_config)\n",
    "raw = result.to_pandas_dataframe()"
   ]
  },
  {
   "cell_type": "code",
   "execution_count": null,
   "metadata": {},
   "outputs": [],
   "source": [
    "raw.sort_values(\"energy\", ascending=True)"
   ]
  },
  {
   "cell_type": "code",
   "execution_count": null,
   "metadata": {},
   "outputs": [],
   "source": []
  }
 ],
 "metadata": {
  "kernelspec": {
   "display_name": "qlp",
   "language": "python",
   "name": "qlp"
  },
  "language_info": {
   "codemirror_mode": {
    "name": "ipython",
    "version": 3
   },
   "file_extension": ".py",
   "mimetype": "text/x-python",
   "name": "python",
   "nbconvert_exporter": "python",
   "pygments_lexer": "ipython3",
   "version": "3.8.5"
  }
 },
 "nbformat": 4,
 "nbformat_minor": 4
}
