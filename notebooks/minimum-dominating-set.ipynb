{
 "cells": [
  {
   "cell_type": "markdown",
   "metadata": {},
   "source": [
    "# Minimum Dominating Set Challenge"
   ]
  },
  {
   "cell_type": "markdown",
   "metadata": {},
   "source": [
    "## Setup"
   ]
  },
  {
   "cell_type": "code",
   "execution_count": null,
   "metadata": {},
   "outputs": [],
   "source": [
    "from typing import Set, Tuple, Optional, List\n",
    "\n",
    "from itertools import product\n",
    "\n",
    "import numpy as np\n",
    "from numpy import random as rand\n",
    "from scipy.sparse import dok_matrix, csr_matrix, bmat\n",
    "\n",
    "import networkx as nx\n",
    "\n",
    "from bokeh.io import show, output_notebook\n",
    "from bokeh.models import Plot, Range1d, MultiLine, Circle, HoverTool\n",
    "from bokeh.models.graphs import from_networkx\n",
    "from bokeh.palettes import Spectral4\n",
    "\n",
    "output_notebook()"
   ]
  },
  {
   "cell_type": "code",
   "execution_count": null,
   "metadata": {},
   "outputs": [],
   "source": [
    "rand.seed(42)"
   ]
  },
  {
   "cell_type": "code",
   "execution_count": null,
   "metadata": {},
   "outputs": [],
   "source": [
    "n_nodes = 5\n",
    "n_edges = 5\n",
    "\n",
    "n_edge_max = 3"
   ]
  },
  {
   "cell_type": "code",
   "execution_count": null,
   "metadata": {},
   "outputs": [],
   "source": [
    "def generate_graph(n_nodes: int, n_edges: int, n_edge_max: int = 5) -> Set[Tuple[int]]:\n",
    "    \"\"\"Creates random edges for graph.\n",
    "    \n",
    "    Node labels are from 0 to n_nodes - 1 \n",
    "    \n",
    "    Arguments:\n",
    "        n_nodes: Number of nodes\n",
    "        n_edges: Number of edges\n",
    "        n_edge_max: Maximal number of edges for graph\n",
    "        \n",
    "    Todo:\n",
    "        What about connected / unconnected graphs?\n",
    "        Am I creating the right graph? \n",
    "        Think about ill input conditions.\n",
    "    \"\"\"\n",
    "    assert n_edge_max > 0\n",
    "    assert n_nodes * n_edge_max // 2 > n_edges\n",
    "\n",
    "    nodes = {n: 0 for n in range(n_nodes)}\n",
    "    edges = set()\n",
    "\n",
    "    while len(edges) < n_edges:\n",
    "        choices = [n for n, count in nodes.items() if count <= n_edge_max]\n",
    "        e1, e2 = (int(e) for e in rand.choice(choices, size=2, replace=False))\n",
    "        edge = (e2, e1) if e2 < e1 else (e1, e2)\n",
    "        if edge not in edges:\n",
    "            edges.add(edge)\n",
    "            nodes[e1] += 1\n",
    "            nodes[e2] += 2\n",
    "\n",
    "    return edges\n",
    "\n",
    "\n",
    "test_graph = generate_graph(n_nodes, n_edges, n_edge_max=n_edge_max)"
   ]
  },
  {
   "cell_type": "code",
   "execution_count": null,
   "metadata": {
    "scrolled": false
   },
   "outputs": [],
   "source": [
    "def get_plot(graph: Set[Tuple[int]], color_nodes: Optional[List[int]] = None) -> Plot:\n",
    "    \"\"\"Creates bokeh graph plot from edge set.\n",
    "    \n",
    "    Arguments:\n",
    "        graph: The graph to plot.\n",
    "        color_nodes: Colors given nodes green, default is white.\n",
    "    \"\"\"\n",
    "    color_nodes = color_nodes or []\n",
    "\n",
    "    G = nx.Graph(list(graph))\n",
    "    edge_attrs = {}\n",
    "    node_attrs = {}\n",
    "\n",
    "    for start_node, end_node, _ in G.edges(data=True):\n",
    "        edge_attrs[(start_node, end_node)] = \"black\"\n",
    "\n",
    "    for node in G.nodes:\n",
    "        node_attrs[node] = \"green\" if node in color_nodes else \"white\"\n",
    "\n",
    "    nx.set_edge_attributes(G, edge_attrs, \"edge_color\")\n",
    "    nx.set_node_attributes(G, node_attrs, \"node_color\")\n",
    "\n",
    "    # Show with Bokeh\n",
    "    plot = Plot(\n",
    "        plot_width=400,\n",
    "        plot_height=400,\n",
    "        x_range=Range1d(-1.1, 1.1),\n",
    "        y_range=Range1d(-1.1, 1.1),\n",
    "    )\n",
    "\n",
    "    graph_renderer = from_networkx(G, nx.spring_layout, scale=1, center=(0, 0))\n",
    "    graph_renderer.node_renderer.glyph = Circle(size=15, fill_color=\"node_color\")\n",
    "    plot.renderers.append(graph_renderer)\n",
    "\n",
    "    node_hover_tool = HoverTool(tooltips=[(\"index\", \"@index\")])\n",
    "    plot.add_tools(node_hover_tool)\n",
    "\n",
    "    return plot\n",
    "\n",
    "\n",
    "plot = get_plot(test_graph)\n",
    "show(plot)"
   ]
  },
  {
   "cell_type": "markdown",
   "metadata": {},
   "source": [
    "Form of the matrix which can be plugged in the annealer.\n",
    "\n",
    "The condition to minimize is \n",
    "\n",
    "$$\n",
    "    \\sum_{i=0}^{N_n} x_i  \\quad \\Leftrightarrow \\quad \\vec x \\cdot \\mathbb{1} \\cdot \\vec x\n",
    "$$\n",
    "\n",
    "with $x_i = 1, 0$ specifying wethere a node is in the dominating set or not.\n",
    "\n",
    "This condition needs to be minimized under the constraint\n",
    "\n",
    "$$\n",
    "    x_i + \\sum_{j \\in \\mathcal{N}_i} x_j \\geq 1 \\, \\forall_{i} \\in V\n",
    "$$\n",
    "where $\\mathcal{N}_i$ is the neighborhood of $i$.\n",
    "This is equivalent ot saying that for all vertex, the vertex at least one neighboring vertex must be included in the dominating set.\n",
    "\n",
    "\n",
    "This constraint can be mapped to\n",
    "$$\n",
    "    x_i  - s_{i} - 1 + \\sum_{j \\in \\mathcal{N}_i} x_j = 0 \\, , \\quad s_{i} \\geq 0 \\, .\n",
    "$$\n",
    "So we have to map each $s$ to integers.\n",
    "The above equation can only be zero if at least on of $x = 1$."
   ]
  },
  {
   "cell_type": "markdown",
   "metadata": {},
   "source": [
    "Thus our D-Wave function is\n",
    "\n",
    "$$\n",
    "    \\text{argmin}_{\\vec x, \\vec s}\\left[\n",
    "        \\sum_{i=0}^{N_n-1} x_i\n",
    "        + p\n",
    "        \\sum_{i=0}^{N_n-1} \\left(x_i  - s_{i} - 1  + \\sum_{j \\in\\mathcal{N}_i} x_j\\right)^2 = 0\n",
    "    \\right]\n",
    "    \\, ,\n",
    "$$\n",
    "with $p > N_n$."
   ]
  },
  {
   "cell_type": "markdown",
   "metadata": {},
   "source": [
    "Now we have that $|\\mathcal{N}_i| \\leq 2^{b_i} = \\max(s_i)$ .\n",
    "Meaning $s_i = \\sum_{k=0}^{b_i} 2^k q_k$ with $ q_k = 0, 1$.\n",
    "\n",
    "\\begin{align}\n",
    "    \\sum_{i=0}^{N_n-1} \\left(x_i - s_{i} - 1 + \\sum_{j \\in\\mathcal{N}_i} x_j\\right)^2\n",
    "    &=\n",
    "    \\alpha_{i_1 i_2} x_{i_1} x_{i_2}\n",
    "    + \\beta_{i_1 i_2} x_{i_1} q_{k_2}\n",
    "    + \\gamma_{i_1 i_2} q_{k_1} q_{k_2}\n",
    "    + 1\n",
    "    =\n",
    "    \\psi Q \\psi + 1\n",
    "\\end{align}\n",
    "such that\n",
    "$$\n",
    "    Q = \\begin{pmatrix}\\alpha & \\beta \\\\ 0 & \\gamma \\end{pmatrix}\n",
    "    \\, , \\qquad\n",
    "    \\psi = \\begin{pmatrix} \\vec x \\\\ \\vec q\\end{pmatrix}\n",
    "$$"
   ]
  },
  {
   "cell_type": "markdown",
   "metadata": {},
   "source": [
    "With\n",
    "\n",
    "\\begin{align}\n",
    "    \\alpha \\leftrightarrow & \n",
    "        x_i^2 + 2 x_i \\sum_j x_j  - 2 x_i - 2 \\sum_j x_j + \\left(\\sum_j x_j\\right)^2\n",
    "    \\, , &\n",
    "    \\beta \\leftrightarrow & \n",
    "        - 2 x_i s_i - 2 s_i \\sum_j x_j\n",
    "    \\, , &\n",
    "    \\gamma \\leftrightarrow & \\,\n",
    "       s_i^2 + 2 s_i\n",
    "    \\\\\n",
    "    \\alpha = & \\mathbb{1} + 2 N - 2 \\mathbb{1} - 2 \\text{diag}(|N|) + N^2\n",
    "    \\, , &\n",
    "    \\beta = & -2 (\\mathbb{1} + N) B\n",
    "    \\, , &\n",
    "     \\gamma = & \\, B^T\\mathbb{1}B + 2 \\text{diag}(|B|)\n",
    "\\end{align}\n",
    "\n",
    "where $N_{ij}$ is the adjecency matrix of the graph (symmetric and zero diagonal) and $B_{ik}$ is the bit map for\n",
    "integers $s_i$  to bits $q_k$ (note that the map encodes different $s_i$ with different length bits)."
   ]
  },
  {
   "cell_type": "markdown",
   "metadata": {
    "heading_collapsed": true
   },
   "source": [
    "## Details"
   ]
  },
  {
   "cell_type": "markdown",
   "metadata": {
    "hidden": true
   },
   "source": [
    "\\begin{align}\n",
    "    \\sum_{i \\in V} x_i^2 &\\to \\delta_{ij} \\,,&\n",
    "    \\sum_{i \\in V} x_i & \\to \\delta_{ij} \\,,\n",
    "\\end{align}\n",
    "\n",
    "\\begin{align}\n",
    "    \\sum_{i \\in V} \\sum_{j \\in \\mathcal N_i} x_j & \\to \\sum_{k} N_{kj} \\delta_{ij} \\, , &\n",
    "    \\sum_{i \\in V} \\sum_{j \\in \\mathcal N_i} x_i x_j & \\to N_{ij} \\, , &\n",
    "    \\sum_{i_1 \\in V}\\sum_{j_1 \\in\\mathcal{N}_{i_1}} x_{j_1} \\sum_{j_2 \\in\\mathcal{N}_{i_1}} x_{j_2}\n",
    "    & \\to\n",
    "   N_{i j_1} N_{i j_2}\n",
    "   =\n",
    "   N_{j_1 i} N_{i j_2} \\, ,\n",
    "\\end{align}\n",
    "\n",
    "\\begin{align}\n",
    "   \\sum_{i \\in V} \\sum_{j \\in \\mathcal N_i} s_i x_j & \\to \\sum_k N_{ji} B_{ik}  \\, , &\n",
    "\\end{align}\n",
    "where $N_{ij}$ is the adjecency matrix of the graph (symmetric and zero diagonal)."
   ]
  },
  {
   "cell_type": "markdown",
   "metadata": {
    "hidden": true
   },
   "source": [
    "$$\n",
    "     \\sum_{j \\in \\mathcal N_i} x_j = \\vec n_i \\cdot \\vec x  = \\sum_{j \\in V} N_{ij} x_j\\, ,\n",
    "$$\n",
    "\n",
    "where $\\vec n_i$ is a vector of ones and zeros---being one if vertx $j$ is a neighbor of vertex $i$.\n",
    "I believe $N$ is also called the adjancency matrix of the graph.\n",
    "\n",
    "$$\n",
    "    N_{ij} = \\begin{cases}\n",
    "        1 & j \\in \\mathcal N_i \\\\ 0 & \\text{otherwise}\n",
    "    \\end{cases}\n",
    "$$\n",
    "\n",
    "Note that $i$ is not in its own neighborhood $\\mathcal N_i$.\n",
    "\n",
    "Thus\n",
    "\\begin{align}\n",
    "    \\sum_{i \\in V} x_i c_i\n",
    "    &=\n",
    "    \\vec c \\cdot \\vec x\n",
    "    \\, , &\n",
    "    c_i = \\vec n_i \\cdot \\vec x\n",
    "    & & \\Rightarrow&  &\n",
    "    \\sum_{i \\in V} \\sum_{j \\in \\mathcal N_i} x_i x_j\n",
    "    &=\n",
    "    \\vec x \\cdot N \\cdot \\vec x \n",
    "\\end{align}\n",
    "\n",
    "and accordingly\n",
    "\n",
    "\\begin{align}\n",
    "    \\sum_{i \\in V} \\sum_{j \\in\\mathcal{N}_{i}} x_{j}\n",
    "    & \\to\n",
    "    \\sum_{j \\in V}|\\mathcal N_j| x_j\n",
    "\\end{align}\n",
    "where $|\\mathcal N_j|$ is the number of neighbors of vertex $j$."
   ]
  },
  {
   "cell_type": "markdown",
   "metadata": {
    "heading_collapsed": true
   },
   "source": [
    "## Example"
   ]
  },
  {
   "cell_type": "markdown",
   "metadata": {
    "hidden": true
   },
   "source": [
    "Picture the graph\n",
    "$$\n",
    " 0 - 1 - 2\n",
    "$$\n",
    "\n",
    "Thus we have\n",
    "\\begin{align}\n",
    "    N &= \\begin{pmatrix}\n",
    "        0 & 1 & 0 \\\\ 1 & 0 & 1 \\\\ 0 & 1 & 0\n",
    "    \\end{pmatrix}\n",
    "   \\, , &\n",
    "   |N| = \\begin{pmatrix}\n",
    "        1 \\\\ 2 \\\\ 1\n",
    "   \\end{pmatrix}\n",
    "   \\, .\n",
    "\\end{align}\n",
    "\n",
    "The slack variables must be $\\vec s \\geq |N|$. Thus the bit map is given by\n",
    "\\begin{align}\n",
    "    s_1 &= 2^0 q_{1 0} \\Rightarrow \\max(s_1) \\geq 1 \\, , & \n",
    "    s_2 &= 2^0 q_{2 0} + 2^1 q_{2 1} \\Rightarrow \\max(s_2) \\geq 2 \\, , & \n",
    "    s_3 &= 2^0 q_{3 0} \\Rightarrow \\max(s_3) \\geq 1 \\, , & \n",
    "\\end{align}\n",
    "with $q_{ik} \\in \\{0,1\\}$.\n",
    "We therefor get\n",
    "\\begin{align}\n",
    "    B &= \\begin{pmatrix}\n",
    "        1 & 0 & 0 & 0 \\\\ 0 & 1 & 2 & 0 \\\\ 0 & 0 & 0 & 1\n",
    "    \\end{pmatrix}\n",
    "   \\, , &\n",
    "   \\vec q\n",
    "   &=\n",
    "   \\begin{pmatrix}\n",
    "        q_{1 0} \\\\ q_{2 0} \\\\ q_{2 1} \\\\ q_{3 0}\n",
    "   \\end{pmatrix}\n",
    "   \\, , &\n",
    "   |B| = \\begin{pmatrix}\n",
    "        1 \\\\ 1 \\\\ 2 \\\\ 1\n",
    "   \\end{pmatrix}\n",
    "   \\, .\n",
    "\\end{align}\n",
    "\n"
   ]
  },
  {
   "cell_type": "code",
   "execution_count": null,
   "metadata": {
    "hidden": true
   },
   "outputs": [],
   "source": [
    "graph = {(0, 1), (1, 2)}\n",
    "\n",
    "adjacency = dok_matrix((3, 3), dtype=int)\n",
    "\n",
    "for edge in graph:\n",
    "    adjacency[edge] = 1\n",
    "adjacency += adjacency.T\n",
    "print(\"N = \\n\", adjacency.todense())\n",
    "print(\"\\n|N| = \\n\", adjacency.sum(axis=1))\n",
    "\n",
    "bitmap = dok_matrix((3, 4), dtype=int)\n",
    "bitmap[(0, 0)] = 1\n",
    "bitmap[(1, 1)] = 1\n",
    "bitmap[(1, 2)] = 2\n",
    "bitmap[(2, 3)] = 1\n",
    "\n",
    "\n",
    "print(\"B = \\n\", bitmap.todense())"
   ]
  },
  {
   "cell_type": "code",
   "execution_count": null,
   "metadata": {
    "hidden": true
   },
   "outputs": [],
   "source": [
    "one = dok_matrix(adjacency.shape, dtype=int)\n",
    "for n in range(adjacency.shape[0]):\n",
    "    one[(n, n)] = 1\n",
    "\n",
    "neighborhood = dok_matrix(adjacency.shape, dtype=int)\n",
    "for n, el in enumerate(adjacency.sum(axis=1)):\n",
    "    neighborhood[(n, n)] = el\n",
    "\n",
    "alpha = -one + 2 * adjacency - 2 * neighborhood + adjacency @ adjacency"
   ]
  },
  {
   "cell_type": "code",
   "execution_count": null,
   "metadata": {
    "hidden": true
   },
   "outputs": [],
   "source": [
    "from sympy import S, Matrix"
   ]
  },
  {
   "cell_type": "code",
   "execution_count": null,
   "metadata": {
    "hidden": true
   },
   "outputs": [],
   "source": [
    "x1, x2, x3 = S(\"x1\"), S(\"x2\"), S(\"x3\")\n",
    "M = Matrix(alpha.todense())\n",
    "x = Matrix([[x1, x2, x3]]).T\n",
    "\n",
    "print(x)\n",
    "\n",
    "sol = (x.T @ M @ x).expand()[0] + 3\n",
    "sol"
   ]
  },
  {
   "cell_type": "code",
   "execution_count": null,
   "metadata": {
    "hidden": true
   },
   "outputs": [],
   "source": [
    "nn = Matrix([x2, x1 + x3, x2])\n",
    "\n",
    "constraint = Matrix([x1 - 1 + x2, x2 - 1 + x1 + x3, x3 - 1 + x2])\n",
    "eq = (constraint.T @ constraint).expand()[0]\n",
    "eq"
   ]
  },
  {
   "cell_type": "code",
   "execution_count": null,
   "metadata": {
    "hidden": true
   },
   "outputs": [],
   "source": [
    "eq - sol"
   ]
  },
  {
   "cell_type": "code",
   "execution_count": null,
   "metadata": {
    "hidden": true
   },
   "outputs": [],
   "source": [
    "q10, q20, q21, q30 = S(\"q10\"), S(\"q20\"), S(\"q21\"), S(\"q30\")\n",
    "q = Matrix([[q10, q20, q21, q30]]).T\n",
    "\n",
    "beta = -2 * (one + adjacency) @ bitmap\n",
    "beta.todense()"
   ]
  },
  {
   "cell_type": "code",
   "execution_count": null,
   "metadata": {
    "hidden": true
   },
   "outputs": [],
   "source": [
    "s = Matrix([[\"s1\", \"s2\", \"s3\"]]).T\n",
    "sol = (x.T @ beta @ q)[0].subs({\"q10\": \"s1\", \"q30\": \"s3\", \"q20\": \"s2 - 2*q21\"}).expand()\n",
    "sol"
   ]
  },
  {
   "cell_type": "code",
   "execution_count": null,
   "metadata": {
    "hidden": true
   },
   "outputs": [],
   "source": [
    "eq = (-2 * x.T @ s - 2 * nn.T @ s)[0].expand()\n",
    "eq"
   ]
  },
  {
   "cell_type": "code",
   "execution_count": null,
   "metadata": {
    "hidden": true
   },
   "outputs": [],
   "source": [
    "eq - sol"
   ]
  },
  {
   "cell_type": "code",
   "execution_count": null,
   "metadata": {
    "hidden": true
   },
   "outputs": [],
   "source": [
    "bb = dok_matrix((4, 4), dtype=int)\n",
    "for n, el in enumerate(bitmap.sum(axis=0).tolist()[0]):\n",
    "    bb[(n, n)] = el\n",
    "\n",
    "gamma = bitmap.T @ bitmap + 2 * bb\n",
    "sol = (q.T @ gamma @ q)[0].expand()\n",
    "sol\n",
    "gamma"
   ]
  },
  {
   "cell_type": "code",
   "execution_count": null,
   "metadata": {
    "hidden": true
   },
   "outputs": [],
   "source": [
    "sol - eq"
   ]
  },
  {
   "cell_type": "code",
   "execution_count": null,
   "metadata": {
    "hidden": true
   },
   "outputs": [],
   "source": [
    "print(alpha.todense())\n",
    "print(beta.todense())\n",
    "print(gamma.todense())"
   ]
  },
  {
   "cell_type": "code",
   "execution_count": null,
   "metadata": {
    "hidden": true
   },
   "outputs": [],
   "source": []
  },
  {
   "cell_type": "markdown",
   "metadata": {},
   "source": [
    "## QUBO"
   ]
  },
  {
   "cell_type": "code",
   "execution_count": null,
   "metadata": {},
   "outputs": [],
   "source": [
    "def get_adjacency(graph: Set[Tuple[int]]) -> dok_matrix:\n",
    "    \"\"\"This routine computes the adjecency matrix for a given graph.\n",
    "    \n",
    "    It assumes the graph is connected and nodes are labeled from 0...N-1.\n",
    "    Self loops are forbidden.\n",
    "    \"\"\"\n",
    "    if not isinstance(graph, set):\n",
    "        raise TypeError(\"Graph must be a set of tuples\")\n",
    "\n",
    "    nodes = set()\n",
    "    adj = dict()\n",
    "\n",
    "    for v1, v2 in graph:\n",
    "        if v1 == v2:\n",
    "            raise KeyError(f\"Self loops are not allowed (v={v1}).\")\n",
    "\n",
    "        nodes.add(v1)\n",
    "        nodes.add(v2)\n",
    "        adj[(v1, v2)] = 1\n",
    "\n",
    "    nodes = sorted(nodes)\n",
    "    n_nodes = len(nodes)\n",
    "\n",
    "    if nodes != list(range(n_nodes)):\n",
    "        raise KeyError(\"Nodes must be from 0 ... n_nodes\")\n",
    "\n",
    "    adjacency = dok_matrix((n_nodes, n_nodes), dtype=int)\n",
    "    for (v1, v2), val in adj.items():\n",
    "        adjacency[(v1, v2)] = val\n",
    "        adjacency[(v2, v1)] = val\n",
    "\n",
    "    if not all([val == 1 for val in adjacency.values()]):\n",
    "        raise KeyError(\"Double entries in graph\")\n",
    "\n",
    "    return adjacency\n",
    "\n",
    "\n",
    "adjacency = get_adjacency(test_graph)\n",
    "adjacency.todense()"
   ]
  },
  {
   "cell_type": "code",
   "execution_count": null,
   "metadata": {},
   "outputs": [],
   "source": [
    "adjacency = get_adjacency(test_graph)\n",
    "n_neigbors = adjacency.sum(axis=1).flatten().tolist()[0]\n",
    "print(n_neigbors)\n",
    "\n",
    "\n",
    "def get_bitmap(n_neigbors: List[int]) -> dok_matrix:\n",
    "    r\"\"\"Computes the map of slack-bits to slack integers.\n",
    "    \n",
    "    This matrix B maps the bit vector b to slack variables s.\n",
    "    Each s_i has max(s_i) >= N_i where N_i is the number of \n",
    "    neigbors of vertex i.  \n",
    "    The bit vector b = (b_00, b_01, b_02, ... , b_11, b_12, ...) \n",
    "    with b_ij will be mapped onto s_iaccording to \n",
    "    s_i = sum_j 2**j b_ij.\n",
    "    Thus the size of the returned matrix scales as \n",
    "    ~ sum_i log2(N_i)\n",
    "    \n",
    "    Arguments:\n",
    "        n_neigbors: The number of neighbors for each vertex.\n",
    "    \"\"\"\n",
    "    n_nodes = len(n_neigbors)\n",
    "\n",
    "    # Figure out how many bits we need for each neighborhood\n",
    "    n_bits = np.floor(np.log2(n_neigbors) + 1).astype(int)\n",
    "    \n",
    "    print(n_bits)\n",
    "\n",
    "    bitmap = dok_matrix((n_nodes, n_bits.sum()), dtype=int)\n",
    "\n",
    "    acc = 0\n",
    "    for v, n_bit in enumerate(n_bits):\n",
    "        for n in range(n_bit):\n",
    "            bitmap[(v, acc)] = 2 ** n\n",
    "            acc += 1\n",
    "\n",
    "    return bitmap\n",
    "\n",
    "\n",
    "bitmap = get_bitmap(n_neigbors)\n",
    "bitmap.todense()"
   ]
  },
  {
   "cell_type": "code",
   "execution_count": null,
   "metadata": {},
   "outputs": [],
   "source": [
    "def get_mds_qubo(graph: Set[Tuple[int]]) -> dok_matrix:\n",
    "    \"\"\"This routine computes minimal dominating set QUBO for a given graph.\n",
    "    \n",
    "    It assumes the graph is connected and nodes are labeled from 0...N-1.\n",
    "    Self loops are forbidden.\n",
    "    \"\"\"\n",
    "    ## This is N\n",
    "    adjacency = get_adjacency(graph)\n",
    "    \n",
    "    ## Id in x-space\n",
    "    one = dok_matrix(adjacency.shape, dtype=int)\n",
    "    for n in range(adjacency.shape[0]):\n",
    "        one[(n, n)] = 1\n",
    "       \n",
    "    ## |N|\n",
    "    n_neigbors = adjacency.sum(axis=1).flatten().tolist()[0]\n",
    "    \n",
    "    ## diag(|N|)\n",
    "    diag_neighbor = dok_matrix(adjacency.shape, dtype=int)\n",
    "    for n, el in enumerate(n_neigbors):\n",
    "        diag_neighbor[(n, n)] = el\n",
    "        \n",
    "    ## B\n",
    "    bitmap = get_bitmap(n_neigbors)\n",
    "    n_bits = bitmap.shape[1]\n",
    "        \n",
    "    ## diag(|B|)\n",
    "    diag_bitmap = dok_matrix((n_bits, n_bits), dtype=int)\n",
    "    for n, el in enumerate(bitmap.sum(axis=0).tolist()[0]):\n",
    "        diag_bitmap[(n, n)] = el\n",
    "        \n",
    "    ## Compute QUBO components\n",
    "    alpha = -one + 2 * adjacency - 2 * diag_neighbor + adjacency @ adjacency\n",
    "    beta = -2 * (one + adjacency) @ bitmap\n",
    "    gamma = bitmap.T @ bitmap + 2 * diag_bitmap\n",
    "    \n",
    "    ## Multiply by penalty factor\n",
    "    penalty = len(n_neigbors) + 1\n",
    "    alpha *= penalty\n",
    "    beta *= penalty\n",
    "    gamma *= penalty\n",
    "    \n",
    "    ## Add in minimization condition\n",
    "    alpha += one\n",
    "    \n",
    "    ## Construt QUBO\n",
    "    return bmat([[alpha, beta], [None, gamma]]).todok()\n",
    "    \n",
    "    \n",
    "qubo = get_mds_qubo(test_graph)\n",
    "qubo"
   ]
  },
  {
   "cell_type": "code",
   "execution_count": null,
   "metadata": {},
   "outputs": [],
   "source": [
    "energies = []\n",
    "vecs = []\n",
    "for vv in product(*[(0, 1)] * qubo.shape[1]):\n",
    "    ee = (vv @ qubo @ vv).flatten()[0]\n",
    "    energies.append(ee)\n",
    "    vecs.append(vv)\n",
    "\n",
    "e_min = np.min(energies)\n",
    "solutions = [\n",
    "    [nn for nn, bb in enumerate(vv[:n_nodes]) if bb == 1]\n",
    "    for vv, ee in zip(vecs, energies)\n",
    "    if ee == e_min\n",
    "]\n",
    "solutions"
   ]
  },
  {
   "cell_type": "code",
   "execution_count": null,
   "metadata": {
    "scrolled": false
   },
   "outputs": [],
   "source": [
    "for sol in solutions:\n",
    "    plot = get_plot(test_graph, color_nodes=sol)\n",
    "    show(plot)"
   ]
  },
  {
   "cell_type": "code",
   "execution_count": null,
   "metadata": {},
   "outputs": [],
   "source": []
  },
  {
   "cell_type": "code",
   "execution_count": null,
   "metadata": {},
   "outputs": [],
   "source": []
  }
 ],
 "metadata": {
  "kernelspec": {
   "display_name": "Python 3",
   "language": "python",
   "name": "python3"
  },
  "language_info": {
   "codemirror_mode": {
    "name": "ipython",
    "version": 3
   },
   "file_extension": ".py",
   "mimetype": "text/x-python",
   "name": "python",
   "nbconvert_exporter": "python",
   "pygments_lexer": "ipython3",
   "version": "3.7.5"
  }
 },
 "nbformat": 4,
 "nbformat_minor": 2
}
