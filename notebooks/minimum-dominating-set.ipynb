{
 "cells": [
  {
   "cell_type": "markdown",
   "metadata": {},
   "source": [
    "# Vertex Covering Challenge"
   ]
  },
  {
   "cell_type": "code",
   "execution_count": 2,
   "metadata": {},
   "outputs": [
    {
     "data": {
      "text/html": [
       "\n",
       "    <div class=\"bk-root\">\n",
       "        <a href=\"https://bokeh.pydata.org\" target=\"_blank\" class=\"bk-logo bk-logo-small bk-logo-notebook\"></a>\n",
       "        <span id=\"1001\">Loading BokehJS ...</span>\n",
       "    </div>"
      ]
     },
     "metadata": {},
     "output_type": "display_data"
    },
    {
     "data": {
      "application/javascript": [
       "\n",
       "(function(root) {\n",
       "  function now() {\n",
       "    return new Date();\n",
       "  }\n",
       "\n",
       "  var force = true;\n",
       "\n",
       "  if (typeof root._bokeh_onload_callbacks === \"undefined\" || force === true) {\n",
       "    root._bokeh_onload_callbacks = [];\n",
       "    root._bokeh_is_loading = undefined;\n",
       "  }\n",
       "\n",
       "  var JS_MIME_TYPE = 'application/javascript';\n",
       "  var HTML_MIME_TYPE = 'text/html';\n",
       "  var EXEC_MIME_TYPE = 'application/vnd.bokehjs_exec.v0+json';\n",
       "  var CLASS_NAME = 'output_bokeh rendered_html';\n",
       "\n",
       "  /**\n",
       "   * Render data to the DOM node\n",
       "   */\n",
       "  function render(props, node) {\n",
       "    var script = document.createElement(\"script\");\n",
       "    node.appendChild(script);\n",
       "  }\n",
       "\n",
       "  /**\n",
       "   * Handle when an output is cleared or removed\n",
       "   */\n",
       "  function handleClearOutput(event, handle) {\n",
       "    var cell = handle.cell;\n",
       "\n",
       "    var id = cell.output_area._bokeh_element_id;\n",
       "    var server_id = cell.output_area._bokeh_server_id;\n",
       "    // Clean up Bokeh references\n",
       "    if (id != null && id in Bokeh.index) {\n",
       "      Bokeh.index[id].model.document.clear();\n",
       "      delete Bokeh.index[id];\n",
       "    }\n",
       "\n",
       "    if (server_id !== undefined) {\n",
       "      // Clean up Bokeh references\n",
       "      var cmd = \"from bokeh.io.state import curstate; print(curstate().uuid_to_server['\" + server_id + \"'].get_sessions()[0].document.roots[0]._id)\";\n",
       "      cell.notebook.kernel.execute(cmd, {\n",
       "        iopub: {\n",
       "          output: function(msg) {\n",
       "            var id = msg.content.text.trim();\n",
       "            if (id in Bokeh.index) {\n",
       "              Bokeh.index[id].model.document.clear();\n",
       "              delete Bokeh.index[id];\n",
       "            }\n",
       "          }\n",
       "        }\n",
       "      });\n",
       "      // Destroy server and session\n",
       "      var cmd = \"import bokeh.io.notebook as ion; ion.destroy_server('\" + server_id + \"')\";\n",
       "      cell.notebook.kernel.execute(cmd);\n",
       "    }\n",
       "  }\n",
       "\n",
       "  /**\n",
       "   * Handle when a new output is added\n",
       "   */\n",
       "  function handleAddOutput(event, handle) {\n",
       "    var output_area = handle.output_area;\n",
       "    var output = handle.output;\n",
       "\n",
       "    // limit handleAddOutput to display_data with EXEC_MIME_TYPE content only\n",
       "    if ((output.output_type != \"display_data\") || (!output.data.hasOwnProperty(EXEC_MIME_TYPE))) {\n",
       "      return\n",
       "    }\n",
       "\n",
       "    var toinsert = output_area.element.find(\".\" + CLASS_NAME.split(' ')[0]);\n",
       "\n",
       "    if (output.metadata[EXEC_MIME_TYPE][\"id\"] !== undefined) {\n",
       "      toinsert[toinsert.length - 1].firstChild.textContent = output.data[JS_MIME_TYPE];\n",
       "      // store reference to embed id on output_area\n",
       "      output_area._bokeh_element_id = output.metadata[EXEC_MIME_TYPE][\"id\"];\n",
       "    }\n",
       "    if (output.metadata[EXEC_MIME_TYPE][\"server_id\"] !== undefined) {\n",
       "      var bk_div = document.createElement(\"div\");\n",
       "      bk_div.innerHTML = output.data[HTML_MIME_TYPE];\n",
       "      var script_attrs = bk_div.children[0].attributes;\n",
       "      for (var i = 0; i < script_attrs.length; i++) {\n",
       "        toinsert[toinsert.length - 1].firstChild.setAttribute(script_attrs[i].name, script_attrs[i].value);\n",
       "      }\n",
       "      // store reference to server id on output_area\n",
       "      output_area._bokeh_server_id = output.metadata[EXEC_MIME_TYPE][\"server_id\"];\n",
       "    }\n",
       "  }\n",
       "\n",
       "  function register_renderer(events, OutputArea) {\n",
       "\n",
       "    function append_mime(data, metadata, element) {\n",
       "      // create a DOM node to render to\n",
       "      var toinsert = this.create_output_subarea(\n",
       "        metadata,\n",
       "        CLASS_NAME,\n",
       "        EXEC_MIME_TYPE\n",
       "      );\n",
       "      this.keyboard_manager.register_events(toinsert);\n",
       "      // Render to node\n",
       "      var props = {data: data, metadata: metadata[EXEC_MIME_TYPE]};\n",
       "      render(props, toinsert[toinsert.length - 1]);\n",
       "      element.append(toinsert);\n",
       "      return toinsert\n",
       "    }\n",
       "\n",
       "    /* Handle when an output is cleared or removed */\n",
       "    events.on('clear_output.CodeCell', handleClearOutput);\n",
       "    events.on('delete.Cell', handleClearOutput);\n",
       "\n",
       "    /* Handle when a new output is added */\n",
       "    events.on('output_added.OutputArea', handleAddOutput);\n",
       "\n",
       "    /**\n",
       "     * Register the mime type and append_mime function with output_area\n",
       "     */\n",
       "    OutputArea.prototype.register_mime_type(EXEC_MIME_TYPE, append_mime, {\n",
       "      /* Is output safe? */\n",
       "      safe: true,\n",
       "      /* Index of renderer in `output_area.display_order` */\n",
       "      index: 0\n",
       "    });\n",
       "  }\n",
       "\n",
       "  // register the mime type if in Jupyter Notebook environment and previously unregistered\n",
       "  if (root.Jupyter !== undefined) {\n",
       "    var events = require('base/js/events');\n",
       "    var OutputArea = require('notebook/js/outputarea').OutputArea;\n",
       "\n",
       "    if (OutputArea.prototype.mime_types().indexOf(EXEC_MIME_TYPE) == -1) {\n",
       "      register_renderer(events, OutputArea);\n",
       "    }\n",
       "  }\n",
       "\n",
       "  \n",
       "  if (typeof (root._bokeh_timeout) === \"undefined\" || force === true) {\n",
       "    root._bokeh_timeout = Date.now() + 5000;\n",
       "    root._bokeh_failed_load = false;\n",
       "  }\n",
       "\n",
       "  var NB_LOAD_WARNING = {'data': {'text/html':\n",
       "     \"<div style='background-color: #fdd'>\\n\"+\n",
       "     \"<p>\\n\"+\n",
       "     \"BokehJS does not appear to have successfully loaded. If loading BokehJS from CDN, this \\n\"+\n",
       "     \"may be due to a slow or bad network connection. Possible fixes:\\n\"+\n",
       "     \"</p>\\n\"+\n",
       "     \"<ul>\\n\"+\n",
       "     \"<li>re-rerun `output_notebook()` to attempt to load from CDN again, or</li>\\n\"+\n",
       "     \"<li>use INLINE resources instead, as so:</li>\\n\"+\n",
       "     \"</ul>\\n\"+\n",
       "     \"<code>\\n\"+\n",
       "     \"from bokeh.resources import INLINE\\n\"+\n",
       "     \"output_notebook(resources=INLINE)\\n\"+\n",
       "     \"</code>\\n\"+\n",
       "     \"</div>\"}};\n",
       "\n",
       "  function display_loaded() {\n",
       "    var el = document.getElementById(\"1001\");\n",
       "    if (el != null) {\n",
       "      el.textContent = \"BokehJS is loading...\";\n",
       "    }\n",
       "    if (root.Bokeh !== undefined) {\n",
       "      if (el != null) {\n",
       "        el.textContent = \"BokehJS \" + root.Bokeh.version + \" successfully loaded.\";\n",
       "      }\n",
       "    } else if (Date.now() < root._bokeh_timeout) {\n",
       "      setTimeout(display_loaded, 100)\n",
       "    }\n",
       "  }\n",
       "\n",
       "\n",
       "  function run_callbacks() {\n",
       "    try {\n",
       "      root._bokeh_onload_callbacks.forEach(function(callback) {\n",
       "        if (callback != null)\n",
       "          callback();\n",
       "      });\n",
       "    } finally {\n",
       "      delete root._bokeh_onload_callbacks\n",
       "    }\n",
       "    console.debug(\"Bokeh: all callbacks have finished\");\n",
       "  }\n",
       "\n",
       "  function load_libs(css_urls, js_urls, callback) {\n",
       "    if (css_urls == null) css_urls = [];\n",
       "    if (js_urls == null) js_urls = [];\n",
       "\n",
       "    root._bokeh_onload_callbacks.push(callback);\n",
       "    if (root._bokeh_is_loading > 0) {\n",
       "      console.debug(\"Bokeh: BokehJS is being loaded, scheduling callback at\", now());\n",
       "      return null;\n",
       "    }\n",
       "    if (js_urls == null || js_urls.length === 0) {\n",
       "      run_callbacks();\n",
       "      return null;\n",
       "    }\n",
       "    console.debug(\"Bokeh: BokehJS not loaded, scheduling load and callback at\", now());\n",
       "    root._bokeh_is_loading = css_urls.length + js_urls.length;\n",
       "\n",
       "    function on_load() {\n",
       "      root._bokeh_is_loading--;\n",
       "      if (root._bokeh_is_loading === 0) {\n",
       "        console.debug(\"Bokeh: all BokehJS libraries/stylesheets loaded\");\n",
       "        run_callbacks()\n",
       "      }\n",
       "    }\n",
       "\n",
       "    function on_error() {\n",
       "      console.error(\"failed to load \" + url);\n",
       "    }\n",
       "\n",
       "    for (var i = 0; i < css_urls.length; i++) {\n",
       "      var url = css_urls[i];\n",
       "      const element = document.createElement(\"link\");\n",
       "      element.onload = on_load;\n",
       "      element.onerror = on_error;\n",
       "      element.rel = \"stylesheet\";\n",
       "      element.type = \"text/css\";\n",
       "      element.href = url;\n",
       "      console.debug(\"Bokeh: injecting link tag for BokehJS stylesheet: \", url);\n",
       "      document.body.appendChild(element);\n",
       "    }\n",
       "\n",
       "    for (var i = 0; i < js_urls.length; i++) {\n",
       "      var url = js_urls[i];\n",
       "      var element = document.createElement('script');\n",
       "      element.onload = on_load;\n",
       "      element.onerror = on_error;\n",
       "      element.async = false;\n",
       "      element.src = url;\n",
       "      console.debug(\"Bokeh: injecting script tag for BokehJS library: \", url);\n",
       "      document.head.appendChild(element);\n",
       "    }\n",
       "  };var element = document.getElementById(\"1001\");\n",
       "  if (element == null) {\n",
       "    console.error(\"Bokeh: ERROR: autoload.js configured with elementid '1001' but no matching script tag was found. \")\n",
       "    return false;\n",
       "  }\n",
       "\n",
       "  function inject_raw_css(css) {\n",
       "    const element = document.createElement(\"style\");\n",
       "    element.appendChild(document.createTextNode(css));\n",
       "    document.body.appendChild(element);\n",
       "  }\n",
       "\n",
       "  var js_urls = [\"https://cdn.pydata.org/bokeh/release/bokeh-1.3.4.min.js\", \"https://cdn.pydata.org/bokeh/release/bokeh-widgets-1.3.4.min.js\", \"https://cdn.pydata.org/bokeh/release/bokeh-tables-1.3.4.min.js\", \"https://cdn.pydata.org/bokeh/release/bokeh-gl-1.3.4.min.js\"];\n",
       "  var css_urls = [];\n",
       "\n",
       "  var inline_js = [\n",
       "    function(Bokeh) {\n",
       "      Bokeh.set_log_level(\"info\");\n",
       "    },\n",
       "    \n",
       "    function(Bokeh) {\n",
       "      \n",
       "    },\n",
       "    function(Bokeh) {} // ensure no trailing comma for IE\n",
       "  ];\n",
       "\n",
       "  function run_inline_js() {\n",
       "    \n",
       "    if ((root.Bokeh !== undefined) || (force === true)) {\n",
       "      for (var i = 0; i < inline_js.length; i++) {\n",
       "        inline_js[i].call(root, root.Bokeh);\n",
       "      }if (force === true) {\n",
       "        display_loaded();\n",
       "      }} else if (Date.now() < root._bokeh_timeout) {\n",
       "      setTimeout(run_inline_js, 100);\n",
       "    } else if (!root._bokeh_failed_load) {\n",
       "      console.log(\"Bokeh: BokehJS failed to load within specified timeout.\");\n",
       "      root._bokeh_failed_load = true;\n",
       "    } else if (force !== true) {\n",
       "      var cell = $(document.getElementById(\"1001\")).parents('.cell').data().cell;\n",
       "      cell.output_area.append_execute_result(NB_LOAD_WARNING)\n",
       "    }\n",
       "\n",
       "  }\n",
       "\n",
       "  if (root._bokeh_is_loading === 0) {\n",
       "    console.debug(\"Bokeh: BokehJS loaded, going straight to plotting\");\n",
       "    run_inline_js();\n",
       "  } else {\n",
       "    load_libs(css_urls, js_urls, function() {\n",
       "      console.debug(\"Bokeh: BokehJS plotting callback run at\", now());\n",
       "      run_inline_js();\n",
       "    });\n",
       "  }\n",
       "}(window));"
      ],
      "application/vnd.bokehjs_load.v0+json": "\n(function(root) {\n  function now() {\n    return new Date();\n  }\n\n  var force = true;\n\n  if (typeof root._bokeh_onload_callbacks === \"undefined\" || force === true) {\n    root._bokeh_onload_callbacks = [];\n    root._bokeh_is_loading = undefined;\n  }\n\n  \n\n  \n  if (typeof (root._bokeh_timeout) === \"undefined\" || force === true) {\n    root._bokeh_timeout = Date.now() + 5000;\n    root._bokeh_failed_load = false;\n  }\n\n  var NB_LOAD_WARNING = {'data': {'text/html':\n     \"<div style='background-color: #fdd'>\\n\"+\n     \"<p>\\n\"+\n     \"BokehJS does not appear to have successfully loaded. If loading BokehJS from CDN, this \\n\"+\n     \"may be due to a slow or bad network connection. Possible fixes:\\n\"+\n     \"</p>\\n\"+\n     \"<ul>\\n\"+\n     \"<li>re-rerun `output_notebook()` to attempt to load from CDN again, or</li>\\n\"+\n     \"<li>use INLINE resources instead, as so:</li>\\n\"+\n     \"</ul>\\n\"+\n     \"<code>\\n\"+\n     \"from bokeh.resources import INLINE\\n\"+\n     \"output_notebook(resources=INLINE)\\n\"+\n     \"</code>\\n\"+\n     \"</div>\"}};\n\n  function display_loaded() {\n    var el = document.getElementById(\"1001\");\n    if (el != null) {\n      el.textContent = \"BokehJS is loading...\";\n    }\n    if (root.Bokeh !== undefined) {\n      if (el != null) {\n        el.textContent = \"BokehJS \" + root.Bokeh.version + \" successfully loaded.\";\n      }\n    } else if (Date.now() < root._bokeh_timeout) {\n      setTimeout(display_loaded, 100)\n    }\n  }\n\n\n  function run_callbacks() {\n    try {\n      root._bokeh_onload_callbacks.forEach(function(callback) {\n        if (callback != null)\n          callback();\n      });\n    } finally {\n      delete root._bokeh_onload_callbacks\n    }\n    console.debug(\"Bokeh: all callbacks have finished\");\n  }\n\n  function load_libs(css_urls, js_urls, callback) {\n    if (css_urls == null) css_urls = [];\n    if (js_urls == null) js_urls = [];\n\n    root._bokeh_onload_callbacks.push(callback);\n    if (root._bokeh_is_loading > 0) {\n      console.debug(\"Bokeh: BokehJS is being loaded, scheduling callback at\", now());\n      return null;\n    }\n    if (js_urls == null || js_urls.length === 0) {\n      run_callbacks();\n      return null;\n    }\n    console.debug(\"Bokeh: BokehJS not loaded, scheduling load and callback at\", now());\n    root._bokeh_is_loading = css_urls.length + js_urls.length;\n\n    function on_load() {\n      root._bokeh_is_loading--;\n      if (root._bokeh_is_loading === 0) {\n        console.debug(\"Bokeh: all BokehJS libraries/stylesheets loaded\");\n        run_callbacks()\n      }\n    }\n\n    function on_error() {\n      console.error(\"failed to load \" + url);\n    }\n\n    for (var i = 0; i < css_urls.length; i++) {\n      var url = css_urls[i];\n      const element = document.createElement(\"link\");\n      element.onload = on_load;\n      element.onerror = on_error;\n      element.rel = \"stylesheet\";\n      element.type = \"text/css\";\n      element.href = url;\n      console.debug(\"Bokeh: injecting link tag for BokehJS stylesheet: \", url);\n      document.body.appendChild(element);\n    }\n\n    for (var i = 0; i < js_urls.length; i++) {\n      var url = js_urls[i];\n      var element = document.createElement('script');\n      element.onload = on_load;\n      element.onerror = on_error;\n      element.async = false;\n      element.src = url;\n      console.debug(\"Bokeh: injecting script tag for BokehJS library: \", url);\n      document.head.appendChild(element);\n    }\n  };var element = document.getElementById(\"1001\");\n  if (element == null) {\n    console.error(\"Bokeh: ERROR: autoload.js configured with elementid '1001' but no matching script tag was found. \")\n    return false;\n  }\n\n  function inject_raw_css(css) {\n    const element = document.createElement(\"style\");\n    element.appendChild(document.createTextNode(css));\n    document.body.appendChild(element);\n  }\n\n  var js_urls = [\"https://cdn.pydata.org/bokeh/release/bokeh-1.3.4.min.js\", \"https://cdn.pydata.org/bokeh/release/bokeh-widgets-1.3.4.min.js\", \"https://cdn.pydata.org/bokeh/release/bokeh-tables-1.3.4.min.js\", \"https://cdn.pydata.org/bokeh/release/bokeh-gl-1.3.4.min.js\"];\n  var css_urls = [];\n\n  var inline_js = [\n    function(Bokeh) {\n      Bokeh.set_log_level(\"info\");\n    },\n    \n    function(Bokeh) {\n      \n    },\n    function(Bokeh) {} // ensure no trailing comma for IE\n  ];\n\n  function run_inline_js() {\n    \n    if ((root.Bokeh !== undefined) || (force === true)) {\n      for (var i = 0; i < inline_js.length; i++) {\n        inline_js[i].call(root, root.Bokeh);\n      }if (force === true) {\n        display_loaded();\n      }} else if (Date.now() < root._bokeh_timeout) {\n      setTimeout(run_inline_js, 100);\n    } else if (!root._bokeh_failed_load) {\n      console.log(\"Bokeh: BokehJS failed to load within specified timeout.\");\n      root._bokeh_failed_load = true;\n    } else if (force !== true) {\n      var cell = $(document.getElementById(\"1001\")).parents('.cell').data().cell;\n      cell.output_area.append_execute_result(NB_LOAD_WARNING)\n    }\n\n  }\n\n  if (root._bokeh_is_loading === 0) {\n    console.debug(\"Bokeh: BokehJS loaded, going straight to plotting\");\n    run_inline_js();\n  } else {\n    load_libs(css_urls, js_urls, function() {\n      console.debug(\"Bokeh: BokehJS plotting callback run at\", now());\n      run_inline_js();\n    });\n  }\n}(window));"
     },
     "metadata": {},
     "output_type": "display_data"
    }
   ],
   "source": [
    "from typing import Set, Tuple, Optional, List\n",
    "\n",
    "from itertools import product\n",
    "\n",
    "import numpy as np\n",
    "from numpy import random as rand\n",
    "from scipy.sparse import dok_matrix, csr_matrix\n",
    "\n",
    "import networkx as nx\n",
    "\n",
    "from bokeh.io import show, output_notebook\n",
    "from bokeh.models import Plot, Range1d, MultiLine, Circle, HoverTool\n",
    "from bokeh.models.graphs import from_networkx\n",
    "from bokeh.palettes import Spectral4\n",
    "\n",
    "output_notebook()"
   ]
  },
  {
   "cell_type": "code",
   "execution_count": null,
   "metadata": {},
   "outputs": [],
   "source": [
    "rand.seed(42)"
   ]
  },
  {
   "cell_type": "code",
   "execution_count": null,
   "metadata": {},
   "outputs": [],
   "source": [
    "n_nodes = 5\n",
    "n_edges = 5\n",
    "\n",
    "n_edge_max = 3"
   ]
  },
  {
   "cell_type": "code",
   "execution_count": null,
   "metadata": {},
   "outputs": [],
   "source": [
    "def generate_graph(n_nodes: int, n_edges: int, n_edge_max: int = 5) -> Set[Tuple[int]]:\n",
    "    \"\"\"Creates random edges for graph.\n",
    "    \n",
    "    Node labels are from 0 to n_nodes - 1 \n",
    "    \n",
    "    Arguments:\n",
    "        n_nodes: Number of nodes\n",
    "        n_edges: Number of edges\n",
    "        n_edge_max: Maximal number of edges for graph\n",
    "        \n",
    "    Todo:\n",
    "        What about connected / unconnected graphs?\n",
    "        Am I creating the right graph? \n",
    "        Think about ill input conditions.\n",
    "    \"\"\"\n",
    "    assert n_edge_max > 0\n",
    "    assert n_nodes * n_edge_max // 2 > n_edges\n",
    "\n",
    "    nodes = {n: 0 for n in range(n_nodes)}\n",
    "    edges = set()\n",
    "\n",
    "    while len(edges) < n_edges:\n",
    "        choices = [n for n, count in nodes.items() if count <= n_edge_max]\n",
    "        e1, e2 = (int(e) for e in rand.choice(choices, size=2, replace=False))\n",
    "        edge = (e2, e1) if e2 < e1 else (e1, e2)\n",
    "        if edge not in edges:\n",
    "            edges.add(edge)\n",
    "            nodes[e1] += 1\n",
    "            nodes[e2] += 2\n",
    "\n",
    "    return edges\n",
    "\n",
    "\n",
    "graph = generate_graph(n_nodes, n_edges, n_edge_max=n_edge_max)"
   ]
  },
  {
   "cell_type": "code",
   "execution_count": 241,
   "metadata": {
    "scrolled": false
   },
   "outputs": [
    {
     "data": {
      "text/html": [
       "\n",
       "\n",
       "\n",
       "\n",
       "\n",
       "\n",
       "  <div class=\"bk-root\" id=\"d779276c-c399-49d3-aa45-445a228e814c\" data-root-id=\"1004\"></div>\n"
      ]
     },
     "metadata": {},
     "output_type": "display_data"
    },
    {
     "data": {
      "application/javascript": [
       "(function(root) {\n",
       "  function embed_document(root) {\n",
       "    \n",
       "  var docs_json = {\"80bc9405-76a2-4ff1-9c09-8d9b4db9d8b9\":{\"roots\":{\"references\":[{\"attributes\":{\"plot_height\":400,\"plot_width\":400,\"renderers\":[{\"id\":\"1009\",\"type\":\"GraphRenderer\"}],\"title\":{\"id\":\"1026\",\"type\":\"Title\"},\"toolbar\":{\"id\":\"1025\",\"type\":\"Toolbar\"},\"x_range\":{\"id\":\"1002\",\"type\":\"Range1d\"},\"x_scale\":{\"id\":\"1028\",\"type\":\"LinearScale\"},\"y_range\":{\"id\":\"1003\",\"type\":\"Range1d\"},\"y_scale\":{\"id\":\"1027\",\"type\":\"LinearScale\"}},\"id\":\"1004\",\"type\":\"Plot\"},{\"attributes\":{\"callback\":null,\"data\":{\"edge_color\":[\"black\",\"black\"],\"end\":[1,2],\"start\":[0,1]},\"selected\":{\"id\":\"1040\",\"type\":\"Selection\"},\"selection_policy\":{\"id\":\"1041\",\"type\":\"UnionRenderers\"}},\"id\":\"1015\",\"type\":\"ColumnDataSource\"},{\"attributes\":{\"source\":{\"id\":\"1015\",\"type\":\"ColumnDataSource\"}},\"id\":\"1017\",\"type\":\"CDSView\"},{\"attributes\":{\"callback\":null,\"tooltips\":[[\"index\",\"@index\"]]},\"id\":\"1024\",\"type\":\"HoverTool\"},{\"attributes\":{},\"id\":\"1040\",\"type\":\"Selection\"},{\"attributes\":{},\"id\":\"1039\",\"type\":\"NodesOnly\"},{\"attributes\":{\"fill_color\":{\"field\":\"node_color\"},\"size\":{\"units\":\"screen\",\"value\":15}},\"id\":\"1019\",\"type\":\"Circle\"},{\"attributes\":{\"callback\":null,\"end\":1.1,\"start\":-1.1},\"id\":\"1002\",\"type\":\"Range1d\"},{\"attributes\":{},\"id\":\"1043\",\"type\":\"UnionRenderers\"},{\"attributes\":{\"callback\":null,\"data\":{\"index\":[0,1,2],\"node_color\":[\"white\",\"white\",\"white\"]},\"selected\":{\"id\":\"1042\",\"type\":\"Selection\"},\"selection_policy\":{\"id\":\"1043\",\"type\":\"UnionRenderers\"}},\"id\":\"1011\",\"type\":\"ColumnDataSource\"},{\"attributes\":{\"callback\":null,\"end\":1.1,\"start\":-1.1},\"id\":\"1003\",\"type\":\"Range1d\"},{\"attributes\":{\"graph_layout\":{\"0\":[0.9992998329295152,-0.24469254492409803],\"1\":[0.0007001670704848003,-0.00017145891192013742],\"2\":[-1.0,0.24486400383601817]}},\"id\":\"1018\",\"type\":\"StaticLayoutProvider\"},{\"attributes\":{},\"id\":\"1014\",\"type\":\"MultiLine\"},{\"attributes\":{},\"id\":\"1041\",\"type\":\"UnionRenderers\"},{\"attributes\":{},\"id\":\"1034\",\"type\":\"NodesOnly\"},{\"attributes\":{\"source\":{\"id\":\"1011\",\"type\":\"ColumnDataSource\"}},\"id\":\"1013\",\"type\":\"CDSView\"},{\"attributes\":{\"data_source\":{\"id\":\"1011\",\"type\":\"ColumnDataSource\"},\"glyph\":{\"id\":\"1019\",\"type\":\"Circle\"},\"hover_glyph\":null,\"muted_glyph\":null,\"view\":{\"id\":\"1013\",\"type\":\"CDSView\"}},\"id\":\"1012\",\"type\":\"GlyphRenderer\"},{\"attributes\":{\"active_drag\":\"auto\",\"active_inspect\":\"auto\",\"active_multi\":null,\"active_scroll\":\"auto\",\"active_tap\":\"auto\",\"tools\":[{\"id\":\"1024\",\"type\":\"HoverTool\"}]},\"id\":\"1025\",\"type\":\"Toolbar\"},{\"attributes\":{},\"id\":\"1042\",\"type\":\"Selection\"},{\"attributes\":{},\"id\":\"1027\",\"type\":\"LinearScale\"},{\"attributes\":{\"edge_renderer\":{\"id\":\"1016\",\"type\":\"GlyphRenderer\"},\"inspection_policy\":{\"id\":\"1039\",\"type\":\"NodesOnly\"},\"layout_provider\":{\"id\":\"1018\",\"type\":\"StaticLayoutProvider\"},\"node_renderer\":{\"id\":\"1012\",\"type\":\"GlyphRenderer\"},\"selection_policy\":{\"id\":\"1034\",\"type\":\"NodesOnly\"}},\"id\":\"1009\",\"type\":\"GraphRenderer\"},{\"attributes\":{\"data_source\":{\"id\":\"1015\",\"type\":\"ColumnDataSource\"},\"glyph\":{\"id\":\"1014\",\"type\":\"MultiLine\"},\"hover_glyph\":null,\"muted_glyph\":null,\"view\":{\"id\":\"1017\",\"type\":\"CDSView\"}},\"id\":\"1016\",\"type\":\"GlyphRenderer\"},{\"attributes\":{},\"id\":\"1028\",\"type\":\"LinearScale\"},{\"attributes\":{\"text\":\"\"},\"id\":\"1026\",\"type\":\"Title\"}],\"root_ids\":[\"1004\"]},\"title\":\"Bokeh Application\",\"version\":\"1.3.4\"}};\n",
       "  var render_items = [{\"docid\":\"80bc9405-76a2-4ff1-9c09-8d9b4db9d8b9\",\"roots\":{\"1004\":\"d779276c-c399-49d3-aa45-445a228e814c\"}}];\n",
       "  root.Bokeh.embed.embed_items_notebook(docs_json, render_items);\n",
       "\n",
       "  }\n",
       "  if (root.Bokeh !== undefined) {\n",
       "    embed_document(root);\n",
       "  } else {\n",
       "    var attempts = 0;\n",
       "    var timer = setInterval(function(root) {\n",
       "      if (root.Bokeh !== undefined) {\n",
       "        embed_document(root);\n",
       "        clearInterval(timer);\n",
       "      }\n",
       "      attempts++;\n",
       "      if (attempts > 100) {\n",
       "        console.log(\"Bokeh: ERROR: Unable to run BokehJS code because BokehJS library is missing\");\n",
       "        clearInterval(timer);\n",
       "      }\n",
       "    }, 10, root)\n",
       "  }\n",
       "})(window);"
      ],
      "application/vnd.bokehjs_exec.v0+json": ""
     },
     "metadata": {
      "application/vnd.bokehjs_exec.v0+json": {
       "id": "1004"
      }
     },
     "output_type": "display_data"
    }
   ],
   "source": [
    "def get_plot(graph: Set[Tuple[int]], color_nodes: Optional[List[int]] = None) -> Plot:\n",
    "    \"\"\"Creates bokeh graph plot from edge set.\n",
    "    \n",
    "    Arguments:\n",
    "        graph: The graph to plot.\n",
    "        color_nodes: Colors given nodes green, default is white.\n",
    "    \"\"\"\n",
    "    color_nodes = color_nodes or []\n",
    "\n",
    "    G = nx.Graph(list(graph))\n",
    "    edge_attrs = {}\n",
    "    node_attrs = {}\n",
    "\n",
    "    for start_node, end_node, _ in G.edges(data=True):\n",
    "        edge_attrs[(start_node, end_node)] = \"black\"\n",
    "\n",
    "    for node in G.nodes:\n",
    "        node_attrs[node] = \"green\" if node in color_nodes else \"white\"\n",
    "\n",
    "    nx.set_edge_attributes(G, edge_attrs, \"edge_color\")\n",
    "    nx.set_node_attributes(G, node_attrs, \"node_color\")\n",
    "\n",
    "    # Show with Bokeh\n",
    "    plot = Plot(\n",
    "        plot_width=400,\n",
    "        plot_height=400,\n",
    "        x_range=Range1d(-1.1, 1.1),\n",
    "        y_range=Range1d(-1.1, 1.1),\n",
    "    )\n",
    "\n",
    "    graph_renderer = from_networkx(G, nx.spring_layout, scale=1, center=(0, 0))\n",
    "    graph_renderer.node_renderer.glyph = Circle(size=15, fill_color=\"node_color\")\n",
    "    plot.renderers.append(graph_renderer)\n",
    "\n",
    "    node_hover_tool = HoverTool(tooltips=[(\"index\", \"@index\")])\n",
    "    plot.add_tools(node_hover_tool)\n",
    "\n",
    "    return plot\n",
    "\n",
    "\n",
    "plot = get_plot(graph)\n",
    "show(plot)"
   ]
  },
  {
   "cell_type": "markdown",
   "metadata": {},
   "source": [
    "Form of the matrix which can be plugged in the annealer.\n",
    "\n",
    "The condition to minimize is \n",
    "\n",
    "$$\n",
    "    \\sum_{i=0}^{N_n} x_i  \\quad \\Leftrightarrow \\quad \\vec x \\cdot \\mathbb{1} \\cdot \\vec x\n",
    "$$\n",
    "\n",
    "with $x_i = 1, 0$ specifying wethere a node is in the dominating set or not.\n",
    "\n",
    "This condition needs to be minimized under the constraint\n",
    "\n",
    "$$\n",
    "    x_i + \\sum_{j \\in \\mathcal{N}_i} x_j \\geq 1 \\, \\forall_{i} \\in V\n",
    "$$\n",
    "where $\\mathcal{N}_i$ is the neighborhood of $i$.\n",
    "This is equivalent ot saying that for all vertex, the vertex at least one neighboring vertex must be included in the dominating set.\n",
    "\n",
    "\n",
    "This constraint can be mapped to\n",
    "$$\n",
    "    x_i  - s_{i} - 1 + \\sum_{j \\in \\mathcal{N}_i} x_j = 0 \\, , \\quad s_{i} \\geq 0 \\, .\n",
    "$$\n",
    "So we have to map each $s$ to integers.\n",
    "The above equation can only be zero if at least on of $x = 1$."
   ]
  },
  {
   "cell_type": "markdown",
   "metadata": {},
   "source": [
    "Thus our D-Wave function is\n",
    "\n",
    "$$\n",
    "    \\text{argmin}_{\\vec x, \\vec s}\\left[\n",
    "        \\sum_{i=0}^{N_n-1} x_i\n",
    "        + p\n",
    "        \\sum_{i=0}^{N_n-1} \\left(x_i  - s_{i} - 1  + \\sum_{j \\in\\mathcal{N}_i} x_j\\right)^2 = 0\n",
    "    \\right]\n",
    "    \\, ,\n",
    "$$\n",
    "with $p > N_n$."
   ]
  },
  {
   "cell_type": "markdown",
   "metadata": {},
   "source": [
    "Now we have that $|\\mathcal{N}_i| \\leq 2^{b_i} = \\max(s_i)$ .\n",
    "Meaning $s_i = \\sum_{k=0}^{b_i} 2^k q_k$ with $ q_k = 0, 1$.\n",
    "\n",
    "\\begin{align}\n",
    "    \\sum_{i=0}^{N_n-1} \\left(x_i - s_{i} - 1 + \\sum_{j \\in\\mathcal{N}_i} x_j\\right)^2\n",
    "    &=\n",
    "    \\alpha_{i_1 i_2} x_{i_1} x_{i_2}\n",
    "    + \\beta_{i_1 i_2} x_{i_1} q_{k_2}\n",
    "    + \\gamma_{i_1 i_2} q_{k_1} q_{k_2}\n",
    "    + 1\n",
    "    =\n",
    "    \\psi Q \\psi + 1\n",
    "\\end{align}\n",
    "such that\n",
    "$$\n",
    "    Q = \\begin{pmatrix}\\alpha & \\beta \\\\ 0 & \\gamma \\end{pmatrix}\n",
    "    \\, , \\qquad\n",
    "    \\psi = \\begin{pmatrix} \\vec x \\\\ \\vec q\\end{pmatrix}\n",
    "$$"
   ]
  },
  {
   "cell_type": "markdown",
   "metadata": {},
   "source": [
    "With\n",
    "\n",
    "\\begin{align}\n",
    "    \\alpha \\leftrightarrow & \n",
    "        x_i^2 + 2 x_i \\sum_j x_j  - 2 x_i - 2 \\sum_j x_j + \\left(\\sum_j x_j\\right)^2\n",
    "    \\, , &\n",
    "    \\beta \\leftrightarrow & \n",
    "        - 2 x_i s_i - 2 s_i \\sum_j x_j\n",
    "    \\, , &\n",
    "    \\gamma \\leftrightarrow & \\,\n",
    "       s_i^2 + 2 s_i\n",
    "    \\\\\n",
    "    \\alpha = & \\mathbb{1} + 2 N - 2 \\mathbb{1} - 2 \\text{diag}(|N|) + N^2\n",
    "    \\, , &\n",
    "    \\beta = & -2 (\\mathbb{1} + N) B\n",
    "    \\, , &\n",
    "     \\gamma = & \\, B^T\\mathbb{1}B + 2 \\text{diag}(|B|)\n",
    "\\end{align}\n",
    "\n",
    "where $N_{ij}$ is the adjecency matrix of the graph (symmetric and zero diagonal) and $B_{ik}$ is the bit map for\n",
    "integers $s_i$  to bits $q_k$ (note that the map encodes different $s_i$ with different length bits)."
   ]
  },
  {
   "cell_type": "markdown",
   "metadata": {
    "heading_collapsed": true
   },
   "source": [
    "## Details"
   ]
  },
  {
   "cell_type": "markdown",
   "metadata": {
    "hidden": true
   },
   "source": [
    "\\begin{align}\n",
    "    \\sum_{i \\in V} x_i^2 &\\to \\delta_{ij} \\,,&\n",
    "    \\sum_{i \\in V} x_i & \\to \\delta_{ij} \\,,\n",
    "\\end{align}\n",
    "\n",
    "\\begin{align}\n",
    "    \\sum_{i \\in V} \\sum_{j \\in \\mathcal N_i} x_j & \\to \\sum_{k} N_{kj} \\delta_{ij} \\, , &\n",
    "    \\sum_{i \\in V} \\sum_{j \\in \\mathcal N_i} x_i x_j & \\to N_{ij} \\, , &\n",
    "    \\sum_{i_1 \\in V}\\sum_{j_1 \\in\\mathcal{N}_{i_1}} x_{j_1} \\sum_{j_2 \\in\\mathcal{N}_{i_1}} x_{j_2}\n",
    "    & \\to\n",
    "   N_{i j_1} N_{i j_2}\n",
    "   =\n",
    "   N_{j_1 i} N_{i j_2} \\, ,\n",
    "\\end{align}\n",
    "\n",
    "\\begin{align}\n",
    "   \\sum_{i \\in V} \\sum_{j \\in \\mathcal N_i} s_i x_j & \\to \\sum_k N_{ji} B_{ik}  \\, , &\n",
    "\\end{align}\n",
    "where $N_{ij}$ is the adjecency matrix of the graph (symmetric and zero diagonal)."
   ]
  },
  {
   "cell_type": "markdown",
   "metadata": {
    "hidden": true
   },
   "source": [
    "$$\n",
    "     \\sum_{j \\in \\mathcal N_i} x_j = \\vec n_i \\cdot \\vec x  = \\sum_{j \\in V} N_{ij} x_j\\, ,\n",
    "$$\n",
    "\n",
    "where $\\vec n_i$ is a vector of ones and zeros---being one if vertx $j$ is a neighbor of vertex $i$.\n",
    "I believe $N$ is also called the adjancency matrix of the graph.\n",
    "\n",
    "$$\n",
    "    N_{ij} = \\begin{cases}\n",
    "        1 & j \\in \\mathcal N_i \\\\ 0 & \\text{otherwise}\n",
    "    \\end{cases}\n",
    "$$\n",
    "\n",
    "Note that $i$ is not in its own neighborhood $\\mathcal N_i$.\n",
    "\n",
    "Thus\n",
    "\\begin{align}\n",
    "    \\sum_{i \\in V} x_i c_i\n",
    "    &=\n",
    "    \\vec c \\cdot \\vec x\n",
    "    \\, , &\n",
    "    c_i = \\vec n_i \\cdot \\vec x\n",
    "    & & \\Rightarrow&  &\n",
    "    \\sum_{i \\in V} \\sum_{j \\in \\mathcal N_i} x_i x_j\n",
    "    &=\n",
    "    \\vec x \\cdot N \\cdot \\vec x \n",
    "\\end{align}\n",
    "\n",
    "and accordingly\n",
    "\n",
    "\\begin{align}\n",
    "    \\sum_{i \\in V} \\sum_{j \\in\\mathcal{N}_{i}} x_{j}\n",
    "    & \\to\n",
    "    \\sum_{j \\in V}|\\mathcal N_j| x_j\n",
    "\\end{align}\n",
    "where $|\\mathcal N_j|$ is the number of neighbors of vertex $j$."
   ]
  },
  {
   "cell_type": "markdown",
   "metadata": {},
   "source": [
    "## Example"
   ]
  },
  {
   "cell_type": "markdown",
   "metadata": {},
   "source": [
    "Picture the graph\n",
    "$$\n",
    " 0 - 1 - 2\n",
    "$$\n",
    "\n",
    "Thus we have\n",
    "\\begin{align}\n",
    "    N &= \\begin{pmatrix}\n",
    "        0 & 1 & 0 \\\\ 1 & 0 & 1 \\\\ 0 & 1 & 0\n",
    "    \\end{pmatrix}\n",
    "   \\, , &\n",
    "   |N| = \\begin{pmatrix}\n",
    "        1 \\\\ 2 \\\\ 1\n",
    "   \\end{pmatrix}\n",
    "   \\, .\n",
    "\\end{align}\n",
    "\n",
    "The slack variables must be $\\vec s \\geq |N|$. Thus the bit map is given by\n",
    "\\begin{align}\n",
    "    s_1 &= 2^0 q_{1 0} \\Rightarrow \\max(s_1) \\geq 1 \\, , & \n",
    "    s_2 &= 2^0 q_{2 0} + 2^1 q_{2 1} \\Rightarrow \\max(s_2) \\geq 2 \\, , & \n",
    "    s_3 &= 2^0 q_{3 0} \\Rightarrow \\max(s_3) \\geq 1 \\, , & \n",
    "\\end{align}\n",
    "with $q_{ik} \\in \\{0,1\\}$.\n",
    "We therefor get\n",
    "\\begin{align}\n",
    "    B &= \\begin{pmatrix}\n",
    "        1 & 0 & 0 & 0 \\\\ 0 & 1 & 2 & 0 \\\\ 0 & 0 & 0 & 1\n",
    "    \\end{pmatrix}\n",
    "   \\, , &\n",
    "   \\vec q\n",
    "   &=\n",
    "   \\begin{pmatrix}\n",
    "        q_{1 0} \\\\ q_{2 0} \\\\ q_{2 1} \\\\ q_{3 0}\n",
    "   \\end{pmatrix}\n",
    "   \\, , &\n",
    "   |B| = \\begin{pmatrix}\n",
    "        1 \\\\ 1 \\\\ 2 \\\\ 1\n",
    "   \\end{pmatrix}\n",
    "   \\, .\n",
    "\\end{align}\n",
    "\n"
   ]
  },
  {
   "cell_type": "code",
   "execution_count": 322,
   "metadata": {},
   "outputs": [
    {
     "name": "stdout",
     "output_type": "stream",
     "text": [
      "N = \n",
      " [[0 1 0]\n",
      " [1 0 1]\n",
      " [0 1 0]]\n",
      "\n",
      "|N| = \n",
      " [[1]\n",
      " [2]\n",
      " [1]]\n",
      "B = \n",
      " [[1 0 0 0]\n",
      " [0 1 2 0]\n",
      " [0 0 0 1]]\n"
     ]
    }
   ],
   "source": [
    "graph = {(0, 1), (1, 2)}\n",
    "\n",
    "adjacency = dok_matrix((3, 3), dtype=int)\n",
    "\n",
    "for edge in graph:\n",
    "    adjacency[edge] = 1\n",
    "adjacency += adjacency.T\n",
    "print(\"N = \\n\", adjacency.todense())\n",
    "print(\"\\n|N| = \\n\", adjacency.sum(axis=1))\n",
    "\n",
    "bitmap = dok_matrix((3, 4), dtype=int)\n",
    "bitmap[(0, 0)] = 1\n",
    "bitmap[(1, 1)] = 1\n",
    "bitmap[(1, 2)] = 2\n",
    "bitmap[(2, 3)] = 1\n",
    "\n",
    "\n",
    "print(\"B = \\n\", bitmap.todense())"
   ]
  },
  {
   "cell_type": "code",
   "execution_count": 323,
   "metadata": {},
   "outputs": [],
   "source": [
    "one = dok_matrix(adjacency.shape, dtype=int)\n",
    "for n in range(adjacency.shape[0]):\n",
    "    one[(n, n)] = 1\n",
    "\n",
    "neighborhood = dok_matrix(adjacency.shape, dtype=int)\n",
    "for n, el in enumerate(adjacency.sum(axis=1)):\n",
    "    neighborhood[(n, n)] = el\n",
    "\n",
    "alpha = -one + 2 * adjacency - 2 * neighborhood + adjacency @ adjacency"
   ]
  },
  {
   "cell_type": "code",
   "execution_count": 324,
   "metadata": {},
   "outputs": [],
   "source": [
    "from sympy import S, Matrix"
   ]
  },
  {
   "cell_type": "code",
   "execution_count": 325,
   "metadata": {},
   "outputs": [
    {
     "name": "stdout",
     "output_type": "stream",
     "text": [
      "Matrix([[x1], [x2], [x3]])\n"
     ]
    },
    {
     "data": {
      "text/latex": [
       "$\\displaystyle - 2 x_{1}^{2} + 4 x_{1} x_{2} + 2 x_{1} x_{3} - 3 x_{2}^{2} + 4 x_{2} x_{3} - 2 x_{3}^{2} + 3$"
      ],
      "text/plain": [
       "-2*x1**2 + 4*x1*x2 + 2*x1*x3 - 3*x2**2 + 4*x2*x3 - 2*x3**2 + 3"
      ]
     },
     "execution_count": 325,
     "metadata": {},
     "output_type": "execute_result"
    }
   ],
   "source": [
    "x1, x2, x3 = S(\"x1\"), S(\"x2\"), S(\"x3\")\n",
    "M = Matrix(alpha.todense())\n",
    "x = Matrix([[x1, x2, x3]]).T\n",
    "\n",
    "print(x)\n",
    "\n",
    "sol = (x.T @ M @ x).expand()[0] + 3\n",
    "sol"
   ]
  },
  {
   "cell_type": "code",
   "execution_count": 326,
   "metadata": {},
   "outputs": [
    {
     "data": {
      "text/latex": [
       "$\\displaystyle 2 x_{1}^{2} + 4 x_{1} x_{2} + 2 x_{1} x_{3} - 4 x_{1} + 3 x_{2}^{2} + 4 x_{2} x_{3} - 6 x_{2} + 2 x_{3}^{2} - 4 x_{3} + 3$"
      ],
      "text/plain": [
       "2*x1**2 + 4*x1*x2 + 2*x1*x3 - 4*x1 + 3*x2**2 + 4*x2*x3 - 6*x2 + 2*x3**2 - 4*x3 + 3"
      ]
     },
     "execution_count": 326,
     "metadata": {},
     "output_type": "execute_result"
    }
   ],
   "source": [
    "nn = Matrix([x2, x1 + x3, x2])\n",
    "\n",
    "constraint = Matrix([x1 - 1 + x2, x2 - 1 + x1 + x3, x3 - 1 + x2])\n",
    "eq = (constraint.T @ constraint).expand()[0]\n",
    "eq"
   ]
  },
  {
   "cell_type": "code",
   "execution_count": 327,
   "metadata": {},
   "outputs": [
    {
     "data": {
      "text/latex": [
       "$\\displaystyle 4 x_{1}^{2} - 4 x_{1} + 6 x_{2}^{2} - 6 x_{2} + 4 x_{3}^{2} - 4 x_{3}$"
      ],
      "text/plain": [
       "4*x1**2 - 4*x1 + 6*x2**2 - 6*x2 + 4*x3**2 - 4*x3"
      ]
     },
     "execution_count": 327,
     "metadata": {},
     "output_type": "execute_result"
    }
   ],
   "source": [
    "eq - sol"
   ]
  },
  {
   "cell_type": "code",
   "execution_count": 328,
   "metadata": {},
   "outputs": [
    {
     "data": {
      "text/plain": [
       "matrix([[-2, -2, -4,  0],\n",
       "        [-2, -2, -4, -2],\n",
       "        [ 0, -2, -4, -2]], dtype=int64)"
      ]
     },
     "execution_count": 328,
     "metadata": {},
     "output_type": "execute_result"
    }
   ],
   "source": [
    "q10, q20, q21, q30 = S(\"q10\"), S(\"q20\"), S(\"q21\"), S(\"q30\")\n",
    "q = Matrix([[q10, q20, q21, q30]]).T\n",
    "\n",
    "beta = -2 * (one + adjacency) @ bitmap\n",
    "beta.todense()"
   ]
  },
  {
   "cell_type": "code",
   "execution_count": 329,
   "metadata": {},
   "outputs": [
    {
     "data": {
      "text/latex": [
       "$\\displaystyle - 2 s_{1} x_{1} - 2 s_{1} x_{2} - 2 s_{2} x_{1} - 2 s_{2} x_{2} - 2 s_{2} x_{3} - 2 s_{3} x_{2} - 2 s_{3} x_{3}$"
      ],
      "text/plain": [
       "-2*s1*x1 - 2*s1*x2 - 2*s2*x1 - 2*s2*x2 - 2*s2*x3 - 2*s3*x2 - 2*s3*x3"
      ]
     },
     "execution_count": 329,
     "metadata": {},
     "output_type": "execute_result"
    }
   ],
   "source": [
    "s = Matrix([[\"s1\", \"s2\", \"s3\"]]).T\n",
    "sol = (x.T @ beta @ q)[0].subs({\"q10\": \"s1\", \"q30\": \"s3\", \"q20\": \"s2 - 2*q21\"}).expand()\n",
    "sol"
   ]
  },
  {
   "cell_type": "code",
   "execution_count": 331,
   "metadata": {},
   "outputs": [
    {
     "data": {
      "text/latex": [
       "$\\displaystyle - 2 s_{1} x_{1} - 2 s_{1} x_{2} - 2 s_{2} x_{1} - 2 s_{2} x_{2} - 2 s_{2} x_{3} - 2 s_{3} x_{2} - 2 s_{3} x_{3}$"
      ],
      "text/plain": [
       "-2*s1*x1 - 2*s1*x2 - 2*s2*x1 - 2*s2*x2 - 2*s2*x3 - 2*s3*x2 - 2*s3*x3"
      ]
     },
     "execution_count": 331,
     "metadata": {},
     "output_type": "execute_result"
    }
   ],
   "source": [
    "eq = (-2 * x.T @ s - 2 * nn.T @ s)[0].expand()\n",
    "eq"
   ]
  },
  {
   "cell_type": "code",
   "execution_count": 332,
   "metadata": {},
   "outputs": [
    {
     "data": {
      "text/latex": [
       "$\\displaystyle 0$"
      ],
      "text/plain": [
       "0"
      ]
     },
     "execution_count": 332,
     "metadata": {},
     "output_type": "execute_result"
    }
   ],
   "source": [
    "eq - sol"
   ]
  },
  {
   "cell_type": "code",
   "execution_count": 333,
   "metadata": {},
   "outputs": [
    {
     "data": {
      "text/plain": [
       "<4x4 sparse matrix of type '<class 'numpy.int64'>'\n",
       "\twith 6 stored elements in Compressed Sparse Row format>"
      ]
     },
     "execution_count": 333,
     "metadata": {},
     "output_type": "execute_result"
    }
   ],
   "source": [
    "bb = dok_matrix((4, 4), dtype=int)\n",
    "for n, el in enumerate(bitmap.sum(axis=0).tolist()[0]):\n",
    "    bb[(n, n)] = el\n",
    "\n",
    "gamma = bitmap.T @ bitmap + 2 * bb\n",
    "sol = (q.T @ gamma @ q)[0].expand()\n",
    "sol\n",
    "gamma"
   ]
  },
  {
   "cell_type": "code",
   "execution_count": 334,
   "metadata": {},
   "outputs": [
    {
     "data": {
      "text/latex": [
       "$\\displaystyle q_{10}^{2} + 2 q_{10} + q_{20}^{2} + 4 q_{20} q_{21} + 2 q_{20} + 4 q_{21}^{2} + 4 q_{21} + q_{30}^{2} + 2 q_{30}$"
      ],
      "text/plain": [
       "q10**2 + 2*q10 + q20**2 + 4*q20*q21 + 2*q20 + 4*q21**2 + 4*q21 + q30**2 + 2*q30"
      ]
     },
     "execution_count": 334,
     "metadata": {},
     "output_type": "execute_result"
    }
   ],
   "source": [
    "eq = (\n",
    "    ((s.T @ s)[0] + 2 * (s1 + s2 + s3))\n",
    "    .subs({\"s1\": \"q10\", \"s3\": \"q30\", \"s2\": \"q20 + 2*q21\"})\n",
    "    .expand()\n",
    ")\n",
    "eq"
   ]
  },
  {
   "cell_type": "code",
   "execution_count": 335,
   "metadata": {},
   "outputs": [
    {
     "data": {
      "text/latex": [
       "$\\displaystyle 2 q_{10}^{2} - 2 q_{10} + 2 q_{20}^{2} - 2 q_{20} + 4 q_{21}^{2} - 4 q_{21} + 2 q_{30}^{2} - 2 q_{30}$"
      ],
      "text/plain": [
       "2*q10**2 - 2*q10 + 2*q20**2 - 2*q20 + 4*q21**2 - 4*q21 + 2*q30**2 - 2*q30"
      ]
     },
     "execution_count": 335,
     "metadata": {},
     "output_type": "execute_result"
    }
   ],
   "source": [
    "sol - eq"
   ]
  },
  {
   "cell_type": "code",
   "execution_count": 336,
   "metadata": {},
   "outputs": [
    {
     "name": "stdout",
     "output_type": "stream",
     "text": [
      "[[-2  2  1]\n",
      " [ 2 -3  2]\n",
      " [ 1  2 -2]]\n",
      "[[-2 -2 -4  0]\n",
      " [-2 -2 -4 -2]\n",
      " [ 0 -2 -4 -2]]\n",
      "[[3 0 0 0]\n",
      " [0 3 2 0]\n",
      " [0 2 8 0]\n",
      " [0 0 0 3]]\n"
     ]
    }
   ],
   "source": [
    "print(alpha.todense())\n",
    "print(beta.todense())\n",
    "print(gamma.todense())"
   ]
  },
  {
   "cell_type": "code",
   "execution_count": null,
   "metadata": {},
   "outputs": [],
   "source": []
  },
  {
   "cell_type": "markdown",
   "metadata": {},
   "source": [
    "## QUBO"
   ]
  },
  {
   "cell_type": "code",
   "execution_count": 337,
   "metadata": {},
   "outputs": [
    {
     "data": {
      "text/plain": [
       "matrix([[0, 1, 0],\n",
       "        [1, 0, 1],\n",
       "        [0, 1, 0]])"
      ]
     },
     "execution_count": 337,
     "metadata": {},
     "output_type": "execute_result"
    }
   ],
   "source": [
    "def get_adjacency(graph):\n",
    "    if not isinstance(graph, set):\n",
    "        raise TypeError(\"Graph must be a set of tuples\")\n",
    "\n",
    "    nodes = set()\n",
    "    adj = dict()\n",
    "\n",
    "    for v1, v2 in graph:\n",
    "        if v1 == v2:\n",
    "            raise KeyError(f\"Self loops are not allowed (v={v1}).\")\n",
    "\n",
    "        nodes.add(v1)\n",
    "        nodes.add(v2)\n",
    "        adj[(v1, v2)] = 1\n",
    "\n",
    "    nodes = sorted(nodes)\n",
    "    n_nodes = len(nodes)\n",
    "\n",
    "    if nodes != list(range(n_nodes)):\n",
    "        raise KeyError(\"Nodes must be from 0 ... n_nodes\")\n",
    "\n",
    "    adjacency = dok_matrix((n_nodes, n_nodes), dtype=int)\n",
    "    for (v1, v2), val in adj.items():\n",
    "        adjacency[(v1, v2)] = val\n",
    "        adjacency[(v2, v1)] = val\n",
    "\n",
    "    if not all([val == 1 for val in adjacency.values()]):\n",
    "        raise KeyError(\"Double entries in graph\")\n",
    "\n",
    "    return adjacency\n",
    "\n",
    "\n",
    "adjacency = get_adjacency(graph)\n",
    "adjacency.todense()"
   ]
  },
  {
   "cell_type": "code",
   "execution_count": 338,
   "metadata": {},
   "outputs": [
    {
     "name": "stdout",
     "output_type": "stream",
     "text": [
      "[0.         1.         1.5849625  2.         2.32192809 2.5849625\n",
      " 2.80735492 3.        ]\n"
     ]
    },
    {
     "data": {
      "text/plain": [
       "array([1, 2, 2, 3, 3, 3, 3, 4])"
      ]
     },
     "execution_count": 338,
     "metadata": {},
     "output_type": "execute_result"
    }
   ],
   "source": [
    "n_neigbors = [1, 2, 3, 4, 5, 6, 7, 8]\n",
    "print(np.log2(n_neigbors))\n",
    "np.floor(np.log2(n_neigbors) + 1).astype(int)"
   ]
  },
  {
   "cell_type": "code",
   "execution_count": 345,
   "metadata": {},
   "outputs": [],
   "source": [
    "adjacency = get_adjacency(graph)\n",
    "\n",
    "n_neigbors = adjacency.sum(axis=1).flatten().tolist()[0]\n",
    "\n",
    "\n",
    "def get_bitmap(n_neigbors):\n",
    "    n_nodes = len(n_neigbors)\n",
    "\n",
    "    # Figure out how many bits we need for each neighborhood\n",
    "    n_bits = np.floor(np.log2(n_neigbors) + 1).astype(int)\n",
    "\n",
    "    bitmap = dok_matrix((n_nodes, n_bits.sum()), dtype=int)\n",
    "\n",
    "    acc = 0\n",
    "    for v, n_bits in enumerate(n_neigbors):\n",
    "        for n in range(n_bits):\n",
    "            bitmap[(v, acc)] = 2 ** n\n",
    "            acc += 1\n",
    "\n",
    "    return bitmap\n",
    "\n",
    "\n",
    "bitmap = get_bitmap(n_neigbors)\n",
    "bitmap.todense()\n",
    "\n",
    "one = dok_matrix(adjacency.shape, dtype=int)\n",
    "for n in range(adjacency.shape[0]):\n",
    "    one[(n, n)] = 1\n",
    "\n",
    "neighborhood = dok_matrix(adjacency.shape, dtype=int)\n",
    "for n, el in enumerate(adjacency.sum(axis=1)):\n",
    "    neighborhood[(n, n)] = el\n",
    "\n",
    "alpha = -one + 2 * adjacency - 2 * neighborhood + adjacency @ adjacency\n",
    "\n",
    "\n",
    "beta = -2 * (one + adjacency) @ bitmap\n",
    "\n",
    "bb = dok_matrix((4, 4), dtype=int)\n",
    "for n, el in enumerate(bitmap.sum(axis=0).tolist()[0]):\n",
    "    bb[(n, n)] = el\n",
    "\n",
    "gamma = bitmap.T @ bitmap + 2 * bb"
   ]
  },
  {
   "cell_type": "code",
   "execution_count": 346,
   "metadata": {},
   "outputs": [
    {
     "data": {
      "text/plain": [
       "<4x4 sparse matrix of type '<class 'numpy.int64'>'\n",
       "\twith 4 stored elements in Dictionary Of Keys format>"
      ]
     },
     "execution_count": 346,
     "metadata": {},
     "output_type": "execute_result"
    }
   ],
   "source": [
    "bb"
   ]
  },
  {
   "cell_type": "code",
   "execution_count": 347,
   "metadata": {},
   "outputs": [
    {
     "data": {
      "text/plain": [
       "matrix([[1, 0, 0, 0],\n",
       "        [0, 1, 2, 0],\n",
       "        [0, 2, 4, 0],\n",
       "        [0, 0, 0, 1]], dtype=int64)"
      ]
     },
     "execution_count": 347,
     "metadata": {},
     "output_type": "execute_result"
    }
   ],
   "source": [
    "(bitmap.T @ bitmap).todense()"
   ]
  },
  {
   "cell_type": "code",
   "execution_count": 348,
   "metadata": {},
   "outputs": [
    {
     "data": {
      "text/plain": [
       "matrix([[3, 0, 0, 0],\n",
       "        [0, 3, 2, 0],\n",
       "        [0, 2, 8, 0],\n",
       "        [0, 0, 0, 3]], dtype=int64)"
      ]
     },
     "execution_count": 348,
     "metadata": {},
     "output_type": "execute_result"
    }
   ],
   "source": [
    "gamma.todense()"
   ]
  },
  {
   "cell_type": "code",
   "execution_count": 349,
   "metadata": {},
   "outputs": [],
   "source": [
    "from scipy.sparse import bmat"
   ]
  },
  {
   "cell_type": "code",
   "execution_count": 350,
   "metadata": {},
   "outputs": [],
   "source": [
    "psi = Matrix([[x1, x2, x3, q10, q20, q21, q30]]).T"
   ]
  },
  {
   "cell_type": "code",
   "execution_count": 351,
   "metadata": {},
   "outputs": [
    {
     "data": {
      "text/latex": [
       "$\\displaystyle - 2 x_{1}^{2} + 4 x_{1} x_{2} + 2 x_{1} x_{3} - 3 x_{2}^{2} + 4 x_{2} x_{3} - 2 x_{3}^{2}$"
      ],
      "text/plain": [
       "-2*x1**2 + 4*x1*x2 + 2*x1*x3 - 3*x2**2 + 4*x2*x3 - 2*x3**2"
      ]
     },
     "execution_count": 351,
     "metadata": {},
     "output_type": "execute_result"
    }
   ],
   "source": [
    "mat = bmat([[alpha, beta], [None, gamma]]).todense()\n",
    "for nn in range(3):\n",
    "    pass  # mat[(nn,nn)] += 1\n",
    "\n",
    "pfull = (psi.T @ mat @ psi).expand()[0]\n",
    "\n",
    "p1 = pfull.subs({\"q10\": \"0\", \"q30\": \"0\", \"q20\": \"0\", \"q21\": \"0\"}).expand()\n",
    "p1"
   ]
  },
  {
   "cell_type": "code",
   "execution_count": 352,
   "metadata": {},
   "outputs": [
    {
     "data": {
      "text/latex": [
       "$\\displaystyle 3 q_{10}^{2} + 3 q_{20}^{2} + 4 q_{20} q_{21} + 8 q_{21}^{2} + 3 q_{30}^{2}$"
      ],
      "text/plain": [
       "3*q10**2 + 3*q20**2 + 4*q20*q21 + 8*q21**2 + 3*q30**2"
      ]
     },
     "execution_count": 352,
     "metadata": {},
     "output_type": "execute_result"
    }
   ],
   "source": [
    "p2 = (psi.T @ mat @ psi).expand()[0].subs({\"x1\": \"0\", \"x2\": \"0\", \"x3\": \"0\"}).expand()\n",
    "p2"
   ]
  },
  {
   "cell_type": "code",
   "execution_count": 353,
   "metadata": {},
   "outputs": [
    {
     "data": {
      "text/latex": [
       "$\\displaystyle - 2 s_{1} x_{1} - 2 s_{1} x_{2} - 2 s_{2} x_{1} - 2 s_{2} x_{2} - 2 s_{2} x_{3} - 2 s_{3} x_{2} - 2 s_{3} x_{3}$"
      ],
      "text/plain": [
       "-2*s1*x1 - 2*s1*x2 - 2*s2*x1 - 2*s2*x2 - 2*s2*x3 - 2*s3*x2 - 2*s3*x3"
      ]
     },
     "execution_count": 353,
     "metadata": {},
     "output_type": "execute_result"
    }
   ],
   "source": [
    "p3 = pfull - p1 - p2\n",
    "p3.subs({\"q10\": \"s1\", \"q30\": \"s3\", \"q20\": \"s2 - 2*q21\"}).expand()"
   ]
  },
  {
   "cell_type": "code",
   "execution_count": 354,
   "metadata": {},
   "outputs": [
    {
     "data": {
      "text/latex": [
       "$\\displaystyle \\left[\\begin{matrix}- s_{1} + x_{1} + x_{2} - 1\\\\- s_{2} + x_{1} + x_{2} + x_{3} - 1\\\\- s_{3} + x_{2} + x_{3} - 1\\end{matrix}\\right]$"
      ],
      "text/plain": [
       "Matrix([\n",
       "[     -s1 + x1 + x2 - 1],\n",
       "[-s2 + x1 + x2 + x3 - 1],\n",
       "[     -s3 + x2 + x3 - 1]])"
      ]
     },
     "execution_count": 354,
     "metadata": {},
     "output_type": "execute_result"
    }
   ],
   "source": [
    "(constraint - s)"
   ]
  },
  {
   "cell_type": "code",
   "execution_count": 356,
   "metadata": {},
   "outputs": [
    {
     "data": {
      "text/latex": [
       "$\\displaystyle - 2 q_{10}^{2} + 2 q_{10} - 2 q_{20}^{2} + 2 q_{20} - 4 q_{21}^{2} + 4 q_{21} - 2 q_{30}^{2} + 2 q_{30} + 4 x_{1}^{2} - 4 x_{1} + 6 x_{2}^{2} - 6 x_{2} + 4 x_{3}^{2} - 4 x_{3} + 3$"
      ],
      "text/plain": [
       "-2*q10**2 + 2*q10 - 2*q20**2 + 2*q20 - 4*q21**2 + 4*q21 - 2*q30**2 + 2*q30 + 4*x1**2 - 4*x1 + 6*x2**2 - 6*x2 + 4*x3**2 - 4*x3 + 3"
      ]
     },
     "execution_count": 356,
     "metadata": {},
     "output_type": "execute_result"
    }
   ],
   "source": [
    "sol = (\n",
    "    ((constraint - s).T @ (constraint - s))\n",
    "    .expand()[0]\n",
    "    .subs({\"s1\": \"q10\", \"s3\": \"q30\", \"s2\": \"q20 + 2*q21\"})\n",
    "    .expand()\n",
    ")\n",
    "sol - pfull"
   ]
  },
  {
   "cell_type": "code",
   "execution_count": 361,
   "metadata": {},
   "outputs": [
    {
     "data": {
      "text/plain": [
       "matrix([[-2,  2,  1, -2, -2, -4,  0],\n",
       "        [ 2, -3,  2, -2, -2, -4, -2],\n",
       "        [ 1,  2, -2,  0, -2, -4, -2],\n",
       "        [ 0,  0,  0,  3,  0,  0,  0],\n",
       "        [ 0,  0,  0,  0,  3,  2,  0],\n",
       "        [ 0,  0,  0,  0,  2,  8,  0],\n",
       "        [ 0,  0,  0,  0,  0,  0,  3]], dtype=int64)"
      ]
     },
     "execution_count": 361,
     "metadata": {},
     "output_type": "execute_result"
    }
   ],
   "source": [
    "mat"
   ]
  },
  {
   "cell_type": "code",
   "execution_count": 371,
   "metadata": {},
   "outputs": [
    {
     "name": "stdout",
     "output_type": "stream",
     "text": [
      "[0, 9, 24, 33, 9, 18, 45, 54, 9, 18, 33, 42, 18, 27, 54, 63, -5, -2, 7, 10, -2, 1, 22, 25, 4, 7, 16, 19, 7, 10, 31, 34, -8, -5, 4, 7, -5, -2, 19, 22, -5, -2, 7, 10, -2, 1, 22, 25, -1, -4, -1, -4, -4, -7, 8, 5, 2, -1, 2, -1, -1, -4, 11, 8, -5, 4, 7, 16, -2, 7, 22, 31, -2, 7, 10, 19, 1, 10, 25, 34, -4, -1, -4, -1, -7, -4, 5, 8, -1, 2, -1, 2, -4, -1, 8, 11, -1, 2, -1, 2, -4, -1, 8, 11, -4, -1, -4, -1, -7, -4, 5, 8, 12, 9, 0, -3, 3, 0, 3, 0, 9, 6, -3, -6, 0, -3, 0, -3]\n",
      "-8\n"
     ]
    },
    {
     "data": {
      "text/plain": [
       "[[1]]"
      ]
     },
     "execution_count": 371,
     "metadata": {},
     "output_type": "execute_result"
    }
   ],
   "source": [
    "qubo = mat * 3\n",
    "for nn in range(n_nodes):\n",
    "    qubo[(nn, nn)] += 1\n",
    "\n",
    "energies = []\n",
    "vecs = []\n",
    "for vv in product(*[(0, 1)] * qubo.shape[1]):\n",
    "    ee = (vv @ qubo @ vv).flatten()[(0,0)]\n",
    "    energies.append(ee)\n",
    "    vecs.append(vv)\n",
    "\n",
    "e_min = np.min(energies)\n",
    "print(energies)\n",
    "print(e_min)\n",
    "solutions = [\n",
    "    [nn for nn, bb in enumerate(vv[:n_nodes]) if bb == 1]\n",
    "    for vv, ee in zip(vecs, energies)\n",
    "    if ee == e_min\n",
    "]\n",
    "solutions"
   ]
  },
  {
   "cell_type": "code",
   "execution_count": 372,
   "metadata": {
    "scrolled": false
   },
   "outputs": [
    {
     "data": {
      "text/html": [
       "\n",
       "\n",
       "\n",
       "\n",
       "\n",
       "\n",
       "  <div class=\"bk-root\" id=\"2ed26b3b-f030-47b1-a307-57460b6d0d09\" data-root-id=\"7824\"></div>\n"
      ]
     },
     "metadata": {},
     "output_type": "display_data"
    },
    {
     "data": {
      "application/javascript": [
       "(function(root) {\n",
       "  function embed_document(root) {\n",
       "    \n",
       "  var docs_json = {\"fc62e141-0cc7-416d-aef7-c97481c5b14a\":{\"roots\":{\"references\":[{\"attributes\":{\"plot_height\":400,\"plot_width\":400,\"renderers\":[{\"id\":\"7829\",\"type\":\"GraphRenderer\"}],\"title\":{\"id\":\"8206\",\"type\":\"Title\"},\"toolbar\":{\"id\":\"7845\",\"type\":\"Toolbar\"},\"x_range\":{\"id\":\"7822\",\"type\":\"Range1d\"},\"x_scale\":{\"id\":\"8208\",\"type\":\"LinearScale\"},\"y_range\":{\"id\":\"7823\",\"type\":\"Range1d\"},\"y_scale\":{\"id\":\"8207\",\"type\":\"LinearScale\"}},\"id\":\"7824\",\"type\":\"Plot\"},{\"attributes\":{},\"id\":\"8219\",\"type\":\"NodesOnly\"},{\"attributes\":{},\"id\":\"8220\",\"type\":\"Selection\"},{\"attributes\":{\"edge_renderer\":{\"id\":\"7836\",\"type\":\"GlyphRenderer\"},\"inspection_policy\":{\"id\":\"8219\",\"type\":\"NodesOnly\"},\"layout_provider\":{\"id\":\"7838\",\"type\":\"StaticLayoutProvider\"},\"node_renderer\":{\"id\":\"7832\",\"type\":\"GlyphRenderer\"},\"selection_policy\":{\"id\":\"8214\",\"type\":\"NodesOnly\"}},\"id\":\"7829\",\"type\":\"GraphRenderer\"},{\"attributes\":{\"text\":\"\"},\"id\":\"8206\",\"type\":\"Title\"},{\"attributes\":{},\"id\":\"8207\",\"type\":\"LinearScale\"},{\"attributes\":{\"callback\":null,\"end\":1.1,\"start\":-1.1},\"id\":\"7822\",\"type\":\"Range1d\"},{\"attributes\":{\"data_source\":{\"id\":\"7835\",\"type\":\"ColumnDataSource\"},\"glyph\":{\"id\":\"7834\",\"type\":\"MultiLine\"},\"hover_glyph\":null,\"muted_glyph\":null,\"view\":{\"id\":\"7837\",\"type\":\"CDSView\"}},\"id\":\"7836\",\"type\":\"GlyphRenderer\"},{\"attributes\":{},\"id\":\"8223\",\"type\":\"UnionRenderers\"},{\"attributes\":{},\"id\":\"8221\",\"type\":\"UnionRenderers\"},{\"attributes\":{\"callback\":null,\"tooltips\":[[\"index\",\"@index\"]]},\"id\":\"7844\",\"type\":\"HoverTool\"},{\"attributes\":{\"callback\":null,\"data\":{\"edge_color\":[\"black\",\"black\"],\"end\":[1,2],\"start\":[0,1]},\"selected\":{\"id\":\"8220\",\"type\":\"Selection\"},\"selection_policy\":{\"id\":\"8221\",\"type\":\"UnionRenderers\"}},\"id\":\"7835\",\"type\":\"ColumnDataSource\"},{\"attributes\":{},\"id\":\"8222\",\"type\":\"Selection\"},{\"attributes\":{\"callback\":null,\"data\":{\"index\":[0,1,2],\"node_color\":[\"white\",\"green\",\"white\"]},\"selected\":{\"id\":\"8222\",\"type\":\"Selection\"},\"selection_policy\":{\"id\":\"8223\",\"type\":\"UnionRenderers\"}},\"id\":\"7831\",\"type\":\"ColumnDataSource\"},{\"attributes\":{\"graph_layout\":{\"0\":[-0.5697164356794835,-1.0],\"1\":[0.00062796644090556,0.0011034643017669122],\"2\":[0.5690884692385779,0.998896535698233]}},\"id\":\"7838\",\"type\":\"StaticLayoutProvider\"},{\"attributes\":{\"active_drag\":\"auto\",\"active_inspect\":\"auto\",\"active_multi\":null,\"active_scroll\":\"auto\",\"active_tap\":\"auto\",\"tools\":[{\"id\":\"7844\",\"type\":\"HoverTool\"}]},\"id\":\"7845\",\"type\":\"Toolbar\"},{\"attributes\":{\"data_source\":{\"id\":\"7831\",\"type\":\"ColumnDataSource\"},\"glyph\":{\"id\":\"7839\",\"type\":\"Circle\"},\"hover_glyph\":null,\"muted_glyph\":null,\"view\":{\"id\":\"7833\",\"type\":\"CDSView\"}},\"id\":\"7832\",\"type\":\"GlyphRenderer\"},{\"attributes\":{\"fill_color\":{\"field\":\"node_color\"},\"size\":{\"units\":\"screen\",\"value\":15}},\"id\":\"7839\",\"type\":\"Circle\"},{\"attributes\":{\"source\":{\"id\":\"7831\",\"type\":\"ColumnDataSource\"}},\"id\":\"7833\",\"type\":\"CDSView\"},{\"attributes\":{},\"id\":\"8214\",\"type\":\"NodesOnly\"},{\"attributes\":{},\"id\":\"7834\",\"type\":\"MultiLine\"},{\"attributes\":{},\"id\":\"8208\",\"type\":\"LinearScale\"},{\"attributes\":{\"callback\":null,\"end\":1.1,\"start\":-1.1},\"id\":\"7823\",\"type\":\"Range1d\"},{\"attributes\":{\"source\":{\"id\":\"7835\",\"type\":\"ColumnDataSource\"}},\"id\":\"7837\",\"type\":\"CDSView\"}],\"root_ids\":[\"7824\"]},\"title\":\"Bokeh Application\",\"version\":\"1.3.4\"}};\n",
       "  var render_items = [{\"docid\":\"fc62e141-0cc7-416d-aef7-c97481c5b14a\",\"roots\":{\"7824\":\"2ed26b3b-f030-47b1-a307-57460b6d0d09\"}}];\n",
       "  root.Bokeh.embed.embed_items_notebook(docs_json, render_items);\n",
       "\n",
       "  }\n",
       "  if (root.Bokeh !== undefined) {\n",
       "    embed_document(root);\n",
       "  } else {\n",
       "    var attempts = 0;\n",
       "    var timer = setInterval(function(root) {\n",
       "      if (root.Bokeh !== undefined) {\n",
       "        embed_document(root);\n",
       "        clearInterval(timer);\n",
       "      }\n",
       "      attempts++;\n",
       "      if (attempts > 100) {\n",
       "        console.log(\"Bokeh: ERROR: Unable to run BokehJS code because BokehJS library is missing\");\n",
       "        clearInterval(timer);\n",
       "      }\n",
       "    }, 10, root)\n",
       "  }\n",
       "})(window);"
      ],
      "application/vnd.bokehjs_exec.v0+json": ""
     },
     "metadata": {
      "application/vnd.bokehjs_exec.v0+json": {
       "id": "7824"
      }
     },
     "output_type": "display_data"
    }
   ],
   "source": [
    "for sol in solutions:\n",
    "    plot = get_plot(graph, color_nodes=sol)\n",
    "    show(plot)"
   ]
  },
  {
   "cell_type": "code",
   "execution_count": null,
   "metadata": {},
   "outputs": [],
   "source": []
  },
  {
   "cell_type": "code",
   "execution_count": null,
   "metadata": {},
   "outputs": [],
   "source": []
  }
 ],
 "metadata": {
  "kernelspec": {
   "display_name": "Python 3",
   "language": "python",
   "name": "python3"
  },
  "language_info": {
   "codemirror_mode": {
    "name": "ipython",
    "version": 3
   },
   "file_extension": ".py",
   "mimetype": "text/x-python",
   "name": "python",
   "nbconvert_exporter": "python",
   "pygments_lexer": "ipython3",
   "version": "3.7.5"
  }
 },
 "nbformat": 4,
 "nbformat_minor": 2
}
