{
 "cells": [
  {
   "cell_type": "markdown",
   "metadata": {},
   "source": [
    "# Benchmark for d-wave"
   ]
  },
  {
   "cell_type": "code",
   "execution_count": null,
   "metadata": {},
   "outputs": [],
   "source": [
    "from typing import Optional"
   ]
  },
  {
   "cell_type": "code",
   "execution_count": null,
   "metadata": {},
   "outputs": [],
   "source": [
    "import matplotlib.pylab as plt\n",
    "import os\n",
    "import numpy as np\n",
    "import pandas as pd"
   ]
  },
  {
   "cell_type": "code",
   "execution_count": null,
   "metadata": {},
   "outputs": [],
   "source": [
    "from networkx import Graph\n",
    "from networkx.algorithms.approximation import min_weighted_dominating_set"
   ]
  },
  {
   "cell_type": "code",
   "execution_count": null,
   "metadata": {},
   "outputs": [],
   "source": [
    "from dwave.system.samplers import DWaveSampler\n",
    "from dwave.system.composites import EmbeddingComposite"
   ]
  },
  {
   "cell_type": "code",
   "execution_count": null,
   "metadata": {},
   "outputs": [],
   "source": [
    "dwave_config = {\n",
    "    # \"solver\": \"DW_2000Q_5\",\n",
    "    \"annealing_time\": 100,  # integer microseconds [1, 2000]\n",
    "    \"answer_mode\": \"raw\",\n",
    "    \"auto_scale\": False,\n",
    "    \"num_reads\": 100,  # raw will dump out all results\n",
    "    \"num_spin_reversal_transforms\": 10,  # ask Travis what this is\n",
    "}\n",
    "sampler = DWaveSampler(solver=\"DW_2000Q_5\")\n",
    "embed = EmbeddingComposite(sampler)"
   ]
  },
  {
   "cell_type": "raw",
   "metadata": {},
   "source": [
    "!git show --summary"
   ]
  },
  {
   "cell_type": "code",
   "execution_count": null,
   "metadata": {},
   "outputs": [],
   "source": [
    "from qlp.mds import graph_tools as gt\n",
    "from qlp.mds.qubo import get_mds_qubo\n",
    "from qlp.mds.solver import classical_search"
   ]
  },
  {
   "cell_type": "code",
   "execution_count": null,
   "metadata": {},
   "outputs": [],
   "source": [
    "def agg_res(df: pd.DataFrame, n_nodes: Optional[int] = None) -> pd.DataFrame:\n",
    "    \"\"\"Aggregate solution columns, find probablity and sort df\n",
    "    \"\"\"\n",
    "    cols = [col for col in df.columns if str(col).isnumeric()]\n",
    "    dist = (\n",
    "        df.groupby(cols)\n",
    "        .agg({\"num_occurrences\": \"count\", \"energy\": \"mean\"})\n",
    "        .sort_values(\"num_occurrences\", ascending=False)\n",
    "    )\n",
    "    if n_nodes is not None:\n",
    "        not_cols = [col for col in cols if int(col) >= n_nodes]\n",
    "        dist = dist.reset_index(not_cols).drop(columns=not_cols)\n",
    "\n",
    "    dist[\"p\"] = dist[\"num_occurrences\"] / dist[\"num_occurrences\"].sum()\n",
    "    return dist"
   ]
  },
  {
   "cell_type": "markdown",
   "metadata": {},
   "source": [
    "# Examples"
   ]
  },
  {
   "cell_type": "markdown",
   "metadata": {
    "heading_collapsed": true
   },
   "source": [
    "## Most simple graph with unique sol"
   ]
  },
  {
   "cell_type": "code",
   "execution_count": null,
   "metadata": {
    "hidden": true
   },
   "outputs": [],
   "source": [
    "graph = {(1, 0,), (2, 0)}\n",
    "\n",
    "gt.get_plot(graph)\n",
    "plt.show()"
   ]
  },
  {
   "cell_type": "code",
   "execution_count": null,
   "metadata": {
    "hidden": true
   },
   "outputs": [],
   "source": [
    "qubo = get_mds_qubo(graph)\n",
    "qubo.todense()"
   ]
  },
  {
   "cell_type": "markdown",
   "metadata": {
    "hidden": true
   },
   "source": [
    "### Solve problem on D-Wave"
   ]
  },
  {
   "cell_type": "code",
   "execution_count": null,
   "metadata": {
    "hidden": true
   },
   "outputs": [],
   "source": [
    "e, nodes = classical_search(qubo)\n",
    "print(\"Brute force search classical minimal energy\", e)\n",
    "gt.get_plot(graph, nodes[0])\n",
    "plt.show()"
   ]
  },
  {
   "cell_type": "markdown",
   "metadata": {
    "hidden": true
   },
   "source": [
    "Apparently I had to manually rescale the QUBO to solve the right problem. It seems like min(Q) > -0.8 is a good setting\n",
    "\n",
    "https://docs.dwavesys.com/docs/latest/c_qpu_3.html#adjusting-the-problem-scale"
   ]
  },
  {
   "cell_type": "code",
   "execution_count": null,
   "metadata": {
    "hidden": true
   },
   "outputs": [],
   "source": [
    "q_min = np.array(list(qubo.values())).min()\n",
    "fact = np.abs(q_min) * 0.8\n",
    "print(fact)\n",
    "qubo_rescaled = qubo / fact"
   ]
  },
  {
   "cell_type": "markdown",
   "metadata": {
    "hidden": true
   },
   "source": [
    "Convert to dict "
   ]
  },
  {
   "cell_type": "code",
   "execution_count": null,
   "metadata": {
    "hidden": true
   },
   "outputs": [],
   "source": [
    "file_name = \"graph_res_1-0-2.csv\"\n",
    "quobo_dict = {\n",
    "    key: val for key, val in zip(qubo_rescaled.keys(), qubo_rescaled.values())\n",
    "}\n",
    "\n",
    "if os.path.exists(file_name):\n",
    "    print(\"Reading data\")\n",
    "    raw = pd.read_csv(file_name)\n",
    "else:\n",
    "    print(\"Submitting\")\n",
    "    result = embed.sample_qubo(quobo_dict, **dwave_config)\n",
    "    raw = result.to_pandas_dataframe()\n",
    "    raw.to_csv(path_or_buf=file_name, index=False)\n",
    "\n",
    "df = raw.sort_values(\"energy\", ascending=True)\n",
    "df[\"energy\"] *= fact\n",
    "df.head()"
   ]
  },
  {
   "cell_type": "code",
   "execution_count": null,
   "metadata": {
    "hidden": true
   },
   "outputs": [],
   "source": [
    "dist = agg_res(df, n_nodes=3)\n",
    "dist.head()"
   ]
  },
  {
   "cell_type": "code",
   "execution_count": null,
   "metadata": {
    "hidden": true
   },
   "outputs": [],
   "source": [
    "n_cols = 5\n",
    "first_five = dist.head(n=n_cols)\n",
    "\n",
    "fig, axs = plt.subplots(ncols=n_cols, nrows=1, squeeze=False, figsize=(10,3), dpi=100)\n",
    "\n",
    "for ind, res, ax in zip(first_five.index, first_five.to_dict(\"records\"), axs.flatten()):\n",
    "    color_nodes = set([i for i, v in enumerate(ind) if v==1])\n",
    "    gt.get_plot_mpl(graph, color_nodes=color_nodes, ax=ax)\n",
    "    p, e = res[\"p\"], res[\"energy\"]\n",
    "    ax.set_title(f\"p={int(p*100):d}%, e={int(e)}\")\n",
    "\n",
    "fig.suptitle(\"N=100\", y=1.1)\n",
    "\n",
    "plt.subplots_adjust(wspace=1.0)\n",
    "plt.show()"
   ]
  },
  {
   "cell_type": "raw",
   "metadata": {
    "hidden": true
   },
   "source": [
    "fig.savefig(file_name.replace(\"csv\", \"pdf\"), bbox_inches=\"tight\")"
   ]
  },
  {
   "cell_type": "markdown",
   "metadata": {},
   "source": [
    "## More complicated graph"
   ]
  },
  {
   "cell_type": "code",
   "execution_count": null,
   "metadata": {},
   "outputs": [],
   "source": [
    "graph = {(0, 2), (0, 3), (0, 5), (1, 2), (1, 4), (3, 4), (4, 5)}\n",
    "gt.get_plot(graph)\n",
    "plt.show()"
   ]
  },
  {
   "cell_type": "code",
   "execution_count": null,
   "metadata": {},
   "outputs": [],
   "source": [
    "qubo = get_mds_qubo(graph)"
   ]
  },
  {
   "cell_type": "code",
   "execution_count": null,
   "metadata": {},
   "outputs": [],
   "source": [
    "e, nodes = classical_search(qubo)\n",
    "print(\"Brute force search classical minimal energy\", e)\n",
    "gt.get_plot(graph, nodes[0])\n",
    "plt.show()"
   ]
  },
  {
   "cell_type": "code",
   "execution_count": null,
   "metadata": {},
   "outputs": [],
   "source": [
    "q_min = np.array(list(qubo.values())).min()\n",
    "fact = np.abs(q_min) * 0.8\n",
    "print(fact)\n",
    "qubo_rescaled = qubo / fact"
   ]
  },
  {
   "cell_type": "code",
   "execution_count": null,
   "metadata": {},
   "outputs": [],
   "source": [
    "file_name = \"graph_res_6.csv\"\n",
    "quobo_dict = {\n",
    "    key: val for key, val in zip(qubo_rescaled.keys(), qubo_rescaled.values())\n",
    "}\n",
    "\n",
    "if os.path.exists(file_name):\n",
    "    print(\"Reading data\")\n",
    "    raw = pd.read_csv(file_name)\n",
    "else:\n",
    "    print(\"Submitting\")\n",
    "    result = embed.sample_qubo(quobo_dict, **dwave_config)\n",
    "    raw = result.to_pandas_dataframe()\n",
    "    raw.to_csv(path_or_buf=file_name, index=False)\n",
    "\n",
    "df = raw.sort_values(\"energy\", ascending=True)\n",
    "df[\"energy\"] *= fact\n",
    "df.head()"
   ]
  },
  {
   "cell_type": "code",
   "execution_count": null,
   "metadata": {},
   "outputs": [],
   "source": [
    "dist = agg_res(df, n_nodes=6).sort_values(\"energy\")\n",
    "dist.head()"
   ]
  },
  {
   "cell_type": "code",
   "execution_count": null,
   "metadata": {},
   "outputs": [],
   "source": [
    "n_cols = 5\n",
    "first_five = dist.head(n=n_cols)\n",
    "\n",
    "fig, axs = plt.subplots(ncols=n_cols, nrows=1, squeeze=False, figsize=(12,3), dpi=100)\n",
    "\n",
    "for ind, res, ax in zip(first_five.index, first_five.to_dict(\"records\"), axs.flatten()):\n",
    "    color_nodes = set([i for i, v in enumerate(ind) if v==1])\n",
    "    gt.get_plot_mpl(graph, color_nodes=color_nodes, ax=ax)\n",
    "    p, e = res[\"p\"], res[\"energy\"]\n",
    "    ax.set_title(f\"p={int(p*100):d}%, e={int(e)}\")\n",
    "\n",
    "fig.suptitle(f\"D-Wave solutions sorted by energy; p_max = {dist.p.max()}, N=100\", y=1.1)\n",
    "\n",
    "plt.subplots_adjust(wspace=0.1)\n",
    "plt.show()"
   ]
  },
  {
   "cell_type": "raw",
   "metadata": {},
   "source": [
    "fig.savefig(file_name.replace(\"csv\", \"pdf\"), bbox_inches=\"tight\")"
   ]
  },
  {
   "cell_type": "markdown",
   "metadata": {},
   "source": [
    "## Presentation graph"
   ]
  },
  {
   "cell_type": "code",
   "execution_count": null,
   "metadata": {},
   "outputs": [],
   "source": [
    "graph = {(0, 1), (1, 2), (1, 3), (2, 4), (3, 4), (3, 5), (4, 6), (6, 5)}\n",
    "\n",
    "gt.get_plot(graph)\n",
    "plt.show()"
   ]
  },
  {
   "cell_type": "code",
   "execution_count": null,
   "metadata": {},
   "outputs": [],
   "source": [
    "qubo = get_mds_qubo(graph)"
   ]
  },
  {
   "cell_type": "raw",
   "metadata": {},
   "source": [
    "e, nodes = classical_search(qubo)\n",
    "print(\"Brute force search classical minimal energy\", e)\n",
    "gt.get_plot(graph, nodes[0])\n",
    "plt.show()"
   ]
  },
  {
   "cell_type": "code",
   "execution_count": null,
   "metadata": {},
   "outputs": [],
   "source": [
    "q_min = np.array(list(qubo.values())).min()\n",
    "fact = np.abs(q_min) * 0.8\n",
    "print(fact)\n",
    "qubo_rescaled = qubo / fact"
   ]
  },
  {
   "cell_type": "code",
   "execution_count": null,
   "metadata": {},
   "outputs": [],
   "source": [
    "file_name = \"graph_res_pres.csv\"\n",
    "quobo_dict = {\n",
    "    key: val for key, val in zip(qubo_rescaled.keys(), qubo_rescaled.values())\n",
    "}\n",
    "\n",
    "if os.path.exists(file_name):\n",
    "    print(\"Reading data\")\n",
    "    raw = pd.read_csv(file_name)\n",
    "else:\n",
    "    print(\"Submitting\")\n",
    "    result = embed.sample_qubo(quobo_dict, **dwave_config)\n",
    "    raw = result.to_pandas_dataframe()\n",
    "    raw.to_csv(path_or_buf=file_name, index=False)\n",
    "\n",
    "df = raw.sort_values(\"energy\", ascending=True)\n",
    "df[\"energy\"] *= fact\n",
    "df.head()"
   ]
  },
  {
   "cell_type": "code",
   "execution_count": null,
   "metadata": {},
   "outputs": [],
   "source": [
    "dist = agg_res(df, n_nodes=6).sort_values(\"energy\")\n",
    "dist.head()"
   ]
  },
  {
   "cell_type": "code",
   "execution_count": null,
   "metadata": {},
   "outputs": [],
   "source": [
    "n_cols = 5\n",
    "first_five = dist.head(n=n_cols)\n",
    "\n",
    "fig, axs = plt.subplots(ncols=n_cols, nrows=1, squeeze=False, figsize=(12,3), dpi=100)\n",
    "\n",
    "for ind, res, ax in zip(first_five.index, first_five.to_dict(\"records\"), axs.flatten()):\n",
    "    color_nodes = set([i for i, v in enumerate(ind) if v==1])\n",
    "    gt.get_plot_mpl(graph, color_nodes=color_nodes, ax=ax)\n",
    "    p, e = res[\"p\"], res[\"energy\"]\n",
    "    ax.set_title(f\"p={int(p*100):d}%, e={int(e)}\")\n",
    "\n",
    "fig.suptitle(f\"D-Wave solutions sorted by energy; p_max = {dist.p.max()}, N=100\", y=1.1)\n",
    "\n",
    "plt.subplots_adjust(wspace=0.1)\n",
    "plt.show()"
   ]
  },
  {
   "cell_type": "raw",
   "metadata": {},
   "source": [
    "fig.savefig(file_name.replace(\"csv\", \"pdf\"), bbox_inches=\"tight\")"
   ]
  },
  {
   "cell_type": "code",
   "execution_count": null,
   "metadata": {},
   "outputs": [],
   "source": []
  }
 ],
 "metadata": {
  "kernelspec": {
   "display_name": "qlp",
   "language": "python",
   "name": "qlp"
  },
  "language_info": {
   "codemirror_mode": {
    "name": "ipython",
    "version": 3
   },
   "file_extension": ".py",
   "mimetype": "text/x-python",
   "name": "python",
   "nbconvert_exporter": "python",
   "pygments_lexer": "ipython3",
   "version": "3.7.5"
  }
 },
 "nbformat": 4,
 "nbformat_minor": 2
}
