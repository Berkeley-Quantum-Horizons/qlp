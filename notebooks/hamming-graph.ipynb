{
 "cells": [
  {
   "cell_type": "markdown",
   "metadata": {},
   "source": [
    "# Example of how to set up a Hamming graph"
   ]
  },
  {
   "cell_type": "markdown",
   "metadata": {},
   "source": [
    "See also http://mathworld.wolfram.com/HammingGraph.html"
   ]
  },
  {
   "cell_type": "code",
   "execution_count": null,
   "metadata": {},
   "outputs": [],
   "source": [
    "import matplotlib.pylab as plt\n",
    "\n",
    "from networkx import complete_graph\n",
    "from networkx import cartesian_product\n",
    "\n",
    "from qlp.mds import graph_tools as gt"
   ]
  },
  {
   "cell_type": "code",
   "execution_count": null,
   "metadata": {},
   "outputs": [],
   "source": [
    "def flatten(obj):\n",
    "    \"\"\"\n",
    "    https://symbiosisacademy.org/tutorial-index/python-flatten-nested-lists-tuples-sets/\n",
    "    \"\"\"\n",
    "    for item in obj:\n",
    "        if isinstance(item, tuple):\n",
    "            yield from flatten(item)\n",
    "        else:\n",
    "            yield item"
   ]
  },
  {
   "cell_type": "code",
   "execution_count": null,
   "metadata": {},
   "outputs": [],
   "source": [
    "def v2str(v):\n",
    "    return \"\".join(map(str, flatten(v)))"
   ]
  },
  {
   "cell_type": "code",
   "execution_count": null,
   "metadata": {},
   "outputs": [],
   "source": [
    "def hamming(d, q):\n",
    "    \"\"\"Returns edges for hamming graph\n",
    "    \"\"\"\n",
    "    kq = complete_graph(q)\n",
    "    graph = kq\n",
    "    for _ in complete_graph(d - 1):\n",
    "        graph = cartesian_product(graph, kq)\n",
    "\n",
    "    edges = set(tuple(map(v2str, edge)) for edge in graph.edges)\n",
    "\n",
    "    return edges"
   ]
  },
  {
   "cell_type": "code",
   "execution_count": null,
   "metadata": {},
   "outputs": [],
   "source": [
    "d = 3\n",
    "q = 2\n",
    "kq = complete_graph(q)\n",
    "graph = hamming(d, q)"
   ]
  },
  {
   "cell_type": "code",
   "execution_count": null,
   "metadata": {},
   "outputs": [],
   "source": [
    "gt.get_plot(kq.edges)\n",
    "plt.show()"
   ]
  },
  {
   "cell_type": "code",
   "execution_count": null,
   "metadata": {},
   "outputs": [],
   "source": [
    "fig, ax = plt.subplots(figsize=(3, 2), dpi=200)\n",
    "gt.get_plot_mpl(graph, ax=ax, seed=1)\n",
    "\n",
    "fig.suptitle(f\"Hamming(d={d}, q={q})\")\n",
    "\n",
    "plt.show()"
   ]
  },
  {
   "cell_type": "raw",
   "metadata": {},
   "source": [
    "fig.savefig(\"hamming.png\", bbox_inches=\"tight\")"
   ]
  }
 ],
 "metadata": {
  "kernelspec": {
   "display_name": "Python 3",
   "language": "python",
   "name": "python3"
  },
  "language_info": {
   "codemirror_mode": {
    "name": "ipython",
    "version": 3
   },
   "file_extension": ".py",
   "mimetype": "text/x-python",
   "name": "python",
   "nbconvert_exporter": "python",
   "pygments_lexer": "ipython3",
   "version": "3.7.5"
  }
 },
 "nbformat": 4,
 "nbformat_minor": 2
}
