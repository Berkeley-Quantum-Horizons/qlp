{
 "cells": [
  {
   "cell_type": "markdown",
   "metadata": {
    "collapsed": true
   },
   "source": [
    "# dominating set\n",
    "\n",
    "Set up calculations and store in EspressoDB"
   ]
  },
  {
   "cell_type": "code",
   "execution_count": 1,
   "metadata": {},
   "outputs": [],
   "source": [
    "import matplotlib.pylab as plt\n",
    "import seaborn as sns\n",
    "import os\n",
    "os.environ[\"DJANGO_ALLOW_ASYNC_UNSAFE\"] = \"true\"\n",
    "import numpy as np\n",
    "import pandas as pd\n",
    "\n",
    "from qlp.mds import graph_tools as gt\n",
    "from qlp.mds.qubo import get_mds_qubo\n",
    "from qlp.mds.solver import classical_search\n",
    "from qlp.mds.mds_qlpdb import graph_summary, experiment_summary, data_summary, insert_result, QUBO_to_Ising\n",
    "\n",
    "from networkx import Graph\n",
    "from networkx.algorithms.approximation import min_weighted_dominating_set\n",
    "\n",
    "from dwave.system.samplers import DWaveSampler\n",
    "from dwave.system.composites import EmbeddingComposite"
   ]
  },
  {
   "cell_type": "code",
   "execution_count": 20,
   "metadata": {},
   "outputs": [
    {
     "data": {
      "image/png": "[encoded data removed]",
      "text/plain": [
       "<Figure size 432x288 with 1 Axes>"
      ]
     },
     "metadata": {},
     "output_type": "display_data"
    },
    {
     "name": "stdout",
     "output_type": "stream",
     "text": [
      "dict_values([2, 2, 2, 2])\n"
     ]
    },
    {
     "data": {
      "text/plain": [
       "{'tag': 'Hamming(2,2)',\n",
       " 'total_vertices': 4,\n",
       " 'total_edges': 4,\n",
       " 'max_edges': 2,\n",
       " 'adjacency': [[0, 1], [2, 0], [3, 1], [2, 3]],\n",
       " 'adjacency_hash': '36be59612f3ffd5db5709dc254efe294'}"
      ]
     },
     "execution_count": 20,
     "metadata": {},
     "output_type": "execute_result"
    }
   ],
   "source": [
    "# Define Adjacency matrix\n",
    "# Hamming(d,q)\n",
    "tag = \"Hamming(2,2)\"\n",
    "#graph = {(0, 1), (1, 2)}\n",
    "graph = gt.generate_hamming_graph(2, 2)\n",
    "penalty = 2\n",
    "\n",
    "directed = False\n",
    "qubo = get_mds_qubo(graph, directed=directed, penalty = penalty, triangularize=True, dtype=\"d\")\n",
    "\n",
    "q_min = np.array(list(qubo.values())).min()\n",
    "\n",
    "gt.get_plot(graph, directed=directed)\n",
    "plt.show()\n",
    "graph_params = graph_summary(tag, graph)\n",
    "graph_params"
   ]
  },
  {
   "cell_type": "code",
   "execution_count": 21,
   "metadata": {},
   "outputs": [
    {
     "name": "stdout",
     "output_type": "stream",
     "text": [
      "Initial\n",
      "max(J) = 2.0\n",
      "max(h) = 5.5\n",
      "DWave J_range = [-1.0, 1.0] \n",
      "DWave h_range = [-2.0, 2.0]\n",
      "Must scale QUBO to these ranges\n",
      "\n",
      "Rescaled\n",
      "max(J) = 0.6060606060606061\n",
      "max(h) = 1.6666666666666667\n",
      "DWave J_range = [-1.0, 1.0] \n",
      "DWave h_range = [-2.0, 2.0]\n",
      "Must scale QUBO to these ranges\n"
     ]
    }
   ],
   "source": [
    "J, h, C = QUBO_to_Ising(qubo.todense().tolist())\n",
    "maxJ = max(abs(J).flatten())\n",
    "maxh = max(abs(h))\n",
    "print(\"Initial\")\n",
    "print(f\"max(J) = {maxJ}\")\n",
    "print(f\"max(h) = {maxh}\")\n",
    "print(\"DWave J_range = [-1.0, 1.0] \\nDWave h_range = [-2.0, 2.0]\")\n",
    "print(\"Must scale QUBO to these ranges\\n\")\n",
    "fact = max([maxJ, maxh/2]) * 1.2\n",
    "qubo = qubo / fact\n",
    "\n",
    "J, h, C = QUBO_to_Ising(qubo.todense().tolist())\n",
    "maxJ = max(abs(J).flatten())\n",
    "maxh = max(abs(h))\n",
    "print(\"Rescaled\")\n",
    "print(f\"max(J) = {maxJ}\")\n",
    "print(f\"max(h) = {maxh}\")\n",
    "print(\"DWave J_range = [-1.0, 1.0] \\nDWave h_range = [-2.0, 2.0]\")\n",
    "print(\"Must scale QUBO to these ranges\")"
   ]
  },
  {
   "cell_type": "code",
   "execution_count": 22,
   "metadata": {},
   "outputs": [
    {
     "name": "stderr",
     "output_type": "stream",
     "text": [
      "100%|██████████| 4096/4096 [00:00<00:00, 8937.80it/s]\n"
     ]
    },
    {
     "data": {
      "text/plain": [
       "(-1.818181818181818,\n",
       " [(2, 3, 8, 10),\n",
       "  (1, 3, 6, 10),\n",
       "  (1, 2, 4, 10),\n",
       "  (0, 3, 6, 8),\n",
       "  (0, 2, 4, 8),\n",
       "  (0, 1, 4, 6)])"
      ]
     },
     "execution_count": 22,
     "metadata": {},
     "output_type": "execute_result"
    }
   ],
   "source": [
    "classical_search(qubo)"
   ]
  },
  {
   "cell_type": "code",
   "execution_count": 23,
   "metadata": {},
   "outputs": [],
   "source": [
    "# DWave settings\n",
    "dwave_config = {\n",
    "    \"annealing_time\": 200,  # integer microseconds [1, 2000]\n",
    "    \"answer_mode\": \"raw\",\n",
    "    \"auto_scale\": False,\n",
    "    \"num_reads\": 1000,  # raw will dump out all results\n",
    "    \"num_spin_reversal_transforms\": 0,  # ask Travis what this is\n",
    "    \"readout_thermalization\": 0, # default 0\n",
    "    \"programming_thermalization\": 1000, # default 1000\n",
    "}\n",
    "solver = \"DW_2000Q_5\"\n",
    "\n",
    "experiment_params = experiment_summary(machine=solver, settings=dwave_config, penalty=penalty, factor=fact, qubo=qubo)"
   ]
  },
  {
   "cell_type": "code",
   "execution_count": null,
   "metadata": {
    "scrolled": false
   },
   "outputs": [
    {
     "name": "stdout",
     "output_type": "stream",
     "text": [
      "0\n",
      "1\n",
      "2\n",
      "3\n",
      "4\n",
      "5\n",
      "6\n",
      "7\n",
      "8\n"
     ]
    }
   ],
   "source": [
    "# Solve on DWave and push to database\n",
    "sampler = DWaveSampler(solver=solver)\n",
    "embed = EmbeddingComposite(sampler)\n",
    "qubo_dict = {key: val for key, val in zip(qubo.keys(), qubo.values())}\n",
    "for idx in range(10):\n",
    "    print(idx)\n",
    "    result = embed.sample_qubo(qubo_dict, **dwave_config)\n",
    "    raw = result.to_pandas_dataframe()\n",
    "    data_params = data_summary(raw, graph_params, experiment_params)\n",
    "    result = insert_result(graph_params, experiment_params, data_params)\n",
    "print(raw.sort_values(\"energy\", ascending=True))"
   ]
  },
  {
   "cell_type": "code",
   "execution_count": null,
   "metadata": {},
   "outputs": [],
   "source": []
  }
 ],
 "metadata": {
  "kernelspec": {
   "display_name": "quantum_linear_programming",
   "language": "python",
   "name": "quantum_linear_programming"
  },
  "language_info": {
   "codemirror_mode": {
    "name": "ipython",
    "version": 3
   },
   "file_extension": ".py",
   "mimetype": "text/x-python",
   "name": "python",
   "nbconvert_exporter": "python",
   "pygments_lexer": "ipython3",
   "version": "3.7.4"
  }
 },
 "nbformat": 4,
 "nbformat_minor": 1
}
