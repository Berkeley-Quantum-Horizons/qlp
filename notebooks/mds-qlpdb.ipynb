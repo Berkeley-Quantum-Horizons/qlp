{
 "cells": [
  {
   "cell_type": "markdown",
   "metadata": {
    "collapsed": true
   },
   "source": [
    "# dominating set\n",
    "\n",
    "Set up calculations and store in EspressoDB"
   ]
  },
  {
   "cell_type": "code",
   "execution_count": 2,
   "metadata": {},
   "outputs": [],
   "source": [
    "import matplotlib.pylab as plt\n",
    "import seaborn as sns\n",
    "import os\n",
    "os.environ[\"DJANGO_ALLOW_ASYNC_UNSAFE\"] = \"true\"\n",
    "import numpy as np\n",
    "import pandas as pd\n",
    "\n",
    "from qlp.mds import graph_tools as gt\n",
    "from qlp.mds.qubo import get_mds_qubo\n",
    "from qlp.mds.solver import classical_search\n",
    "from qlp.mds.mds_qlpdb import graph_summary, experiment_summary, data_summary, insert_result, QUBO_to_Ising, embed_with_offset\n",
    "\n",
    "import networkx as nx\n",
    "from networkx import Graph\n",
    "from networkx.drawing.nx_pylab import draw\n",
    "from networkx.algorithms.approximation import min_weighted_dominating_set\n",
    "from networkx.algorithms.dominating import dominating_set\n",
    "\n",
    "from dwave.system.samplers import DWaveSampler"
   ]
  },
  {
   "cell_type": "code",
   "execution_count": 4,
   "metadata": {
    "scrolled": false
   },
   "outputs": [
    {
     "data": {
      "image/png": "[encoded data removed]",
      "text/plain": [
       "<Figure size 432x288 with 1 Axes>"
      ]
     },
     "metadata": {},
     "output_type": "display_data"
    },
    {
     "name": "stdout",
     "output_type": "stream",
     "text": [
      "{'tag': 'NN(2)', 'total_vertices': 2, 'total_edges': 1, 'max_edges': 1, 'adjacency': [[0, 1]], 'adjacency_hash': '2864ee150babb3f03de5e76a1733df4b'}\n",
      "Greedy solution\n",
      " {0}\n",
      "Chain strength: 4.0\n",
      "Solving 2/2"
     ]
    },
    {
     "data": {
      "image/png": "[encoded data removed]",
      "text/plain": [
       "<Figure size 432x288 with 1 Axes>"
      ]
     },
     "metadata": {},
     "output_type": "display_data"
    },
    {
     "name": "stdout",
     "output_type": "stream",
     "text": [
      "{'tag': 'NN(3)', 'total_vertices': 3, 'total_edges': 2, 'max_edges': 2, 'adjacency': [[0, 1], [1, 2]], 'adjacency_hash': '5c6af54e077bddcd12076955a2eee364'}\n",
      "Greedy solution\n",
      " {0, 2}\n",
      "Chain strength: 4.0\n",
      "Solving 2/2"
     ]
    }
   ],
   "source": [
    "# Define Adjacency matrix\n",
    "# Hamming(d,q)\n",
    "# Biparti\n",
    "# NN(v): 1D nearest neighbor with v vertices. max is 16 before minor embedding starts breaking\n",
    "#graph, tag = gt.generate_hamming_graph(1, 2)\n",
    "#graph, tag = gt.generate_bipartite_graph(3, 3)\n",
    "#graph, tag = gt.generate_newman_watts_strogatz_graph(10, 4, 0.1)\n",
    "# graph, tag = gt.generate_corona_graph(3,6)\n",
    "for nvertices in range(2,13):\n",
    "    graph, tag = gt.generate_nn_graph(nvertices)\n",
    "    penalty = 2\n",
    "\n",
    "    directed = False\n",
    "    qubo = get_mds_qubo(graph, directed=directed, penalty = penalty, triangularize=True, dtype=\"d\")\n",
    "    q_min = np.array(list(qubo.values())).min()\n",
    "\n",
    "    gt.get_plot(graph, directed=directed)\n",
    "    plt.show()\n",
    "    graph_params = graph_summary(tag, graph)\n",
    "    print(graph_params)\n",
    "\n",
    "    G = nx.Graph()\n",
    "    G.add_edges_from(graph)\n",
    "    print(\"Greedy solution\\n\", dominating_set(G))\n",
    "    \n",
    "    # Experiment\n",
    "    J, h, C = QUBO_to_Ising(qubo.todense().tolist())\n",
    "    maxJ = max(abs(J).flatten())\n",
    "    maxh = max(abs(h))\n",
    "    #print(\"Initial\")\n",
    "    #print(f\"max(J) = {maxJ}\")\n",
    "    #print(f\"max(h) = {maxh}\")\n",
    "    #print(\"DWave J_range = [-1.0, 1.0] \\nDWave h_range = [-2.0, 2.0]\")\n",
    "    #print(\"Must scale QUBO to these ranges\\n\")\n",
    "    fact = 1 #max([maxJ, maxh/2]) * 1.2\n",
    "    qubo = qubo / fact\n",
    "\n",
    "    J, h, C = QUBO_to_Ising(qubo.todense().tolist())\n",
    "    maxJ = max(abs(J).flatten())\n",
    "    maxh = max(abs(h))\n",
    "    #print(\"Rescaled\")\n",
    "    #print(f\"max(J) = {maxJ}\")\n",
    "    #print(f\"max(h) = {maxh}\")\n",
    "    #print(\"DWave J_range = [-1.0, 1.0] \\nDWave h_range = [-2.0, 2.0]\")\n",
    "    #print(\"Must scale QUBO to these ranges\\n\")\n",
    "\n",
    "    # Set chain strength\n",
    "    chain_strength = maxJ*2\n",
    "    print(f\"Chain strength: {chain_strength}\")\n",
    "    \n",
    "    # DWave settings\n",
    "    solver = \"DW_2000Q_5\"\n",
    "    sampler = DWaveSampler(solver=solver)\n",
    "    \n",
    "    # Set offset percentage\n",
    "    # set percentage to 0 for no offset\n",
    "    percentage = 0.05\n",
    "    \n",
    "    iterations = 10\n",
    "    for idx in range(iterations):\n",
    "        print(f\"\\rSolving {idx+1}/{iterations}\", end=\"\")\n",
    "        qubo_dict, embed, anneal_offsets = embed_with_offset(sampler=sampler, qubo=qubo, percentage=percentage, offset=True)\n",
    "\n",
    "        dwave_config = {\n",
    "            \"annealing_time\": 500,  # integer microseconds [1, 2000]\n",
    "            \"answer_mode\": \"histogram\", # histogram or raw\n",
    "            \"auto_scale\": True,\n",
    "            \"num_reads\": 1000,  # raw will dump out all results\n",
    "            \"num_spin_reversal_transforms\": 0,\n",
    "            \"readout_thermalization\": 0, # default 0\n",
    "            \"programming_thermalization\": 1000, # default 1000\n",
    "            \"chain_strength\": chain_strength,\n",
    "            \"anneal_offsets\": anneal_offsets\n",
    "        }\n",
    "        solver = \"DW_2000Q_5\"\n",
    "\n",
    "        experiment_params = experiment_summary(machine=solver, settings=dwave_config, penalty=penalty, factor=fact, chain_strength=chain_strength, percentage=percentage, qubo=qubo)\n",
    "\n",
    "        # Solve on DWave and push to database\n",
    "        result = embed.sample_qubo(qubo_dict, **dwave_config)\n",
    "        raw = result.to_pandas_dataframe()\n",
    "        data_params = data_summary(raw, graph_params, experiment_params)\n",
    "        #result = insert_result(graph_params, experiment_params, data_params)"
   ]
  },
  {
   "cell_type": "code",
   "execution_count": null,
   "metadata": {},
   "outputs": [],
   "source": [
    "graph, _ = gt.generate_corona_graph(2,0)\n",
    "print(graph)\n",
    "G = nx.Graph()\n",
    "G.add_edges_from(graph)\n",
    "draw(G)"
   ]
  },
  {
   "cell_type": "code",
   "execution_count": null,
   "metadata": {},
   "outputs": [],
   "source": []
  }
 ],
 "metadata": {
  "kernelspec": {
   "display_name": "quantum_linear_programming",
   "language": "python",
   "name": "quantum_linear_programming"
  },
  "language_info": {
   "codemirror_mode": {
    "name": "ipython",
    "version": 3
   },
   "file_extension": ".py",
   "mimetype": "text/x-python",
   "name": "python",
   "nbconvert_exporter": "python",
   "pygments_lexer": "ipython3",
   "version": "3.7.4"
  }
 },
 "nbformat": 4,
 "nbformat_minor": 1
}
