{
 "cells": [
  {
   "cell_type": "markdown",
   "metadata": {
    "collapsed": true
   },
   "source": [
    "# dominating set\n",
    "\n",
    "Set up calculations and store in EspressoDB"
   ]
  },
  {
   "cell_type": "code",
   "execution_count": 1,
   "metadata": {},
   "outputs": [],
   "source": [
    "import matplotlib.pylab as plt\n",
    "import seaborn as sns\n",
    "import os\n",
    "os.environ[\"DJANGO_ALLOW_ASYNC_UNSAFE\"] = \"true\"\n",
    "import numpy as np\n",
    "import pandas as pd\n",
    "\n",
    "from qlp.mds import graph_tools as gt\n",
    "from qlp.mds.qubo import get_mds_qubo\n",
    "from qlp.mds.solver import classical_search\n",
    "from qlp.mds.mds_qlpdb import graph_summary, experiment_summary, data_summary, insert_result, QUBO_to_Ising, embed_with_offset\n",
    "\n",
    "import networkx as nx\n",
    "from networkx import Graph\n",
    "from networkx.drawing.nx_pylab import draw\n",
    "from networkx.algorithms.approximation import min_weighted_dominating_set\n",
    "from networkx.algorithms.dominating import dominating_set\n",
    "\n",
    "from dwave.system.samplers import DWaveSampler"
   ]
  },
  {
   "cell_type": "code",
   "execution_count": null,
   "metadata": {
    "scrolled": false
   },
   "outputs": [
    {
     "data": {
      "image/png": "[encoded data removed]",
      "text/plain": [
       "<Figure size 432x288 with 1 Axes>"
      ]
     },
     "metadata": {},
     "output_type": "display_data"
    },
    {
     "name": "stdout",
     "output_type": "stream",
     "text": [
      "{'tag': 'NN(8)', 'total_vertices': 8, 'total_edges': 7, 'max_edges': 2, 'adjacency': [[0, 1], [1, 2], [6, 7], [4, 5], [5, 6], [2, 3], [3, 4]], 'adjacency_hash': '288514f57e775c5a3f5ee473dae9df3f'}\n",
      "Greedy solution\n",
      " {0, 2, 4, 6}\n",
      "Chain strength: 4.0\n",
      "Solving 1/25{0: [1044, 1042], 1: [1054, 1046], 2: [1053, 1051, 1045, 923], 3: [924, 920, 932, 1048], 4: [934, 928, 800, 926], 5: [933, 930, 941, 802], 6: [937, 942, 809], 7: [943, 936], 8: [1041], 9: [1043], 10: [1047, 1040], 11: [1055, 1049], 12: [1052, 1050], 13: [925, 922], 14: [921, 927], 15: [931], 16: [935, 929], 17: [801, 805, 813], 18: [814, 806], 19: [939], 20: [938, 940], 21: [808, 812]}\n",
      "Solving 2/25{0: [57, 60], 1: [56, 184, 63], 2: [186, 58, 314], 3: [188, 196, 187, 315], 4: [319, 327, 313], 5: [323, 195, 326, 451], 6: [321, 449, 325], 7: [457, 463, 455], 8: [59], 9: [70, 62], 10: [61, 65, 69], 11: [189, 185], 12: [191], 13: [318], 14: [317, 312], 15: [322, 194], 16: [316, 324], 17: [448, 320], 18: [453, 441, 445], 19: [462, 454], 20: [452, 450], 21: [329, 333]}\n",
      "Solving 3/25{0: [209, 212, 337], 1: [336, 342, 208, 464], 2: [341, 211, 349, 339], 3: [345, 476, 484, 473, 351, 468], 4: [358, 366, 350, 344], 5: [225, 353, 364, 481, 356], 6: [357, 355, 227, 365], 7: [231, 226], 8: [215], 9: [214], 10: [213, 210], 11: [466, 338], 12: [343], 13: [348, 340], 14: [346], 15: [354, 359], 16: [352, 480], 17: [361], 18: [367, 363], 19: [229, 224], 20: [228], 21: [230]}\n",
      "Solving 4/25{0: [1124, 1116, 1121], 1: [987, 1115, 1117, 859], 2: [1112, 984, 856, 1118], 3: [998, 990, 995, 867], 4: [989, 997, 981], 5: [980, 988, 996, 978, 1106], 6: [979, 1107], 7: [1105, 1108], 8: [1125], 9: [1119, 1127], 10: [1113], 11: [862, 870], 12: [861, 857, 869], 13: [986, 1114], 14: [991, 985], 15: [999, 993], 16: [992], 17: [982, 976], 18: [977, 983], 19: [1110, 1104], 20: [1111], 21: [1109]}\n",
      "Solving 5/25{0: [330, 333], 1: [326, 334, 318], 2: [195, 324, 323, 332], 3: [312, 184, 189, 197], 4: [182, 190, 198, 174], 5: [183, 177, 191, 175], 6: [181, 179, 173], 7: [48, 52, 176], 8: [328], 9: [331], 10: [335, 329], 11: [317, 320, 325], 12: [316, 314], 13: [192, 199], 14: [193, 321], 15: [186], 16: [187, 188], 17: [172, 169], 18: [170], 19: [180], 20: [178, 50], 21: [51]}\n",
      "Solving 6/25{0: [1845, 1843], 1: [1712, 1840], 2: [1719, 1714, 1842, 1711], 3: [1716, 1708, 1700], 4: [1704, 1710, 1702, 1832], 5: [1826, 1831, 1839, 1698], 6: [1838, 1833], 7: [1834, 1965, 1962], 8: [1847], 9: [1844], 10: [1846, 1841], 11: [1717, 1715], 12: [1713, 1718], 13: [1707], 14: [1709, 1705], 15: [1701, 1696], 16: [1697, 1825], 17: [1827, 1699, 1830], 18: [1828, 1836], 19: [1837, 1829], 20: [1835, 1963], 21: [1961]}\n",
      "Solving 7/25{0: [448, 454], 1: [578, 450], 2: [581, 573, 579, 451], 3: [577, 583, 575, 705], 4: [698, 703, 570, 711], 5: [701, 709, 693], 6: [700, 697, 692], 7: [694, 690], 8: [453], 9: [455], 10: [449, 452], 11: [576, 582], 12: [580], 13: [568, 574], 14: [569, 572], 15: [708, 706], 16: [710, 704], 17: [702, 696], 18: [699], 19: [691, 695], 20: [688], 21: [689]}\n",
      "Solving 8/25{0: [1681, 1553, 1686], 1: [1685, 1680, 1693], 2: [1560, 1567, 1559, 1688], 3: [1692, 1700, 1689], 4: [1573, 1569, 1697, 1565], 5: [1443, 1571, 1699, 1575], 6: [1442, 1570], 7: [1447, 1440], 8: [1682], 9: [1552, 1556], 10: [1683, 1555], 11: [1687, 1695], 12: [1690, 1562], 13: [1563, 1691], 14: [1566, 1561], 15: [1696, 1703], 16: [1694, 1702], 17: [1572], 18: [1568, 1574], 19: [1446], 20: [1441, 1445], 21: [1444]}\n",
      "Solving 9/25{0: [323], 1: [324, 321, 316, 315], 2: [448, 452, 320, 451, 450], 3: [581, 449, 577, 455, 447], 4: [582, 590, 579, 598], 5: [712, 589, 584], 6: [593, 726, 721, 718], 7: [716, 714], 8: [326], 9: [325], 10: [322, 327], 11: [443, 444], 12: [453, 441, 445, 313], 13: [578], 14: [576, 580], 15: [458, 586, 463], 16: [583, 591], 17: [588, 587, 596], 18: [585, 713], 19: [719, 727], 20: [717, 715], 21: [724]}\n",
      "Solving 10/25{0: [1664, 1668], 1: [1666, 1538, 1670], 2: [1671, 1665, 1537, 1679], 3: [1551, 1543, 1559], 4: [1544, 1550, 1558, 1672], 5: [1683, 1555, 1811], 6: [1681, 1687, 1553, 1809], 7: [1815, 1810], 8: [1799, 1792, 1794], 9: [1667], 10: [1669], 11: [1536, 1541], 12: [1542, 1539], 13: [1547, 1675], 14: [1545, 1548, 1673], 15: [1557, 1554], 16: [1556, 1552], 17: [1686, 1678, 1680], 18: [1685, 1677], 19: [1808, 1814], 20: [1813], 21: [1682]}\n",
      "Solving 11/25{0: [72, 200], 1: [206, 202, 330], 2: [201, 329, 204, 196], 3: [326, 321, 334, 318], 4: [322, 317, 450, 325, 194], 5: [462, 454, 446, 449], 6: [452, 460], 7: [457, 463], 8: [207], 9: [205], 10: [75, 203, 78], 11: [335, 327], 12: [328, 333], 13: [320, 192], 14: [324, 332], 15: [315, 443], 16: [313, 441, 316], 17: [451, 323], 18: [453, 448], 19: [456], 20: [461, 458], 21: [459]}\n",
      "Solving 12/25{0: [1098, 1101], 1: [1092, 1100], 2: [1090, 1094, 1102, 1218], 3: [1088, 1216, 1095, 1087], 4: [1212, 1210, 1220], 5: [1201, 1222, 1206, 1214], 6: [1207, 1215, 1203], 7: [1200, 1335, 1328], 8: [1096], 9: [1099], 10: [1097, 1103], 11: [1089], 12: [1091, 1093], 13: [1223, 1217], 14: [1221, 1219], 15: [1209, 1086, 1081], 16: [1208, 1080], 17: [1211], 18: [1213, 1205], 19: [1204], 20: [1202, 1330], 21: [1331]}\n",
      "Solving 13/25{0: [1635, 1637], 1: [1504, 1632], 2: [1505, 1509, 1633, 1501], 3: [1502, 1510, 1494], 4: [1497, 1500, 1492, 1369], 5: [1490, 1362, 1495, 1487], 6: [1367, 1361, 1359, 1375], 7: [1364, 1356], 8: [1636], 9: [1639], 10: [1634, 1638], 11: [1511, 1506], 12: [1507, 1508], 13: [1498], 14: [1503, 1499], 15: [1493, 1491], 16: [1488], 17: [1366, 1374], 18: [1365, 1373, 1363], 19: [1354, 1357, 1482], 20: [1352, 1480], 21: [1360]}\n",
      "Solving 14/25{0: [1910, 1904], 1: [1903, 1895, 1911], 2: [1892, 1900, 1891, 1908], 3: [2022, 1889, 2017, 2030], 4: [2012, 2016, 1888, 2020], 5: [2013, 2005, 2021], 6: [2009, 2015, 2007], 7: [2004, 2003], 8: [1905], 9: [1907], 10: [1906, 1909], 11: [2025, 1897, 1901], 12: [1896, 2024], 13: [1893], 14: [1890, 1894], 15: [2019], 16: [2018, 2023], 17: [2008], 18: [2011, 2014], 19: [2001, 2006], 20: [2000], 21: [2002]}\n",
      "Solving 15/25{0: [160, 167, 159], 1: [154, 282, 153, 158], 2: [152, 280, 287, 157], 3: [276, 284, 273, 145], 4: [267, 139, 271, 279], 5: [140, 148, 132, 137], 6: [141, 133], 7: [131, 134], 8: [166], 9: [155], 10: [156, 164], 11: [281], 12: [286, 283], 13: [146, 149, 274], 14: [277, 285, 275], 15: [272, 144], 16: [278, 270, 265], 17: [266, 138], 18: [143, 136], 19: [135, 129], 20: [130], 21: [128]}\n"
     ]
    }
   ],
   "source": [
    "# Define Adjacency matrix\n",
    "# Hamming(d,q)\n",
    "# Biparti\n",
    "# NN(v): 1D nearest neighbor with v vertices. max is 16 before minor embedding starts breaking\n",
    "#graph, tag = gt.generate_hamming_graph(1, 2)\n",
    "#graph, tag = gt.generate_bipartite_graph(3, 3)\n",
    "#graph, tag = gt.generate_newman_watts_strogatz_graph(10, 4, 0.1)\n",
    "# graph, tag = gt.generate_corona_graph(3,6)\n",
    "for nvertices in range(8,9):\n",
    "    graph, tag = gt.generate_nn_graph(nvertices)\n",
    "    penalty = 2\n",
    "\n",
    "    directed = False\n",
    "    qubo = get_mds_qubo(graph, directed=directed, penalty = penalty, triangularize=True, dtype=\"d\")\n",
    "    q_min = np.array(list(qubo.values())).min()\n",
    "\n",
    "    gt.get_plot(graph, directed=directed)\n",
    "    plt.show()\n",
    "    graph_params = graph_summary(tag, graph)\n",
    "    print(graph_params)\n",
    "\n",
    "    G = nx.Graph()\n",
    "    G.add_edges_from(graph)\n",
    "    print(\"Greedy solution\\n\", dominating_set(G))\n",
    "    \n",
    "    # Experiment\n",
    "    J, h, C = QUBO_to_Ising(qubo.todense().tolist())\n",
    "    maxJ = max(abs(J).flatten())\n",
    "    maxh = max(abs(h))\n",
    "    #print(\"Initial\")\n",
    "    #print(f\"max(J) = {maxJ}\")\n",
    "    #print(f\"max(h) = {maxh}\")\n",
    "    #print(\"DWave J_range = [-1.0, 1.0] \\nDWave h_range = [-2.0, 2.0]\")\n",
    "    #print(\"Must scale QUBO to these ranges\\n\")\n",
    "    fact = 1 #max([maxJ, maxh/2]) * 1.2\n",
    "    qubo = qubo / fact\n",
    "\n",
    "    J, h, C = QUBO_to_Ising(qubo.todense().tolist())\n",
    "    maxJ = max(abs(J).flatten())\n",
    "    maxh = max(abs(h))\n",
    "    #print(\"Rescaled\")\n",
    "    #print(f\"max(J) = {maxJ}\")\n",
    "    #print(f\"max(h) = {maxh}\")\n",
    "    #print(\"DWave J_range = [-1.0, 1.0] \\nDWave h_range = [-2.0, 2.0]\")\n",
    "    #print(\"Must scale QUBO to these ranges\\n\")\n",
    "\n",
    "    # Set chain strength\n",
    "    chain_strength = maxJ*2\n",
    "    print(f\"Chain strength: {chain_strength}\")\n",
    "    \n",
    "    # DWave settings\n",
    "    solver = \"DW_2000Q_5\"\n",
    "    sampler = DWaveSampler(solver=solver)\n",
    "    \n",
    "    # Set offset percentage\n",
    "    # set percentage to 0 for no offset\n",
    "    percentage = 0.05\n",
    "    \n",
    "    iterations = 25\n",
    "    for idx in range(iterations):\n",
    "        print(f\"\\rSolving {idx+1}/{iterations}\", end=\"\")\n",
    "        qubo_dict, embed, anneal_offsets = embed_with_offset(sampler=sampler, qubo=qubo, percentage=percentage, offset=True)\n",
    "\n",
    "        dwave_config = {\n",
    "            \"annealing_time\": 500,  # integer microseconds [1, 2000]\n",
    "            \"answer_mode\": \"raw\", # histogram or raw\n",
    "            \"auto_scale\": True,\n",
    "            \"num_reads\": 1000,  # raw will dump out all results\n",
    "            \"num_spin_reversal_transforms\": 0,\n",
    "            \"readout_thermalization\": 0, # default 0\n",
    "            \"programming_thermalization\": 1000, # default 1000\n",
    "            \"chain_strength\": chain_strength,\n",
    "            \"anneal_offsets\": anneal_offsets\n",
    "        }\n",
    "        solver = \"DW_2000Q_5\"\n",
    "\n",
    "        experiment_params = experiment_summary(machine=solver, settings=dwave_config, penalty=penalty, factor=fact, chain_strength=chain_strength, percentage=percentage, qubo=qubo)\n",
    "\n",
    "        # Solve on DWave and push to database\n",
    "        result = embed.sample_qubo(qubo_dict, **dwave_config)\n",
    "        raw = result.to_pandas_dataframe()\n",
    "        data_params = data_summary(raw, graph_params, experiment_params)\n",
    "        result = insert_result(graph_params, experiment_params, data_params)\n",
    "print(\"\\nDONE\")"
   ]
  },
  {
   "cell_type": "code",
   "execution_count": null,
   "metadata": {},
   "outputs": [],
   "source": [
    "graph, _ = gt.generate_nn_graph(3)\n",
    "print(graph)\n",
    "G = nx.Graph()\n",
    "G.add_edges_from(graph)\n",
    "draw(G)"
   ]
  },
  {
   "cell_type": "code",
   "execution_count": null,
   "metadata": {},
   "outputs": [],
   "source": [
    "len([0,1,2,3,4,5,6,7,8,9,10,11,12,13,14,15,16,17,18,19,20,21,22,23,24,25,26,27,28,29,30,31,32,33,34,35,36,37,38,39,40,41,42,43,44,45,46,47,48,49,50,51,52,53,54,55,56,57,58,59,60,61,62,63,64,65,66,67,68,69,70,71,72,73,74,75,76,77,78,79,80,81,82,83,84,85,86,87,88,89,90,91,92,93,94,95,96,97,98,99,100,101,102,103,104,105,106,107,108,109,110,111,112,113,114,115,116,117,118,119,120,121,122,123,124,125,126,127,128,129,130,131,132,133,134,135,136,137,138,139,140,141,142,143,144,145,146,147,148,149,150,151,152,153,154,155,156,157,158,159,160,161,162,163,164,165,166,167,168,169,170,171,172,173,174,175,176,177,178,179,180,181,182,183,184,185,186,187,188,189,190,191,192,193,194,195,196,197,198,199,200,201,202,203,204,205,206,207,208,209,210,211,212,213,214,215,216,217,218,219,220,221,222,223,224,225,226,227,228,229,230,231,232,233,234,235,236,237,238,239,240,241,242,243,244,245,246,247,248,249,250,251,252,253,254,255,256,257,258,259,260,261,262,263,264,265,266,267,268,269,270,271,272,273,274,275,276,277,278,279,280,281,282,283,284,285,286,287,288,289,290,291,292,293,294,295,296,297,298,299,300,301,302,303,304,305,306,307,308,309,310,311,312,313,314,315,316,317,318,319,320])"
   ]
  },
  {
   "cell_type": "code",
   "execution_count": null,
   "metadata": {},
   "outputs": [],
   "source": []
  }
 ],
 "metadata": {
  "kernelspec": {
   "display_name": "qlp",
   "language": "python",
   "name": "quantum_linear_programming"
  },
  "language_info": {
   "codemirror_mode": {
    "name": "ipython",
    "version": 3
   },
   "file_extension": ".py",
   "mimetype": "text/x-python",
   "name": "python",
   "nbconvert_exporter": "python",
   "pygments_lexer": "ipython3",
   "version": "3.7.6"
  }
 },
 "nbformat": 4,
 "nbformat_minor": 1
}
