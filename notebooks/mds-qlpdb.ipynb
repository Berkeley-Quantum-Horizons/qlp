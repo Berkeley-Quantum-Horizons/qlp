{
 "cells": [
  {
   "cell_type": "markdown",
   "metadata": {
    "collapsed": true
   },
   "source": [
    "# dominating set\n",
    "\n",
    "Set up calculations and store in EspressoDB"
   ]
  },
  {
   "cell_type": "code",
   "execution_count": 1,
   "metadata": {},
   "outputs": [],
   "source": [
    "import matplotlib.pylab as plt\n",
    "import seaborn as sns\n",
    "import os\n",
    "os.environ[\"DJANGO_ALLOW_ASYNC_UNSAFE\"] = \"true\"\n",
    "import numpy as np\n",
    "import pandas as pd\n",
    "\n",
    "from qlp.mds import graph_tools as gt\n",
    "from qlp.mds.qubo import get_mds_qubo\n",
    "from qlp.mds.solver import classical_search\n",
    "from qlp.mds.mds_qlpdb import graph_summary, experiment_summary, data_summary, insert_result, QUBO_to_Ising\n",
    "\n",
    "from networkx import Graph\n",
    "from networkx.algorithms.approximation import min_weighted_dominating_set\n",
    "\n",
    "from dwave.system.samplers import DWaveSampler\n",
    "from dwave.system.composites import EmbeddingComposite"
   ]
  },
  {
   "cell_type": "code",
   "execution_count": 3,
   "metadata": {},
   "outputs": [
    {
     "data": {
      "image/png": "[encoded data removed]",
      "text/plain": [
       "<Figure size 432x288 with 1 Axes>"
      ]
     },
     "metadata": {},
     "output_type": "display_data"
    },
    {
     "data": {
      "text/plain": [
       "{'tag': 'NN(15)',\n",
       " 'total_vertices': 15,\n",
       " 'total_edges': 14,\n",
       " 'max_edges': 2,\n",
       " 'adjacency': [[0, 1],\n",
       "  [1, 2],\n",
       "  [7, 8],\n",
       "  [6, 7],\n",
       "  [10, 11],\n",
       "  [4, 5],\n",
       "  [5, 6],\n",
       "  [12, 13],\n",
       "  [11, 12],\n",
       "  [13, 14],\n",
       "  [8, 9],\n",
       "  [9, 10],\n",
       "  [2, 3],\n",
       "  [3, 4]],\n",
       " 'adjacency_hash': 'd334ac82b47485491d807f3dd1a38677'}"
      ]
     },
     "execution_count": 3,
     "metadata": {},
     "output_type": "execute_result"
    }
   ],
   "source": [
    "# Define Adjacency matrix\n",
    "# Hamming(d,q)\n",
    "# Biparti\n",
    "# NN(v): 1D nearest neighbor with v vertices. max is 16 before minor embedding starts breaking\n",
    "graph, tag = gt.generate_hamming_graph(2, 3)\n",
    "#graph, tag = gt.generate_bipartite_graph(3, 3)\n",
    "graph, tag = gt.generate_nn_graph(15)\n",
    "penalty = 2\n",
    "\n",
    "directed = False\n",
    "qubo = get_mds_qubo(graph, directed=directed, penalty = penalty, triangularize=True, dtype=\"d\")\n",
    "q_min = np.array(list(qubo.values())).min()\n",
    "\n",
    "gt.get_plot(graph, directed=directed)\n",
    "plt.show()\n",
    "graph_params = graph_summary(tag, graph)\n",
    "graph_params"
   ]
  },
  {
   "cell_type": "code",
   "execution_count": 4,
   "metadata": {},
   "outputs": [
    {
     "name": "stdout",
     "output_type": "stream",
     "text": [
      "Initial\n",
      "max(J) = 2.0\n",
      "max(h) = 5.5\n",
      "DWave J_range = [-1.0, 1.0] \n",
      "DWave h_range = [-2.0, 2.0]\n",
      "Must scale QUBO to these ranges\n",
      "\n",
      "Rescaled\n",
      "max(J) = 2.0\n",
      "max(h) = 5.5\n",
      "DWave J_range = [-1.0, 1.0] \n",
      "DWave h_range = [-2.0, 2.0]\n",
      "Must scale QUBO to these ranges\n",
      "\n",
      "Chain strength: 8.0\n"
     ]
    }
   ],
   "source": [
    "J, h, C = QUBO_to_Ising(qubo.todense().tolist())\n",
    "maxJ = max(abs(J).flatten())\n",
    "maxh = max(abs(h))\n",
    "print(\"Initial\")\n",
    "print(f\"max(J) = {maxJ}\")\n",
    "print(f\"max(h) = {maxh}\")\n",
    "print(\"DWave J_range = [-1.0, 1.0] \\nDWave h_range = [-2.0, 2.0]\")\n",
    "print(\"Must scale QUBO to these ranges\\n\")\n",
    "fact = 1 #max([maxJ, maxh/2]) * 1.2\n",
    "qubo = qubo / fact\n",
    "\n",
    "J, h, C = QUBO_to_Ising(qubo.todense().tolist())\n",
    "maxJ = max(abs(J).flatten())\n",
    "maxh = max(abs(h))\n",
    "print(\"Rescaled\")\n",
    "print(f\"max(J) = {maxJ}\")\n",
    "print(f\"max(h) = {maxh}\")\n",
    "print(\"DWave J_range = [-1.0, 1.0] \\nDWave h_range = [-2.0, 2.0]\")\n",
    "print(\"Must scale QUBO to these ranges\\n\")\n",
    "\n",
    "# Set chain strength\n",
    "chain_strength = max(np.abs(list(qubo.values()))) * 0.5\n",
    "print(f\"Chain strength: {chain_strength}\")"
   ]
  },
  {
   "cell_type": "code",
   "execution_count": 5,
   "metadata": {},
   "outputs": [],
   "source": [
    "#classical_search(qubo)"
   ]
  },
  {
   "cell_type": "code",
   "execution_count": 6,
   "metadata": {},
   "outputs": [],
   "source": [
    "# DWave settings\n",
    "dwave_config = {\n",
    "    \"annealing_time\": 500,  # integer microseconds [1, 2000]\n",
    "    \"answer_mode\": \"histogram\",\n",
    "    \"auto_scale\": True,\n",
    "    \"num_reads\": 1000,  # raw will dump out all results\n",
    "    \"num_spin_reversal_transforms\": 0,\n",
    "    \"readout_thermalization\": 0, # default 0\n",
    "    \"programming_thermalization\": 1000, # default 1000\n",
    "    \"chain_strength\": chain_strength\n",
    "}\n",
    "solver = \"DW_2000Q_5\"\n",
    "\n",
    "experiment_params = experiment_summary(machine=solver, settings=dwave_config, penalty=penalty, factor=fact, qubo=qubo)"
   ]
  },
  {
   "cell_type": "code",
   "execution_count": 7,
   "metadata": {
    "scrolled": false
   },
   "outputs": [
    {
     "name": "stdout",
     "output_type": "stream",
     "text": [
      "0\n",
      "     0  1  2  3  4  5  6  7  8  9  ...  36  37  38  39  40  41  42  \\\n",
      "0    0  1  1  0  0  1  0  0  1  0  ...   0   0   0   0   0   0   0   \n",
      "1    0  1  0  1  0  0  1  0  0  1  ...   0   0   1   0   1   0   0   \n",
      "15   1  0  1  0  0  1  0  0  1  1  ...   0   0   1   0   1   0   0   \n",
      "14   1  0  1  0  0  1  0  0  1  1  ...   0   0   0   0   0   0   0   \n",
      "12   0  1  0  1  0  0  1  1  1  0  ...   0   0   0   0   0   0   0   \n",
      "..  .. .. .. .. .. .. .. .. .. ..  ...  ..  ..  ..  ..  ..  ..  ..   \n",
      "991  1  0  1  1  0  0  0  0  1  0  ...   0   0   1   0   1   0   0   \n",
      "992  0  1  0  0  0  1  1  1  1  1  ...   1   0   0   0   0   1   1   \n",
      "993  0  1  0  0  1  1  0  0  1  1  ...   0   0   0   0   0   0   0   \n",
      "994  0  0  1  0  1  1  0  1  0  1  ...   0   1   1   0   1   0   0   \n",
      "998  1  0  0  1  0  1  0  0  1  0  ...   1   0   1   0   1   0   0   \n",
      "\n",
      "     chain_break_fraction  energy  num_occurrences  \n",
      "0                0.000000   -24.0                1  \n",
      "1                0.000000   -24.0                1  \n",
      "15               0.000000   -23.0                1  \n",
      "14               0.000000   -23.0                1  \n",
      "12               0.000000   -23.0                1  \n",
      "..                    ...     ...              ...  \n",
      "991              0.000000    -4.0                1  \n",
      "992              0.000000    -3.0                1  \n",
      "993              0.000000    -2.0                1  \n",
      "994              0.000000    -2.0                1  \n",
      "998              0.023256     0.0                1  \n",
      "\n",
      "[999 rows x 46 columns]\n"
     ]
    }
   ],
   "source": [
    "# Solve on DWave and push to database\n",
    "sampler = DWaveSampler(solver=solver)\n",
    "embed = EmbeddingComposite(sampler)\n",
    "qubo_dict = {key: val for key, val in zip(qubo.keys(), qubo.values())}\n",
    "for idx in range(1):\n",
    "    print(idx)\n",
    "    result = embed.sample_qubo(qubo_dict, **dwave_config)\n",
    "    raw = result.to_pandas_dataframe()\n",
    "    data_params = data_summary(raw, graph_params, experiment_params)\n",
    "    #result = insert_result(graph_params, experiment_params, data_params)\n",
    "print(raw.sort_values(\"energy\", ascending=True))"
   ]
  },
  {
   "cell_type": "code",
   "execution_count": null,
   "metadata": {},
   "outputs": [],
   "source": []
  },
  {
   "cell_type": "code",
   "execution_count": null,
   "metadata": {},
   "outputs": [],
   "source": []
  }
 ],
 "metadata": {
  "kernelspec": {
   "display_name": "qlp",
   "language": "python",
   "name": "qlp"
  },
  "language_info": {
   "codemirror_mode": {
    "name": "ipython",
    "version": 3
   },
   "file_extension": ".py",
   "mimetype": "text/x-python",
   "name": "python",
   "nbconvert_exporter": "python",
   "pygments_lexer": "ipython3",
   "version": "3.7.5"
  }
 },
 "nbformat": 4,
 "nbformat_minor": 1
}
