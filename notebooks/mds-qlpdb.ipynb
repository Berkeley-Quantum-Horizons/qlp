{
 "cells": [
  {
   "cell_type": "markdown",
   "metadata": {
    "collapsed": true
   },
   "source": [
    "# dominating set\n",
    "\n",
    "Set up calculations and store in EspressoDB"
   ]
  },
  {
   "cell_type": "code",
   "execution_count": 1,
   "metadata": {},
   "outputs": [],
   "source": [
    "import matplotlib.pylab as plt\n",
    "import seaborn as sns\n",
    "import os\n",
    "os.environ[\"DJANGO_ALLOW_ASYNC_UNSAFE\"] = \"true\"\n",
    "import numpy as np\n",
    "import pandas as pd\n",
    "\n",
    "from qlp.mds import graph_tools as gt\n",
    "from qlp.mds.qubo import get_mds_qubo\n",
    "from qlp.mds.solver import classical_search\n",
    "from qlp.mds.mds_qlpdb import graph_summary, experiment_summary, data_summary, insert_result\n",
    "\n",
    "from networkx import Graph\n",
    "from networkx.algorithms.approximation import min_weighted_dominating_set\n",
    "\n",
    "from dwave.system.samplers import DWaveSampler\n",
    "from dwave.system.composites import EmbeddingComposite"
   ]
  },
  {
   "cell_type": "code",
   "execution_count": 2,
   "metadata": {},
   "outputs": [
    {
     "name": "stdout",
     "output_type": "stream",
     "text": [
      "[[-1  4  2 -2 -2 -4  0]\n",
      " [ 0 -2  4 -2 -2 -4 -2]\n",
      " [ 0  0 -1  0 -2 -4 -2]\n",
      " [ 0  0  0  3  0  0  0]\n",
      " [ 0  0  0  0  3  4  0]\n",
      " [ 0  0  0  0  0  8  0]\n",
      " [ 0  0  0  0  0  0  3]]\n"
     ]
    },
    {
     "data": {
      "image/png": "[encoded data removed]",
      "text/plain": [
       "<Figure size 432x288 with 1 Axes>"
      ]
     },
     "metadata": {},
     "output_type": "display_data"
    },
    {
     "data": {
      "text/plain": [
       "{'tag': 'simple',\n",
       " 'total_vertices': 3,\n",
       " 'total_edges': 2,\n",
       " 'max_edges': 2,\n",
       " 'adjacency': [[0, 1], [1, 2]],\n",
       " 'adjacency_hash': '5c6af54e077bddcd12076955a2eee364'}"
      ]
     },
     "execution_count": 2,
     "metadata": {},
     "output_type": "execute_result"
    }
   ],
   "source": [
    "# Define Adjacency matrix\n",
    "tag = \"simple\"\n",
    "graph = {(0, 1), (1, 2)}\n",
    "penalty = 1\n",
    "\n",
    "directed = False\n",
    "qubo = get_mds_qubo(graph, directed=directed, penalty = penalty, triangularize=True)\n",
    "print(qubo.todense())\n",
    "gt.get_plot(graph, directed=directed)\n",
    "plt.show()\n",
    "graph_params = graph_summary(tag, graph)\n",
    "graph_params"
   ]
  },
  {
   "cell_type": "code",
   "execution_count": 3,
   "metadata": {},
   "outputs": [
    {
     "data": {
      "text/plain": [
       "{'machine': 'DW_2000Q_5',\n",
       " 'settings': {'annealing_time': 2000,\n",
       "  'answer_mode': 'raw',\n",
       "  'auto_scale': True,\n",
       "  'num_reads': 2,\n",
       "  'num_spin_reversal_transforms': 0,\n",
       "  'readout_thermalization': 0,\n",
       "  'programming_thermalization': 1000},\n",
       " 'settings_hash': '7b7926e18c39dad05ef1fcf560678197',\n",
       " 'p': 1,\n",
       " 'qubo': [[-1, 4, 2, -2, -2, -4, 0],\n",
       "  [0, -2, 4, -2, -2, -4, -2],\n",
       "  [0, 0, -1, 0, -2, -4, -2],\n",
       "  [0, 0, 0, 3, 0, 0, 0],\n",
       "  [0, 0, 0, 0, 3, 4, 0],\n",
       "  [0, 0, 0, 0, 0, 8, 0],\n",
       "  [0, 0, 0, 0, 0, 0, 3]]}"
      ]
     },
     "execution_count": 3,
     "metadata": {},
     "output_type": "execute_result"
    }
   ],
   "source": [
    "# DWave settings\n",
    "dwave_config = {\n",
    "    \"annealing_time\": 2000,  # integer microseconds [1, 2000]\n",
    "    \"answer_mode\": \"raw\",\n",
    "    \"auto_scale\": True,\n",
    "    \"num_reads\": 2,  # raw will dump out all results\n",
    "    \"num_spin_reversal_transforms\": 0,  # ask Travis what this is\n",
    "    \"readout_thermalization\": 0, # default 0\n",
    "    \"programming_thermalization\": 1000, # default 1000\n",
    "    \n",
    "}\n",
    "solver = \"DW_2000Q_5\"\n",
    "\n",
    "experiment_params = experiment_summary(machine=solver, settings=dwave_config, penalty=penalty, qubo=qubo)\n",
    "experiment_params"
   ]
  },
  {
   "cell_type": "code",
   "execution_count": 7,
   "metadata": {
    "scrolled": false
   },
   "outputs": [
    {
     "name": "stdout",
     "output_type": "stream",
     "text": [
      "<class 'qlpdb.data.models.Data'>\n",
      "2\n",
      "3 [1 1 0 1 0 0 0] 0.0 False\n",
      "<class 'qlpdb.data.models.Data'>\n",
      "3\n",
      "4 [1 1 0 1 0 0 0] 0.0 False\n"
     ]
    },
    {
     "data": {
      "text/plain": [
       "{'spin_config': array([[1, 1, 0, 1, 0, 0, 0],\n",
       "        [1, 1, 0, 1, 0, 0, 0]], dtype=int8),\n",
       " 'energy': array([0., 0.]),\n",
       " 'constraint_satisfaction': array([False, False])}"
      ]
     },
     "execution_count": 7,
     "metadata": {},
     "output_type": "execute_result"
    }
   ],
   "source": [
    "# Solve on DWave and push to database\n",
    "sampler = DWaveSampler(solver=solver)\n",
    "embed = EmbeddingComposite(sampler)\n",
    "qubo_dict = {key: val for key, val in zip(qubo.keys(), qubo.values())}\n",
    "result = embed.sample_qubo(qubo_dict, **dwave_config)\n",
    "raw = result.to_pandas_dataframe()\n",
    "data_params = data_summary(raw, graph_params, experiment_params)\n",
    "insert_result(graph_params, experiment_params, data_params)\n",
    "data_params"
   ]
  },
  {
   "cell_type": "code",
   "execution_count": 5,
   "metadata": {},
   "outputs": [
    {
     "data": {
      "text/plain": [
       "dict_keys(['num_qubits', 'qubits', 'couplers', 'h_range', 'j_range', 'supported_problem_types', 'parameters', 'vfyc', 'anneal_offset_ranges', 'anneal_offset_step', 'anneal_offset_step_phi0', 'annealing_time_range', 'chip_id', 'default_annealing_time', 'default_programming_thermalization', 'default_readout_thermalization', 'extended_j_range', 'h_gain_schedule_range', 'max_anneal_schedule_points', 'max_h_gain_schedule_points', 'num_reads_range', 'per_qubit_coupling_range', 'problem_run_duration_range', 'programming_thermalization_range', 'readout_thermalization_range', 'tags', 'topology', 'category', 'quota_conversion_rate'])"
      ]
     },
     "execution_count": 5,
     "metadata": {},
     "output_type": "execute_result"
    }
   ],
   "source": [
    "vars(sampler)[\"_properties\"].keys()"
   ]
  },
  {
   "cell_type": "code",
   "execution_count": 6,
   "metadata": {},
   "outputs": [
    {
     "data": {
      "text/plain": [
       "1000"
      ]
     },
     "execution_count": 6,
     "metadata": {},
     "output_type": "execute_result"
    }
   ],
   "source": [
    "sampler._properties[\"default_programming_thermalization\"]"
   ]
  },
  {
   "cell_type": "code",
   "execution_count": null,
   "metadata": {},
   "outputs": [],
   "source": []
  }
 ],
 "metadata": {
  "kernelspec": {
   "display_name": "quantum_linear_programming",
   "language": "python",
   "name": "quantum_linear_programming"
  },
  "language_info": {
   "codemirror_mode": {
    "name": "ipython",
    "version": 3
   },
   "file_extension": ".py",
   "mimetype": "text/x-python",
   "name": "python",
   "nbconvert_exporter": "python",
   "pygments_lexer": "ipython3",
   "version": "3.7.4"
  }
 },
 "nbformat": 4,
 "nbformat_minor": 1
}
