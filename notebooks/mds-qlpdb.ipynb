{
 "cells": [
  {
   "cell_type": "markdown",
   "metadata": {
    "collapsed": true
   },
   "source": [
    "# dominating set\n",
    "\n",
    "Set up calculations and store in EspressoDB"
   ]
  },
  {
   "cell_type": "code",
   "execution_count": 1,
   "metadata": {},
   "outputs": [],
   "source": [
    "import matplotlib.pylab as plt\n",
    "import seaborn as sns\n",
    "import os\n",
    "os.environ[\"DJANGO_ALLOW_ASYNC_UNSAFE\"] = \"true\"\n",
    "import numpy as np\n",
    "import pandas as pd\n",
    "\n",
    "from qlp.mds import graph_tools as gt\n",
    "from qlp.mds.qubo import get_mds_qubo\n",
    "from qlp.mds.solver import classical_search\n",
    "from qlp.mds.mds_qlpdb import graph_summary, experiment_summary, data_summary, insert_result, QUBO_to_Ising, embed_with_offset\n",
    "\n",
    "import networkx as nx\n",
    "from networkx import Graph\n",
    "from networkx.drawing.nx_pylab import draw\n",
    "from networkx.algorithms.approximation import min_weighted_dominating_set\n",
    "from networkx.algorithms.dominating import dominating_set\n",
    "\n",
    "from dwave.system.samplers import DWaveSampler"
   ]
  },
  {
   "cell_type": "code",
   "execution_count": 5,
   "metadata": {
    "scrolled": false
   },
   "outputs": [
    {
     "data": {
      "image/png": "[encoded data removed]",
      "text/plain": [
       "<Figure size 432x288 with 1 Axes>"
      ]
     },
     "metadata": {},
     "output_type": "display_data"
    },
    {
     "name": "stdout",
     "output_type": "stream",
     "text": [
      "{'tag': 'NN(2)', 'total_vertices': 2, 'total_edges': 1, 'max_edges': 1, 'adjacency': [[0, 1]], 'adjacency_hash': '2864ee150babb3f03de5e76a1733df4b'}\n",
      "Greedy solution\n",
      " {0}\n",
      "Chain strength: 4.0\n",
      "Solving 6/6\n",
      "DONE\n"
     ]
    }
   ],
   "source": [
    "# Define Adjacency matrix\n",
    "# Hamming(d,q)\n",
    "# Biparti\n",
    "# NN(v): 1D nearest neighbor with v vertices. max is 16 before minor embedding starts breaking\n",
    "#graph, tag = gt.generate_hamming_graph(1, 2)\n",
    "#graph, tag = gt.generate_bipartite_graph(3, 3)\n",
    "#graph, tag = gt.generate_newman_watts_strogatz_graph(10, 4, 0.1)\n",
    "# graph, tag = gt.generate_corona_graph(3,6)\n",
    "for nvertices in range(2,3):\n",
    "    graph, tag = gt.generate_nn_graph(nvertices)\n",
    "    penalty = 2\n",
    "\n",
    "    directed = False\n",
    "    qubo = get_mds_qubo(graph, directed=directed, penalty = penalty, triangularize=True, dtype=\"d\")\n",
    "    q_min = np.array(list(qubo.values())).min()\n",
    "\n",
    "    gt.get_plot(graph, directed=directed)\n",
    "    plt.show()\n",
    "    graph_params = graph_summary(tag, graph)\n",
    "    print(graph_params)\n",
    "\n",
    "    G = nx.Graph()\n",
    "    G.add_edges_from(graph)\n",
    "    print(\"Greedy solution\\n\", dominating_set(G))\n",
    "    \n",
    "    # Experiment\n",
    "    J, h, C = QUBO_to_Ising(qubo.todense().tolist())\n",
    "    maxJ = max(abs(J).flatten())\n",
    "    maxh = max(abs(h))\n",
    "    #print(\"Initial\")\n",
    "    #print(f\"max(J) = {maxJ}\")\n",
    "    #print(f\"max(h) = {maxh}\")\n",
    "    #print(\"DWave J_range = [-1.0, 1.0] \\nDWave h_range = [-2.0, 2.0]\")\n",
    "    #print(\"Must scale QUBO to these ranges\\n\")\n",
    "    fact = 1 #max([maxJ, maxh/2]) * 1.2\n",
    "    qubo = qubo / fact\n",
    "\n",
    "    J, h, C = QUBO_to_Ising(qubo.todense().tolist())\n",
    "    maxJ = max(abs(J).flatten())\n",
    "    maxh = max(abs(h))\n",
    "    #print(\"Rescaled\")\n",
    "    #print(f\"max(J) = {maxJ}\")\n",
    "    #print(f\"max(h) = {maxh}\")\n",
    "    #print(\"DWave J_range = [-1.0, 1.0] \\nDWave h_range = [-2.0, 2.0]\")\n",
    "    #print(\"Must scale QUBO to these ranges\\n\")\n",
    "\n",
    "    # Set chain strength\n",
    "    chain_strength = maxJ*2\n",
    "    print(f\"Chain strength: {chain_strength}\")\n",
    "    \n",
    "    # DWave settings\n",
    "    solver = \"DW_2000Q_5\"\n",
    "    sampler = DWaveSampler(solver=solver)\n",
    "    \n",
    "    # Set offset percentage\n",
    "    # set percentage to 0 for no offset\n",
    "    percentage = 0.05\n",
    "    \n",
    "    iterations = 6\n",
    "    for idx in range(iterations):\n",
    "        print(f\"\\rSolving {idx+1}/{iterations}\", end=\"\")\n",
    "        qubo_dict, embed, anneal_offsets = embed_with_offset(sampler=sampler, qubo=qubo, percentage=percentage, offset=True)\n",
    "\n",
    "        dwave_config = {\n",
    "            \"annealing_time\": 500,  # integer microseconds [1, 2000]\n",
    "            \"answer_mode\": \"raw\", # histogram or raw\n",
    "            \"auto_scale\": True,\n",
    "            \"num_reads\": 1000,  # raw will dump out all results\n",
    "            \"num_spin_reversal_transforms\": 0,\n",
    "            \"readout_thermalization\": 0, # default 0\n",
    "            \"programming_thermalization\": 1000, # default 1000\n",
    "            \"chain_strength\": chain_strength,\n",
    "            \"anneal_offsets\": anneal_offsets\n",
    "        }\n",
    "        solver = \"DW_2000Q_5\"\n",
    "\n",
    "        experiment_params = experiment_summary(machine=solver, settings=dwave_config, penalty=penalty, factor=fact, chain_strength=chain_strength, percentage=percentage, qubo=qubo)\n",
    "\n",
    "        # Solve on DWave and push to database\n",
    "        result = embed.sample_qubo(qubo_dict, **dwave_config)\n",
    "        raw = result.to_pandas_dataframe()\n",
    "        data_params = data_summary(raw, graph_params, experiment_params)\n",
    "        result = insert_result(graph_params, experiment_params, data_params)\n",
    "print(\"\\nDONE\")"
   ]
  },
  {
   "cell_type": "code",
   "execution_count": null,
   "metadata": {},
   "outputs": [],
   "source": [
    "graph, _ = gt.generate_nn_graph(3)\n",
    "print(graph)\n",
    "G = nx.Graph()\n",
    "G.add_edges_from(graph)\n",
    "draw(G)"
   ]
  },
  {
   "cell_type": "code",
   "execution_count": null,
   "metadata": {},
   "outputs": [],
   "source": [
    "len([0,1,2,3,4,5,6,7,8,9,10,11,12,13,14,15,16,17,18,19,20,21,22,23,24,25,26,27,28,29,30,31,32,33,34,35,36,37,38,39,40,41,42,43,44,45,46,47,48,49,50,51,52,53,54,55,56,57,58,59,60,61,62,63,64,65,66,67,68,69,70,71,72,73,74,75,76,77,78,79,80,81,82,83,84,85,86,87,88,89,90,91,92,93,94,95,96,97,98,99,100,101,102,103,104,105,106,107,108,109,110,111,112,113,114,115,116,117,118,119,120,121,122,123,124,125,126,127,128,129,130,131,132,133,134,135,136,137,138,139,140,141,142,143,144,145,146,147,148,149,150,151,152,153,154,155,156,157,158,159,160,161,162,163,164,165,166,167,168,169,170,171,172,173,174,175,176,177,178,179,180,181,182,183,184,185,186,187,188,189,190,191,192,193,194,195,196,197,198,199,200,201,202,203,204,205,206,207,208,209,210,211,212,213,214,215,216,217,218,219,220,221,222,223,224,225,226,227,228,229,230,231,232,233,234,235,236,237,238,239,240,241,242,243,244,245,246,247,248,249,250,251,252,253,254,255,256,257,258,259,260,261,262,263,264,265,266,267,268,269,270,271,272,273,274,275,276,277,278,279,280,281,282,283,284,285,286,287,288,289,290,291,292,293,294,295,296,297,298,299,300,301,302,303,304,305,306,307,308,309,310,311,312,313,314,315,316,317,318,319,320])"
   ]
  },
  {
   "cell_type": "code",
   "execution_count": null,
   "metadata": {},
   "outputs": [],
   "source": []
  }
 ],
 "metadata": {
  "kernelspec": {
   "display_name": "quantum_linear_programming",
   "language": "python",
   "name": "quantum_linear_programming"
  },
  "language_info": {
   "codemirror_mode": {
    "name": "ipython",
    "version": 3
   },
   "file_extension": ".py",
   "mimetype": "text/x-python",
   "name": "python",
   "nbconvert_exporter": "python",
   "pygments_lexer": "ipython3",
   "version": "3.7.4"
  }
 },
 "nbformat": 4,
 "nbformat_minor": 1
}
