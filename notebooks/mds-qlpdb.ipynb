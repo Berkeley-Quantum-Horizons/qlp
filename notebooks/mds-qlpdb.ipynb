{
 "cells": [
  {
   "cell_type": "markdown",
   "metadata": {
    "collapsed": true
   },
   "source": [
    "# dominating set\n",
    "\n",
    "Set up calculations and store in EspressoDB"
   ]
  },
  {
   "cell_type": "code",
   "execution_count": 11,
   "metadata": {},
   "outputs": [],
   "source": [
    "import matplotlib.pylab as plt\n",
    "import seaborn as sns\n",
    "import os\n",
    "os.environ[\"DJANGO_ALLOW_ASYNC_UNSAFE\"] = \"true\"\n",
    "import numpy as np\n",
    "import pandas as pd\n",
    "\n",
    "from qlp.mds import graph_tools as gt\n",
    "from qlp.mds.qubo import get_mds_qubo\n",
    "from qlp.mds.solver import classical_search\n",
    "from qlp.mds.mds_qlpdb import graph_summary, experiment_summary\n",
    "\n",
    "from networkx import Graph\n",
    "from networkx.algorithms.approximation import min_weighted_dominating_set\n",
    "\n",
    "from dwave.system.samplers import DWaveSampler\n",
    "from dwave.system.composites import EmbeddingComposite"
   ]
  },
  {
   "cell_type": "code",
   "execution_count": 120,
   "metadata": {},
   "outputs": [
    {
     "name": "stdout",
     "output_type": "stream",
     "text": [
      "[[-5 12 12 -4 -8 -4 -8 -4 -8]\n",
      " [ 0 -5 12 -4 -8 -4 -8 -4 -8]\n",
      " [ 0  0 -5 -4 -8 -4 -8 -4 -8]\n",
      " [ 0  0  0  6  8  0  0  0  0]\n",
      " [ 0  0  0  0 16  0  0  0  0]\n",
      " [ 0  0  0  0  0  6  8  0  0]\n",
      " [ 0  0  0  0  0  0 16  0  0]\n",
      " [ 0  0  0  0  0  0  0  6  8]\n",
      " [ 0  0  0  0  0  0  0  0 16]]\n"
     ]
    },
    {
     "data": {
      "image/png": "[encoded data removed]",
      "text/plain": [
       "<Figure size 432x288 with 1 Axes>"
      ]
     },
     "metadata": {},
     "output_type": "display_data"
    },
    {
     "data": {
      "text/plain": [
       "{'tag': 'simple',\n",
       " 'total_vertices': 3,\n",
       " 'total_edges': 3,\n",
       " 'max_edges': 2,\n",
       " 'adjacency': [[0, 1], [0, 2], [1, 2]],\n",
       " 'adjacency_hash': '547aaa7b6224b4a80c956b4df32a0f19'}"
      ]
     },
     "execution_count": 120,
     "metadata": {},
     "output_type": "execute_result"
    }
   ],
   "source": [
    "# Define Adjacency matrix\n",
    "tag = \"simple\"\n",
    "graph = {(0, 1), (0, 2), (1, 2)}\n",
    "penalty = 2\n",
    "\n",
    "directed = False\n",
    "qubo = get_mds_qubo(graph, directed=directed, penalty = penalty, triangularize=True)\n",
    "print(qubo.todense())\n",
    "gt.get_plot(graph, directed=directed)\n",
    "plt.show()\n",
    "graph_params = graph_summary(tag, graph)\n",
    "graph_params"
   ]
  },
  {
   "cell_type": "code",
   "execution_count": 121,
   "metadata": {},
   "outputs": [
    {
     "data": {
      "text/plain": [
       "{'machine': 'DW_2000Q_5',\n",
       " 'settings': {'annealing_time': 100,\n",
       "  'answer_mode': 'raw',\n",
       "  'auto_scale': True,\n",
       "  'num_reads': 20,\n",
       "  'num_spin_reversal_transforms': 0,\n",
       "  'readout_thermalization': 0,\n",
       "  'programming_thermalization': 10000},\n",
       " 'setting_hash': '26f1a32c4ee2d0429a3971af1b9fa87c',\n",
       " 'p': 2,\n",
       " 'qubo': [[-5, 12, 12, -4, -8, -4, -8, -4, -8],\n",
       "  [0, -5, 12, -4, -8, -4, -8, -4, -8],\n",
       "  [0, 0, -5, -4, -8, -4, -8, -4, -8],\n",
       "  [0, 0, 0, 6, 8, 0, 0, 0, 0],\n",
       "  [0, 0, 0, 0, 16, 0, 0, 0, 0],\n",
       "  [0, 0, 0, 0, 0, 6, 8, 0, 0],\n",
       "  [0, 0, 0, 0, 0, 0, 16, 0, 0],\n",
       "  [0, 0, 0, 0, 0, 0, 0, 6, 8],\n",
       "  [0, 0, 0, 0, 0, 0, 0, 0, 16]]}"
      ]
     },
     "execution_count": 121,
     "metadata": {},
     "output_type": "execute_result"
    }
   ],
   "source": [
    "# DWave settings\n",
    "dwave_config = {\n",
    "    \"annealing_time\": 100,  # integer microseconds [1, 2000]\n",
    "    \"answer_mode\": \"raw\",\n",
    "    \"auto_scale\": True,\n",
    "    \"num_reads\": 20,  # raw will dump out all results\n",
    "    \"num_spin_reversal_transforms\": 0,  # ask Travis what this is\n",
    "    \"readout_thermalization\": 0, # default 0\n",
    "    \"programming_thermalization\": 10000, # default 1000\n",
    "    \n",
    "}\n",
    "solver = \"DW_2000Q_5\"\n",
    "\n",
    "experiment_params = experiment_summary(machine=solver, settings=dwave_config, penalty=penalty, qubo=qubo)\n",
    "experiment_params"
   ]
  },
  {
   "cell_type": "code",
   "execution_count": 122,
   "metadata": {},
   "outputs": [],
   "source": [
    "sampler = DWaveSampler(solver=solver)\n",
    "embed = EmbeddingComposite(sampler)\n",
    "qubo_dict = {key: val for key, val in zip(qubo.keys(), qubo.values())}\n",
    "result = embed.sample_qubo(qubo_dict, **dwave_config)"
   ]
  },
  {
   "cell_type": "code",
   "execution_count": 123,
   "metadata": {},
   "outputs": [
    {
     "name": "stdout",
     "output_type": "stream",
     "text": [
      "[1 1 1 1 1 1 1 1 1] 3.0 False\n",
      "[0 0 0 1 0 0 1 0 0] 22.0 False\n",
      "[0 0 0 1 0 0 1 0 0] 22.0 False\n",
      "[1 1 1 1 1 1 1 1 1] 3.0 False\n",
      "[1 1 1 1 1 1 1 1 1] 3.0 False\n",
      "[1 1 1 1 1 1 1 1 1] 3.0 False\n",
      "[1 1 1 1 1 1 1 1 1] 3.0 False\n",
      "[0 0 0 1 0 0 1 0 0] 22.0 False\n",
      "[1 1 1 1 1 1 1 1 1] 3.0 False\n",
      "[1 1 1 1 1 1 1 1 1] 3.0 False\n",
      "[0 0 0 1 0 0 1 0 0] 22.0 False\n",
      "[1 1 1 1 1 1 1 1 1] 3.0 False\n",
      "[0 0 0 0 0 0 1 0 0] 16.0 False\n",
      "[1 1 1 1 1 1 1 1 1] 3.0 False\n",
      "[0 0 0 0 0 0 1 0 0] 16.0 False\n",
      "[0 0 0 1 0 0 1 0 0] 22.0 False\n",
      "[0 0 0 1 0 0 1 0 0] 22.0 False\n",
      "[1 1 1 1 1 1 1 1 1] 3.0 False\n",
      "[1 1 1 1 1 1 1 1 1] 3.0 False\n",
      "[0 0 0 1 0 0 1 0 0] 22.0 False\n"
     ]
    }
   ],
   "source": [
    "logical_qubits = len(qubo.todense())\n",
    "problem_qubits = graph_params[\"total_vertices\"]\n",
    "slack_qubits = logical_qubits - problem_qubits\n",
    "raw = result.to_pandas_dataframe()\n",
    "spin_config = raw.iloc[:,:logical_qubits].values\n",
    "energy = raw['energy'].values\n",
    "energy\n",
    "for idx, i in enumerate(spin_config):\n",
    "    print(i, energy[idx], energy[idx]+penalty*graph_params[\"total_vertices\"] == sum(i[:problem_qubits]))"
   ]
  },
  {
   "cell_type": "code",
   "execution_count": 9,
   "metadata": {},
   "outputs": [
    {
     "data": {
      "text/plain": [
       "dict_keys(['num_qubits', 'qubits', 'couplers', 'h_range', 'j_range', 'supported_problem_types', 'parameters', 'vfyc', 'anneal_offset_ranges', 'anneal_offset_step', 'anneal_offset_step_phi0', 'annealing_time_range', 'chip_id', 'default_annealing_time', 'default_programming_thermalization', 'default_readout_thermalization', 'extended_j_range', 'h_gain_schedule_range', 'max_anneal_schedule_points', 'max_h_gain_schedule_points', 'num_reads_range', 'per_qubit_coupling_range', 'problem_run_duration_range', 'programming_thermalization_range', 'readout_thermalization_range', 'tags', 'topology', 'category', 'quota_conversion_rate'])"
      ]
     },
     "execution_count": 9,
     "metadata": {},
     "output_type": "execute_result"
    }
   ],
   "source": [
    "vars(sampler)[\"_properties\"].keys()"
   ]
  },
  {
   "cell_type": "code",
   "execution_count": 10,
   "metadata": {},
   "outputs": [
    {
     "data": {
      "text/plain": [
       "1000"
      ]
     },
     "execution_count": 10,
     "metadata": {},
     "output_type": "execute_result"
    }
   ],
   "source": [
    "sampler._properties[\"default_programming_thermalization\"]"
   ]
  },
  {
   "cell_type": "code",
   "execution_count": null,
   "metadata": {},
   "outputs": [],
   "source": []
  }
 ],
 "metadata": {
  "kernelspec": {
   "display_name": "quantum_linear_programming",
   "language": "python",
   "name": "quantum_linear_programming"
  },
  "language_info": {
   "codemirror_mode": {
    "name": "ipython",
    "version": 3
   },
   "file_extension": ".py",
   "mimetype": "text/x-python",
   "name": "python",
   "nbconvert_exporter": "python",
   "pygments_lexer": "ipython3",
   "version": "3.7.4"
  }
 },
 "nbformat": 4,
 "nbformat_minor": 1
}
