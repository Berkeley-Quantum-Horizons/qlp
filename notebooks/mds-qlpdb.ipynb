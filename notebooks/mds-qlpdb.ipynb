{
 "cells": [
  {
   "cell_type": "markdown",
   "metadata": {
    "collapsed": true
   },
   "source": [
    "# dominating set\n",
    "\n",
    "Set up calculations and store in EspressoDB"
   ]
  },
  {
   "cell_type": "code",
   "execution_count": 1,
   "metadata": {},
   "outputs": [],
   "source": [
    "import matplotlib.pylab as plt\n",
    "import seaborn as sns\n",
    "import os\n",
    "os.environ[\"DJANGO_ALLOW_ASYNC_UNSAFE\"] = \"true\"\n",
    "import numpy as np\n",
    "import pandas as pd\n",
    "\n",
    "from qlp.mds import graph_tools as gt\n",
    "from qlp.mds.qubo import get_mds_qubo\n",
    "from qlp.mds.solver import classical_search\n",
    "from qlp.mds.mds_qlpdb import graph_summary, experiment_summary, data_summary, insert_result, QUBO_to_Ising, embed_with_offset\n",
    "\n",
    "import networkx as nx\n",
    "from networkx import Graph\n",
    "from networkx.drawing.nx_pylab import draw\n",
    "from networkx.algorithms.approximation import min_weighted_dominating_set\n",
    "from networkx.algorithms.dominating import dominating_set\n",
    "\n",
    "from dwave.system.samplers import DWaveSampler"
   ]
  },
  {
   "cell_type": "code",
   "execution_count": 10,
   "metadata": {
    "scrolled": false
   },
   "outputs": [
    {
     "data": {
      "image/png": "[encoded data removed]",
      "text/plain": [
       "<Figure size 432x288 with 1 Axes>"
      ]
     },
     "metadata": {},
     "output_type": "display_data"
    },
    {
     "name": "stdout",
     "output_type": "stream",
     "text": [
      "{'tag': 'NN(6)', 'total_vertices': 6, 'total_edges': 5, 'max_edges': 2, 'adjacency': [[0, 1], [1, 2], [4, 5], [2, 3], [3, 4]], 'adjacency_hash': 'cb6075bc51cf31e074e89fe956468f6f'}\n",
      "Greedy solution\n",
      " {0, 2, 4}\n",
      "Chain strength: 4.0\n",
      "B {0: [1082], 1: [1081, 953, 1085], 2: [1080, 952, 1087, 1095], 3: [964, 962, 834, 956], 4: [961, 833, 1089], 5: [835, 836], 6: [958, 954], 7: [1086], 8: [1083, 1084], 9: [965, 957], 10: [955, 959], 11: [1090, 1093], 12: [963, 966, 1091], 13: [839], 14: [838, 832], 15: [837]}\n",
      "0\n",
      "   0  1  2  3  4  5  6  7  8  9  10  11  12  13  14  15  chain_break_fraction  \\\n",
      "0  0  1  0  0  1  0  0  0  0  0   0   0   0   0   0   0                   0.0   \n",
      "9  0  1  1  0  0  1  0  1  0  1   0   0   0   0   0   0                   0.0   \n",
      "8  0  1  1  0  1  0  0  1  0  1   0   1   0   0   0   0                   0.0   \n",
      "7  0  1  0  1  0  1  0  0  0  1   0   0   0   1   0   0                   0.0   \n",
      "6  1  0  1  0  0  1  0  1  0  0   0   0   0   0   0   0                   0.0   \n",
      "\n",
      "   energy  num_occurrences  \n",
      "0   -10.0              266  \n",
      "9    -9.0               42  \n",
      "8    -9.0               63  \n",
      "7    -9.0               36  \n",
      "6    -9.0               52  \n"
     ]
    }
   ],
   "source": [
    "# Define Adjacency matrix\n",
    "# Hamming(d,q)\n",
    "# Biparti\n",
    "# NN(v): 1D nearest neighbor with v vertices. max is 16 before minor embedding starts breaking\n",
    "#graph, tag = gt.generate_hamming_graph(1, 2)\n",
    "#graph, tag = gt.generate_bipartite_graph(3, 3)\n",
    "#graph, tag = gt.generate_newman_watts_strogatz_graph(10, 4, 0.1)\n",
    "# graph, tag = gt.generate_corona_graph(3,6)\n",
    "for nvertices in range(0,1):\n",
    "    graph, tag = gt.generate_nn_graph(6)\n",
    "    penalty = 2\n",
    "\n",
    "    directed = False\n",
    "    qubo = get_mds_qubo(graph, directed=directed, penalty = penalty, triangularize=True, dtype=\"d\")\n",
    "    q_min = np.array(list(qubo.values())).min()\n",
    "\n",
    "    gt.get_plot(graph, directed=directed)\n",
    "    plt.show()\n",
    "    graph_params = graph_summary(tag, graph)\n",
    "    print(graph_params)\n",
    "\n",
    "    G = nx.Graph()\n",
    "    G.add_edges_from(graph)\n",
    "    print(\"Greedy solution\\n\", dominating_set(G))\n",
    "    \n",
    "    # Experiment\n",
    "    J, h, C = QUBO_to_Ising(qubo.todense().tolist())\n",
    "    maxJ = max(abs(J).flatten())\n",
    "    maxh = max(abs(h))\n",
    "    #print(\"Initial\")\n",
    "    #print(f\"max(J) = {maxJ}\")\n",
    "    #print(f\"max(h) = {maxh}\")\n",
    "    #print(\"DWave J_range = [-1.0, 1.0] \\nDWave h_range = [-2.0, 2.0]\")\n",
    "    #print(\"Must scale QUBO to these ranges\\n\")\n",
    "    fact = 1 #max([maxJ, maxh/2]) * 1.2\n",
    "    qubo = qubo / fact\n",
    "\n",
    "    J, h, C = QUBO_to_Ising(qubo.todense().tolist())\n",
    "    maxJ = max(abs(J).flatten())\n",
    "    maxh = max(abs(h))\n",
    "    #print(\"Rescaled\")\n",
    "    #print(f\"max(J) = {maxJ}\")\n",
    "    #print(f\"max(h) = {maxh}\")\n",
    "    #print(\"DWave J_range = [-1.0, 1.0] \\nDWave h_range = [-2.0, 2.0]\")\n",
    "    #print(\"Must scale QUBO to these ranges\\n\")\n",
    "\n",
    "    # Set chain strength\n",
    "    chain_strength = maxJ*2\n",
    "    print(f\"Chain strength: {chain_strength}\")\n",
    "    \n",
    "    # DWave settings\n",
    "    solver = \"DW_2000Q_5\"\n",
    "    sampler = DWaveSampler(solver=solver)\n",
    "    qubo_dict, embed, anneal_offsets = embed_with_offset(sampler=sampler, qubo=qubo, percentage=0.05, offset=True)\n",
    "\n",
    "    dwave_config = {\n",
    "        \"annealing_time\": 500,  # integer microseconds [1, 2000]\n",
    "        \"answer_mode\": \"histogram\", # histogram or raw\n",
    "        \"auto_scale\": True,\n",
    "        \"num_reads\": 1000,  # raw will dump out all results\n",
    "        \"num_spin_reversal_transforms\": 0,\n",
    "        \"readout_thermalization\": 0, # default 0\n",
    "        \"programming_thermalization\": 1000, # default 1000\n",
    "        \"chain_strength\": chain_strength,\n",
    "        \"anneal_offsets\": anneal_offsets\n",
    "    }\n",
    "    solver = \"DW_2000Q_5\"\n",
    "\n",
    "    experiment_params = experiment_summary(machine=solver, settings=dwave_config, penalty=penalty, factor=fact, chain_strength=chain_strength, qubo=qubo)\n",
    "\n",
    "\n",
    "    # Solve on DWave and push to database\n",
    "    for idx in range(1):\n",
    "        print(idx)\n",
    "        result = embed.sample_qubo(qubo_dict, **dwave_config)\n",
    "        raw = result.to_pandas_dataframe()\n",
    "        data_params = data_summary(raw, graph_params, experiment_params)\n",
    "        #result = insert_result(graph_params, experiment_params, data_params)\n",
    "    print(raw.sort_values(\"energy\", ascending=True).head())"
   ]
  },
  {
   "cell_type": "code",
   "execution_count": 7,
   "metadata": {},
   "outputs": [
    {
     "name": "stdout",
     "output_type": "stream",
     "text": [
      "{(0, 1), (1, 2), (4, 7), (4, 5), (2, 3), (1, 6), (5, 0), (3, 4)}\n"
     ]
    },
    {
     "data": {
      "image/png": "[encoded data removed]",
      "text/plain": [
       "<Figure size 432x288 with 1 Axes>"
      ]
     },
     "metadata": {},
     "output_type": "display_data"
    }
   ],
   "source": [
    "graph, _ = gt.generate_corona_graph(2,0)\n",
    "print(graph)\n",
    "G = nx.Graph()\n",
    "G.add_edges_from(graph)\n",
    "draw(G)"
   ]
  },
  {
   "cell_type": "code",
   "execution_count": null,
   "metadata": {},
   "outputs": [],
   "source": []
  }
 ],
 "metadata": {
  "kernelspec": {
   "display_name": "quantum_linear_programming",
   "language": "python",
   "name": "quantum_linear_programming"
  },
  "language_info": {
   "codemirror_mode": {
    "name": "ipython",
    "version": 3
   },
   "file_extension": ".py",
   "mimetype": "text/x-python",
   "name": "python",
   "nbconvert_exporter": "python",
   "pygments_lexer": "ipython3",
   "version": "3.7.4"
  }
 },
 "nbformat": 4,
 "nbformat_minor": 1
}
