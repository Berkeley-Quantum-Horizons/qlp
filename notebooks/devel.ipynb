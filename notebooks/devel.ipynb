{
 "cells": [
  {
   "cell_type": "code",
   "execution_count": null,
   "metadata": {},
   "outputs": [],
   "source": [
    "from typing import List, Tuple, Dict\n",
    "\n",
    "import numpy as np\n",
    "\n",
    "from sympy import symbols, Matrix, Symbol\n",
    "from sympy.matrices import zeros\n",
    "from sympy.core import relational\n",
    "\n",
    "from decimal import Decimal"
   ]
  },
  {
   "cell_type": "code",
   "execution_count": null,
   "metadata": {},
   "outputs": [],
   "source": [
    "def eqns_to_matrix(\n",
    "    eqns: List[relational.Relational], dependents: List[Symbol]\n",
    ") -> Tuple[Matrix, Matrix]:\n",
    "    \"\"\"Converts list of relations to slack variable matrix and vector formalism.\n",
    "    \n",
    "    The result relates to the original eqn such that `m.deps + v = 0`\n",
    "    \n",
    "    For example [a1 * x <= b1, a2 * x >= b2] becomes\n",
    "    \n",
    "    m = | a1 |  and v = | b1 - s1 |\n",
    "        | a2 |          | b2 + s2 |\n",
    "    \n",
    "    Arguments:\n",
    "        eqns: List of relational equations. LHS must be linear in dependents, RHS constant.\n",
    "        dependents: List of dependent variables\n",
    "\n",
    "\n",
    "    Returns:\n",
    "        m and v, here m is the Matrix and v the vector containing the slack variable\n",
    "    \n",
    "    \"\"\"\n",
    "    dependents = set(dependents)\n",
    "\n",
    "    mat_coeffs = set()\n",
    "    vec_coeffs = set()\n",
    "    for eqn in eqns:\n",
    "        mat_coeffs = mat_coeffs.union(eqn.lhs.free_symbols.difference(set(dependents)))\n",
    "        vec_coeffs = vec_coeffs.union(eqn.rhs.free_symbols.difference(set(dependents)))\n",
    "\n",
    "    n_deps = len(dependents)\n",
    "    n_eqns = len(eqns)\n",
    "\n",
    "    s_vec = symbols(f\"s(1:{n_eqns+1})\")\n",
    "\n",
    "    v = Matrix(\n",
    "        [\n",
    "            [-eqn.rhs + (s if isinstance(eqn, relational.LessThan) else -s)]\n",
    "            for eqn, s in zip(eqns, s_vec)\n",
    "        ]\n",
    "    )\n",
    "    m = zeros(rows=n_eqns, cols=n_deps)\n",
    "    for ne, eqn in enumerate(eqns):\n",
    "        for nd, dep in enumerate(dependents):\n",
    "            m[ne, nd] = eqn.lhs.coeff(dep)\n",
    "\n",
    "    return m, v"
   ]
  },
  {
   "cell_type": "code",
   "execution_count": null,
   "metadata": {},
   "outputs": [],
   "source": [
    "def rescale_expressions(expr: Symbol, subs: Dict[str, str]) -> Symbol:\n",
    "    \"\"\"Rescales and substitutes all values. \n",
    "    \n",
    "    The values are multiplied by 10**power such that all values are integers.\n",
    "    \n",
    "    Arguments:\n",
    "        expr: The expression to substitute\n",
    "        subs: The symbol to value map. Must be strings.\n",
    "        \n",
    "    Returns:\n",
    "        The rescaled and substituded expression\n",
    "    \"\"\"\n",
    "    max_neg_power = 0 \n",
    "    for par, val in subs.items():\n",
    "        exponent = Decimal(val).as_tuple().exponent\n",
    "        max_neg_power = exponent if exponent < max_neg_power else max_neg_power\n",
    "    \n",
    "    fact = 10 ** (-max_neg_power)\n",
    "    \n",
    "    print(f\"Multipying by {fact}\")\n",
    "    \n",
    "    rescaled_subs = {par: int(Decimal(val) * fact) for par, val in subs.items()}\n",
    "    \n",
    "    return expr.subs(rescaled_subs)"
   ]
  },
  {
   "cell_type": "code",
   "execution_count": null,
   "metadata": {},
   "outputs": [],
   "source": [
    "def int_to_bitarray(i: int, bits=8) -> np.ndarray:\n",
    "    \"\"\"Converts an integer to an array where each value corresponds to a bit\n",
    "    \n",
    "    Arguments:\n",
    "        i: The integer\n",
    "        bits: The available bits for the substitutin.\n",
    "        \n",
    "    Returns:\n",
    "        An array of ones and zeros. First element is smallest number\n",
    "    \"\"\"\n",
    "    bit_string = (f\"{{0:0{bits}b}}\").format(i)\n",
    "    if len(bit_string) > bits:\n",
    "        raise ValueError(f\"{i} is too large to be represented by {bits} bits\")\n",
    "    return np.array([int(ii) for ii in bit_string[::-1]])"
   ]
  },
  {
   "cell_type": "code",
   "execution_count": null,
   "metadata": {},
   "outputs": [],
   "source": [
    "a1, a2, b1, b2, x = symbols(\"a1, a2, b1, b2, x\")\n",
    "subs = {\"a1\": \"0.456\", \"a2\": \"0.1\", \"b1\": \"10\", \"b2\": \"-2.1\"}\n",
    "\n",
    "eqns = [\n",
    "    a1 * x <= b1,\n",
    "    a2 * x >= b2,\n",
    "]"
   ]
  },
  {
   "cell_type": "code",
   "execution_count": null,
   "metadata": {},
   "outputs": [],
   "source": [
    "m, v = eqns_to_matrix(eqns, [x])\n",
    "deps = Matrix([x])\n",
    "\n",
    "mm = m @ deps + v\n",
    "mm"
   ]
  },
  {
   "cell_type": "code",
   "execution_count": null,
   "metadata": {},
   "outputs": [],
   "source": [
    "print(subs)\n",
    "\n",
    "rescale_expressions(mm, subs)"
   ]
  },
  {
   "cell_type": "code",
   "execution_count": null,
   "metadata": {},
   "outputs": [],
   "source": [
    "bits = 8\n",
    "max_bit = 2 ** bits - 1\n",
    "print(f\"using {bits} bits ranging from 0 ... {max_bit}\")\n",
    "\n",
    "\n",
    "int_to_bitarray(1, 8)"
   ]
  },
  {
   "cell_type": "code",
   "execution_count": null,
   "metadata": {},
   "outputs": [],
   "source": []
  }
 ],
 "metadata": {
  "kernelspec": {
   "display_name": "Python 3",
   "language": "python",
   "name": "python3"
  },
  "language_info": {
   "codemirror_mode": {
    "name": "ipython",
    "version": 3
   },
   "file_extension": ".py",
   "mimetype": "text/x-python",
   "name": "python",
   "nbconvert_exporter": "python",
   "pygments_lexer": "ipython3",
   "version": "3.7.5"
  }
 },
 "nbformat": 4,
 "nbformat_minor": 2
}
