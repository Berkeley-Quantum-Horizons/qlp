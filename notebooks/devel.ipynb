{
 "cells": [
  {
   "cell_type": "code",
   "execution_count": 1,
   "metadata": {},
   "outputs": [],
   "source": [
    "from sympy import symbols, Matrix\n",
    "\n",
    "from qlp.eqn_converter import eqns_to_matrix, rescale_expressions, get_bit_map"
   ]
  },
  {
   "cell_type": "code",
   "execution_count": 2,
   "metadata": {},
   "outputs": [],
   "source": [
    "a1, a2, b1, b2, x = symbols(\"a1, a2, b1, b2, x\")\n",
    "subs = {\"a1\": \"0.456\", \"a2\": \"0.1\", \"b1\": \"10\", \"b2\": \"-2.1\"}\n",
    "\n",
    "eqns = [\n",
    "    a1 * x <= b1,\n",
    "    a2 * x >= b2,\n",
    "]"
   ]
  },
  {
   "cell_type": "code",
   "execution_count": 3,
   "metadata": {},
   "outputs": [
    {
     "data": {
      "text/latex": [
       "$\\displaystyle \\left[\\begin{matrix}a_{1} x - b_{1} + s_{1}\\\\a_{2} x - b_{2} - s_{2}\\end{matrix}\\right]$"
      ],
      "text/plain": [
       "Matrix([\n",
       "[a1*x - b1 + s1],\n",
       "[a2*x - b2 - s2]])"
      ]
     },
     "execution_count": 3,
     "metadata": {},
     "output_type": "execute_result"
    }
   ],
   "source": [
    "m, v, s = eqns_to_matrix(eqns, [x])\n",
    "deps = Matrix([x])\n",
    "\n",
    "mm = m @ deps + v + s\n",
    "mm"
   ]
  },
  {
   "cell_type": "code",
   "execution_count": 4,
   "metadata": {},
   "outputs": [
    {
     "name": "stdout",
     "output_type": "stream",
     "text": [
      "{'a1': '0.456', 'a2': '0.1', 'b1': '10', 'b2': '-2.1'}\n",
      "Multipying by 1000\n"
     ]
    },
    {
     "data": {
      "text/latex": [
       "$\\displaystyle \\left[\\begin{matrix}s_{1} + 456 x - 10000\\\\- s_{2} + 100 x + 2100\\end{matrix}\\right]$"
      ],
      "text/plain": [
       "Matrix([\n",
       "[s1 + 456*x - 10000],\n",
       "[-s2 + 100*x + 2100]])"
      ]
     },
     "execution_count": 4,
     "metadata": {},
     "output_type": "execute_result"
    }
   ],
   "source": [
    "print(subs)\n",
    "\n",
    "rescale_expressions(mm, subs)"
   ]
  },
  {
   "cell_type": "code",
   "execution_count": 5,
   "metadata": {},
   "outputs": [
    {
     "data": {
      "text/plain": [
       "array([[1, 2, 4, 8, 0, 0, 0, 0, 0, 0, 0, 0],\n",
       "       [0, 0, 0, 0, 1, 2, 4, 8, 0, 0, 0, 0],\n",
       "       [0, 0, 0, 0, 0, 0, 0, 0, 1, 2, 4, 8]])"
      ]
     },
     "execution_count": 5,
     "metadata": {},
     "output_type": "execute_result"
    }
   ],
   "source": [
    "get_bit_map(3, 4)"
   ]
  },
  {
   "cell_type": "code",
   "execution_count": null,
   "metadata": {},
   "outputs": [],
   "source": []
  }
 ],
 "metadata": {
  "kernelspec": {
   "display_name": "qlp",
   "language": "python",
   "name": "qlp"
  },
  "language_info": {
   "codemirror_mode": {
    "name": "ipython",
    "version": 3
   },
   "file_extension": ".py",
   "mimetype": "text/x-python",
   "name": "python",
   "nbconvert_exporter": "python",
   "pygments_lexer": "ipython3",
   "version": "3.7.5"
  }
 },
 "nbformat": 4,
 "nbformat_minor": 2
}
