{
 "cells": [
  {
   "cell_type": "code",
   "execution_count": 2,
   "metadata": {},
   "outputs": [],
   "source": [
    "from typing import List, Tuple, Dict\n",
    "\n",
    "import numpy as np\n",
    "\n",
    "from sympy import symbols, Matrix, Symbol\n",
    "from sympy.matrices import zeros\n",
    "from sympy.core import relational\n",
    "\n",
    "from decimal import Decimal"
   ]
  },
  {
   "cell_type": "code",
   "execution_count": 10,
   "metadata": {},
   "outputs": [],
   "source": [
    "def eqns_to_matrix(\n",
    "    eqns: List[relational.Relational], dependents: List[Symbol]\n",
    ") -> Tuple[Matrix, Matrix, Matrix]:\n",
    "    \"\"\"Converts list of relations to slack variable matrix and vector formalism.\n",
    "    \n",
    "    The result relates to the original eqn such that `m.deps + v + s= 0`\n",
    "    \n",
    "    For example [a1 * x <= b1, a2 * x >= b2] becomes\n",
    "    \n",
    "    m = | a1 |  and v = | b1 | s = | - s1 |\n",
    "        | a2 |          | b2 |     | + s2 |\n",
    "    \n",
    "    Arguments:\n",
    "        eqns: List of relational equations. LHS must be linear in dependents, RHS constant.\n",
    "        dependents: List of dependent variables\n",
    "\n",
    "\n",
    "    Returns:\n",
    "        m and v, here m is the Matrix and v the vector containing the slack variable\n",
    "    \n",
    "    \"\"\"\n",
    "    dependents = set(dependents)\n",
    "\n",
    "    mat_coeffs = set()\n",
    "    vec_coeffs = set()\n",
    "    for eqn in eqns:\n",
    "        mat_coeffs = mat_coeffs.union(eqn.lhs.free_symbols.difference(set(dependents)))\n",
    "        vec_coeffs = vec_coeffs.union(eqn.rhs.free_symbols.difference(set(dependents)))\n",
    "\n",
    "    n_deps = len(dependents)\n",
    "    n_eqns = len(eqns)\n",
    "\n",
    "    s_vars = symbols(f\"s(1:{n_eqns+1})\")\n",
    "\n",
    "    v = Matrix([[-eqn.rhs] for eqn in eqns])\n",
    "    s = Matrix([[s if isinstance(eqn, relational.LessThan) else -s] for s, eqn in zip(s_vars, eqns)])\n",
    "    m = zeros(rows=n_eqns, cols=n_deps)\n",
    "    for ne, eqn in enumerate(eqns):\n",
    "        for nd, dep in enumerate(dependents):\n",
    "            m[ne, nd] = eqn.lhs.coeff(dep)\n",
    "\n",
    "    return m, v, s"
   ]
  },
  {
   "cell_type": "code",
   "execution_count": 11,
   "metadata": {},
   "outputs": [],
   "source": [
    "def rescale_expressions(expr: Symbol, subs: Dict[str, str]) -> Symbol:\n",
    "    \"\"\"Rescales and substitutes all values. \n",
    "    \n",
    "    The values are multiplied by 10**power such that all values are integers.\n",
    "    \n",
    "    Arguments:\n",
    "        expr: The expression to substitute\n",
    "        subs: The symbol to value map. Must be strings.\n",
    "        \n",
    "    Returns:\n",
    "        The rescaled and substituded expression\n",
    "    \"\"\"\n",
    "    max_neg_power = 0\n",
    "    for par, val in subs.items():\n",
    "        exponent = Decimal(val).as_tuple().exponent\n",
    "        max_neg_power = exponent if exponent < max_neg_power else max_neg_power\n",
    "\n",
    "    fact = 10 ** (-max_neg_power)\n",
    "\n",
    "    print(f\"Multipying by {fact}\")\n",
    "\n",
    "    rescaled_subs = {par: int(Decimal(val) * fact) for par, val in subs.items()}\n",
    "\n",
    "    return expr.subs(rescaled_subs)"
   ]
  },
  {
   "cell_type": "code",
   "execution_count": 12,
   "metadata": {},
   "outputs": [],
   "source": [
    "def int_to_bitarray(i: int, bits=8) -> np.ndarray:\n",
    "    \"\"\"Converts an integer to an array where each value corresponds to a bit\n",
    "    \n",
    "    Arguments:\n",
    "        i: The integer\n",
    "        bits: The available bits for the substitutin.\n",
    "        \n",
    "    Returns:\n",
    "        An array of ones and zeros. First element is smallest number\n",
    "    \"\"\"\n",
    "    bit_string = (f\"{{0:0{bits}b}}\").format(i)\n",
    "    if len(bit_string) > bits:\n",
    "        raise ValueError(f\"{i} is too large to be represented by {bits} bits\")\n",
    "    return np.array([int(ii) for ii in bit_string[::-1]])"
   ]
  },
  {
   "cell_type": "code",
   "execution_count": 6,
   "metadata": {},
   "outputs": [],
   "source": [
    "a1, a2, b1, b2, x = symbols(\"a1, a2, b1, b2, x\")\n",
    "subs = {\"a1\": \"0.456\", \"a2\": \"0.1\", \"b1\": \"10\", \"b2\": \"-2.1\"}\n",
    "\n",
    "eqns = [\n",
    "    a1 * x <= b1,\n",
    "    a2 * x >= b2,\n",
    "]"
   ]
  },
  {
   "cell_type": "code",
   "execution_count": 7,
   "metadata": {},
   "outputs": [
    {
     "data": {
      "text/latex": [
       "$\\displaystyle \\left[\\begin{matrix}a_{1} x - b_{1} - s_{1}\\\\a_{2} x - b_{2} - s_{2}\\end{matrix}\\right]$"
      ],
      "text/plain": [
       "Matrix([\n",
       "[a1*x - b1 - s1],\n",
       "[a2*x - b2 - s2]])"
      ]
     },
     "execution_count": 7,
     "metadata": {},
     "output_type": "execute_result"
    }
   ],
   "source": [
    "m, v, s = eqns_to_matrix(eqns, [x])\n",
    "deps = Matrix([x])\n",
    "\n",
    "mm = m @ deps + v + s\n",
    "mm"
   ]
  },
  {
   "cell_type": "code",
   "execution_count": 8,
   "metadata": {},
   "outputs": [
    {
     "name": "stdout",
     "output_type": "stream",
     "text": [
      "{'a1': '0.456', 'a2': '0.1', 'b1': '10', 'b2': '-2.1'}\n",
      "Multipying by 1000\n"
     ]
    },
    {
     "data": {
      "text/latex": [
       "$\\displaystyle \\left[\\begin{matrix}- s_{1} + 456 x - 10000\\\\- s_{2} + 100 x + 2100\\end{matrix}\\right]$"
      ],
      "text/plain": [
       "Matrix([\n",
       "[-s1 + 456*x - 10000],\n",
       "[ -s2 + 100*x + 2100]])"
      ]
     },
     "execution_count": 8,
     "metadata": {},
     "output_type": "execute_result"
    }
   ],
   "source": [
    "print(subs)\n",
    "\n",
    "rescale_expressions(mm, subs)"
   ]
  },
  {
   "cell_type": "code",
   "execution_count": 9,
   "metadata": {},
   "outputs": [
    {
     "name": "stdout",
     "output_type": "stream",
     "text": [
      "using 8 bits ranging from 0 ... 255\n"
     ]
    },
    {
     "data": {
      "text/plain": [
       "array([1, 0, 0, 0, 0, 0, 0, 0])"
      ]
     },
     "execution_count": 9,
     "metadata": {},
     "output_type": "execute_result"
    }
   ],
   "source": [
    "bits = 8\n",
    "max_bit = 2 ** bits - 1\n",
    "print(f\"using {bits} bits ranging from 0 ... {max_bit}\")\n",
    "\n",
    "\n",
    "int_to_bitarray(1, 8)"
   ]
  },
  {
   "cell_type": "markdown",
   "metadata": {},
   "source": [
    "The idea is as follows: we have a list of equations which is of the form\n",
    "\\begin{equation}\n",
    "    \\vec f( \\vec x, \\vec s ) = A \\cdot \\vec x + \\vec b + C \\vec s = \\vec 0 \\, ,\n",
    "\\end{equation}\n",
    "Where $C$ is diagonal and entries are $c_{ii} \\in \\{-1, 0, 1 \\}$ (corresponding to the constraint type). "
   ]
  },
  {
   "cell_type": "markdown",
   "metadata": {},
   "source": [
    "This can be rewritten as\n",
    "\\begin{equation}\n",
    "    \\vec f( \\vec \\xi ) = \\alpha \\cdot \\xi + \\vec b = \\vec 0 \\, ,\n",
    "\\end{equation}\n",
    "where $\\vec \\xi = (\\vec x, \\vec s)$ and thus\n",
    "\\begin{equation}\n",
    "    \\alpha = \\begin{pmatrix} A & 0 \\\\ 0 & C \\end{pmatrix} \\, , \\qquad\n",
    "\\end{equation}"
   ]
  },
  {
   "cell_type": "markdown",
   "metadata": {},
   "source": [
    "However, our variables $\\vec x$ and $\\vec s$ are in a bit representation\n",
    "\\begin{equation}\n",
    "   q = \\sum_{i=0}^{N_b-1} \\psi_i^{(q)} 2^i \\, , \\qquad \\psi_i^{(q)} \\in \\{0, 1 \\} \\, .\n",
    "\\end{equation}\n",
    "\n",
    "Thus our vector $ \\vec \\xi $ corresponds to a vector of size $N_b \\times (N_x + N_s)$ in the qbit basis\n",
    "\\begin{equation}\n",
    "    \\vec \\psi_\\xi\n",
    "    =\n",
    "    \\left(\n",
    "        \\psi_0^{(x_1)}, \\cdots, \\psi_{N-1}^{(x_1)},\n",
    "        \\cdots,\n",
    "        \\psi_0^{(x_{N_x})}, \\cdots, \\psi_{N-1}^{(x_{N_x})},\n",
    "        \\psi_{0}^{(s_1)}, \\cdots, \\psi_{N_s-1}^{(s_1)},\n",
    "        \\psi_{0}^{(s_{N_s})}, \\cdots, \\psi_{N_s-1}^{(s_{N_S})},\n",
    "    \\right) \\, .\n",
    "\\end{equation}\n",
    "\n",
    "We are interested in a map $Q$ such that $\\vec \\xi = Q \\vec \\psi_\\xi$.\n",
    "Thus $Q$ is a diagonal and it's entries are blockwise\n",
    "\n",
    "\\begin{equation}\n",
    "    Q\n",
    "    =\n",
    "    (\\tilde Q^{(x_1)}, \\cdots, \\tilde Q^{(x_{N_x})}, \\tilde Q^{(s_1)}, \\cdots \\tilde Q^{(s_{N_s})}) \\, ,\n",
    "    \\qquad\n",
    "    \\tilde{Q}^{(i)}_n\n",
    "        = \\begin{cases}\n",
    "        (1, 2, 2^2, \\cdots, 2^{N-1}) \\cdot \\vec e_n & n \\in \\text{range of (i)} \\\\\n",
    "        0 & \\text{otherwise}\n",
    "      \\end{cases}\n",
    "    \\, .\n",
    "\\end{equation}\n",
    "\n",
    "As an example, let's pick $N_x =1$, $N_b=2$ and $N_s =3$, thus we have\n",
    "\n",
    "\\begin{equation}\n",
    "    Q\n",
    "    =\n",
    "    \\begin{pmatrix}\n",
    "        1 & 2 & 0 & 0 & 0 & 0 & 0 & 0 \\\\\n",
    "        0 & 0 & 1 & 2 & 0 & 0 & 0 & 0 \\\\\n",
    "        0 & 0 & 0 & 0 & 1 & 2 & 0 & 0 \\\\\n",
    "        0 & 0 & 0 & 0 & 0 & 0 & 1 & 2\n",
    "    \\end{pmatrix}\n",
    "    \\, , \\qquad\n",
    "    \\begin{pmatrix}\n",
    "        x_1 \\\\ s_1 \\\\ s_2 \\\\ s_3\n",
    "    \\end{pmatrix}\n",
    "    =\n",
    "    Q \\cdot\n",
    "    \\begin{pmatrix}\n",
    "        \\psi_0^{(x_1)} \\\\ \\psi_1^{(x_1)} \\\\\n",
    "        \\psi_0^{(s_1)} \\\\ \\psi_1^{(s_1)} \\\\\n",
    "        \\psi_0^{(s_2)} \\\\ \\psi_1^{(s_2)} \\\\\n",
    "        \\psi_0^{(s_3)} \\\\ \\psi_1^{(s_3)} \n",
    "    \\end{pmatrix}\n",
    "    =\n",
    "    \\begin{pmatrix}\n",
    "        \\psi_0^{(x_1)} + 2 \\psi_1^{(x_1)} \\\\\n",
    "        \\psi_0^{(s_1)} + 2 \\psi_1^{(s_1)} \\\\\n",
    "        \\psi_0^{(s_2)} + 2 \\psi_1^{(s_2)} \\\\\n",
    "        \\psi_0^{(s_3)} + 2 \\psi_1^{(s_3)} \n",
    "    \\end{pmatrix}\n",
    "\\end{equation}"
   ]
  },
  {
   "cell_type": "code",
   "execution_count": 44,
   "metadata": {},
   "outputs": [],
   "source": [
    "def get_bit_map(nvars: int, nb: int) -> np.ndarray:\n",
    "    \"\"\"\n",
    "    \"\"\"\n",
    "    bitmap = 2 ** np.arange(nb)\n",
    "    q = np.zeros([nvars, nb*nvars], dtype=int)\n",
    "    for n in range(nvars):\n",
    "        q[n, n * nb : ((n + 1) * nb)] = bitmap\n",
    "\n",
    "    return q"
   ]
  },
  {
   "cell_type": "code",
   "execution_count": 46,
   "metadata": {},
   "outputs": [
    {
     "data": {
      "text/plain": [
       "array([[1, 2, 4, 8, 0, 0, 0, 0, 0, 0, 0, 0],\n",
       "       [0, 0, 0, 0, 1, 2, 4, 8, 0, 0, 0, 0],\n",
       "       [0, 0, 0, 0, 0, 0, 0, 0, 1, 2, 4, 8]])"
      ]
     },
     "execution_count": 46,
     "metadata": {},
     "output_type": "execute_result"
    }
   ],
   "source": [
    "get_bit_map(3, 4)"
   ]
  },
  {
   "cell_type": "markdown",
   "metadata": {},
   "source": [
    "Finally, our matrix $M$ just depends on $x$, while $C$ just depends on $s$. So the EQN becomes\n",
    "\n",
    "\\begin{equation}\n",
    "    \\vec f( \\vec x, \\vec s )\n",
    "    = \n",
    "    \\alpha Q \\vec \\psi_\\xi + \\vec b     \n",
    "\\end{equation}"
   ]
  },
  {
   "cell_type": "markdown",
   "metadata": {},
   "source": [
    "Finally we want to solve\n",
    "\n",
    "\\begin{equation}\n",
    "    \\vec x_0\n",
    "    =\n",
    "    \\text{argmax}_{\\vec x}\\left(\\max_{\\vec s}\\left( \n",
    "        \\vec d \\cdot \\vec x + p \\vec f( \\vec x, \\vec s ) \\cdot \\vec f ( \\vec x, \\vec s ) \n",
    "    \\right)\\right)\n",
    "\\end{equation}\n",
    "note that the solutions are most likely degenerate since we might find vectors for same $x$ but different $s$ which fulfill the above equation.\n",
    "\n",
    "in the new basis this becomes\n",
    "\n",
    "\\begin{equation}\n",
    "    \\psi_{\\xi_0}\n",
    "    =\n",
    "    \\text{argmax}_{\\vec \\psi_{\\xi}}\\left( \n",
    "        \\vec \\delta \\cdot \\vec \\psi_{\\xi} \n",
    "        +  p (\\alpha Q \\vec \\psi_\\xi  + \\vec b)\\cdot(\\alpha Q \\vec \\psi_\\xi  + \\vec b)  \n",
    "    \\right)\n",
    "    =\n",
    "    \\text{argmax}_{\\vec \\psi_{\\xi}}\\left( \n",
    "        \\vec \\psi_{\\xi} \\cdot M_Q \\cdot \\vec \\psi_{\\xi}\n",
    "    \\right)\n",
    "\\end{equation}\n",
    "\n",
    "\\begin{equation}\n",
    "    M_Q \n",
    "    = \n",
    "    \\begin{pmatrix}\n",
    "        \\text{diag}(\\vec d) & 0 \\\\ \n",
    "        0 & 0\n",
    "    \\end{pmatrix}Q \n",
    "    + p Q^T \\alpha^T \\alpha Q\n",
    "    + {\\color{red}\\vec b \\cdot \\vec b}\n",
    "\\end{equation}\n"
   ]
  },
  {
   "cell_type": "code",
   "execution_count": null,
   "metadata": {},
   "outputs": [],
   "source": []
  }
 ],
 "metadata": {
  "kernelspec": {
   "display_name": "Python 3",
   "language": "python",
   "name": "python3"
  },
  "language_info": {
   "codemirror_mode": {
    "name": "ipython",
    "version": 3
   },
   "file_extension": ".py",
   "mimetype": "text/x-python",
   "name": "python",
   "nbconvert_exporter": "python",
   "pygments_lexer": "ipython3",
   "version": "3.7.5"
  }
 },
 "nbformat": 4,
 "nbformat_minor": 2
}
