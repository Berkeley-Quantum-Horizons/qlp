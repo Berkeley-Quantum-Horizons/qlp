{
 "cells": [
  {
   "cell_type": "code",
   "execution_count": null,
   "metadata": {},
   "outputs": [],
   "source": [
    "from sympy import symbols, Matrix\n",
    "\n",
    "from qlp.eqn_converter import eqns_to_matrix, rescale_expressions, get_bit_map"
   ]
  },
  {
   "cell_type": "code",
   "execution_count": null,
   "metadata": {},
   "outputs": [],
   "source": [
    "a1, a2, b1, b2, x = symbols(\"a1, a2, b1, b2, x\")\n",
    "subs = {\"a1\": \"0.456\", \"a2\": \"0.1\", \"b1\": \"10\", \"b2\": \"-2.1\"}\n",
    "\n",
    "eqns = [\n",
    "    a1 * x <= b1,\n",
    "    a2 * x >= b2,\n",
    "]"
   ]
  },
  {
   "cell_type": "code",
   "execution_count": null,
   "metadata": {},
   "outputs": [],
   "source": [
    "m, v, s = eqns_to_matrix(eqns, [x])\n",
    "deps = Matrix([x])\n",
    "\n",
    "mm = m @ deps + v + s\n",
    "mm"
   ]
  },
  {
   "cell_type": "code",
   "execution_count": null,
   "metadata": {},
   "outputs": [],
   "source": [
    "print(subs)\n",
    "\n",
    "rescale_expressions(mm, subs)"
   ]
  },
  {
   "cell_type": "code",
   "execution_count": null,
   "metadata": {},
   "outputs": [],
   "source": [
    "get_bit_map(3, 4)"
   ]
  },
  {
   "cell_type": "code",
   "execution_count": null,
   "metadata": {},
   "outputs": [],
   "source": []
  }
 ],
 "metadata": {
  "kernelspec": {
   "display_name": "qlp",
   "language": "python",
   "name": "qlp"
  },
  "language_info": {
   "codemirror_mode": {
    "name": "ipython",
    "version": 3
   },
   "file_extension": ".py",
   "mimetype": "text/x-python",
   "name": "python",
   "nbconvert_exporter": "python",
   "pygments_lexer": "ipython3",
   "version": "3.7.5"
  }
 },
 "nbformat": 4,
 "nbformat_minor": 2
}
