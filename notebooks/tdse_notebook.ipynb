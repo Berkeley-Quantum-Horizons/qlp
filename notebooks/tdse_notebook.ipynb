{
 "cells": [
  {
   "cell_type": "markdown",
   "metadata": {},
   "source": [
    "# imports"
   ]
  },
  {
   "cell_type": "code",
   "execution_count": 1,
   "metadata": {},
   "outputs": [],
   "source": [
    "import os\n",
    "os.environ[\"DJANGO_ALLOW_ASYNC_UNSAFE\"] = \"true\"\n",
    "\n",
    "from pandas import read_excel\n",
    "import numpy as np\n",
    "from numpy.linalg import eigh\n",
    "import scipy as sp\n",
    "from scipy.integrate import solve_ivp\n",
    "from scipy.interpolate import interp1d\n",
    "import matplotlib.pyplot as plt\n",
    "import matplotlib as mpl\n",
    "\n",
    "mpl.pyplot.ion()\n",
    "%matplotlib inline\n",
    "import pickle\n",
    "\n",
    "from qlp.mds import graph_tools as gt\n",
    "from qlp.mds.qubo import get_mds_qubo\n",
    "from qlp.mds.mds_qlpdb import (\n",
    "    QUBO_to_Ising,\n",
    "    find_offset,\n",
    "    AnnealOffset,\n",
    "    graph_summary,\n",
    ")\n",
    "\n",
    "from qlp.tdse import AnnealSchedule, TDSE, embed_qubo_example\n",
    "\n",
    "import networkx as nx\n",
    "from networkx import Graph\n",
    "from networkx.drawing.nx_pylab import draw"
   ]
  },
  {
   "cell_type": "markdown",
   "metadata": {},
   "source": [
    "# Setup"
   ]
  },
  {
   "cell_type": "markdown",
   "metadata": {},
   "source": [
    "## Graph specific parameters "
   ]
  },
  {
   "cell_type": "markdown",
   "metadata": {},
   "source": [
    "Creates a line graph `o-o-o-...-o`"
   ]
  },
  {
   "cell_type": "code",
   "execution_count": 2,
   "metadata": {},
   "outputs": [],
   "source": [
    "nvertices = 3\n",
    "graph, tag = gt.generate_nn_graph(nvertices)\n",
    "directed = False"
   ]
  },
  {
   "cell_type": "markdown",
   "metadata": {},
   "source": [
    "## ILP / QUBO setup"
   ]
  },
  {
   "cell_type": "markdown",
   "metadata": {},
   "source": [
    "Initializes the Qubo for the Minimum Dominating Set problem"
   ]
  },
  {
   "cell_type": "code",
   "execution_count": 3,
   "metadata": {},
   "outputs": [],
   "source": [
    "penalty = 2\n",
    "qubo = get_mds_qubo(\n",
    "    graph, directed=directed, penalty=penalty, triangularize=True, dtype=\"d\"\n",
    ")\n",
    "qubo_constant = penalty * nvertices\n",
    "\n",
    "graph_params = graph_summary(tag, graph, qubo)"
   ]
  },
  {
   "cell_type": "markdown",
   "metadata": {},
   "source": [
    "## Set up ising model"
   ]
  },
  {
   "cell_type": "markdown",
   "metadata": {},
   "source": [
    "Computes the corresponding Ising model parameters for the QUBO\n",
    "\n",
    "**if embed is True:** \n",
    "    This embeds the QUBO into a chimera graph. Currently there is only an explicit result from G(2). I will in the future actually embed with DWave minorminer."
   ]
  },
  {
   "cell_type": "code",
   "execution_count": 4,
   "metadata": {},
   "outputs": [],
   "source": [
    "Jij, hi, c = QUBO_to_Ising(qubo.todense().tolist())\n",
    "\n",
    "embed = False  # nvertices = [2] available\n",
    "if embed:\n",
    "    qubo, embedding = embed_qubo_example(nvertices)\n",
    "    hi_for_offset = np.array(\n",
    "        [\n",
    "            hi[key]\n",
    "            for key in np.sort(list(embedding.keys()))\n",
    "            for count in range(len(embedding[key]))\n",
    "        ]\n",
    "    )\n",
    "    Jij, hi, c = QUBO_to_Ising(qubo.todense().tolist())\n",
    "else:\n",
    "    \n",
    "    hi_for_offset = hi\n",
    "    \n",
    "n = len(qubo.todense())"
   ]
  },
  {
   "cell_type": "markdown",
   "metadata": {},
   "source": [
    "## Anneal specific parameters"
   ]
  },
  {
   "cell_type": "markdown",
   "metadata": {},
   "source": [
    "Parameters which are related to converting physical unites to unitless units\n",
    "\n",
    "* **annealing_time:** Annealing time as defined from s = [0, 1] in microseconds\n",
    "* **normalized_time:** This is s. Set it to < 0 or > 1 if offset is used to allow for a complete annealing schedule. The total time in microseconds will increase accordingly.\n",
    "* **energyscale:** Converts units from D-Wave parameters to unitless parameters (see eq. 65 in the notes)"
   ]
  },
  {
   "cell_type": "code",
   "execution_count": 5,
   "metadata": {},
   "outputs": [],
   "source": [
    "annealing_time = 0.0003\n",
    "normalized_time = [-0.2, 1.2]  # make larger range for complete offsets\n",
    "\n",
    "# assume annealing_time unit in microsecond and energy unit in Ghz\n",
    "def energyscaleconversion(annealing_time):\n",
    "    return annealing_time * 1000.0 * (2.0 * np.pi)\n",
    "\n",
    "energyscale = energyscaleconversion(annealing_time)\n",
    "ising_params = {\"Jij\": Jij, \"hi\": hi, \"c\": c, \"energyscale\": energyscale}"
   ]
  },
  {
   "cell_type": "markdown",
   "metadata": {},
   "source": [
    "## Anneal curve specific parameters"
   ]
  },
  {
   "cell_type": "markdown",
   "metadata": {},
   "source": [
    "Parameters which specify how the anneal curve is realized:\n",
    "\n",
    "* **offset:** This is a string argument to the fcn method of the class AnnealOffset in qlp.mds.mds_qlpdb. Define your own anneal offset routine here or call\n",
    "an existing one. E-mail me if you need more explanation.\n",
    "* **offset_min, offset_range:** Argument to AnnealOffset class. Specify offset boundaries and are set later in a loop.\n",
    "* **anneal_curve:** The realized curve. Currently implemented are linear, logistic and d-wave.\n",
    "* **fill_value:** If normalized_time is extended beyond (0, 1), this option decides whether to extrapolate the anneal schedule, or truncate it at the nearest value."
   ]
  },
  {
   "cell_type": "code",
   "execution_count": 6,
   "metadata": {},
   "outputs": [],
   "source": [
    "offset = \"negbinary\"\n",
    "anneal_curve = \"linear\"\n",
    "fill_value = \"truncate\""
   ]
  },
  {
   "cell_type": "markdown",
   "metadata": {},
   "source": [
    "## Parameters for numerical solve of ODE"
   ]
  },
  {
   "cell_type": "markdown",
   "metadata": {},
   "source": [
    "Parameters to solve the ODE. See also `scipy.integrate.solve_ivp`."
   ]
  },
  {
   "cell_type": "code",
   "execution_count": 7,
   "metadata": {},
   "outputs": [],
   "source": [
    "solver_params = dict()\n",
    "solver_params[\"method\"] = \"RK45\"\n",
    "solver_params[\"rtol\"] = 1e-6\n",
    "solver_params[\"atol\"] = 1e-7"
   ]
  },
  {
   "cell_type": "markdown",
   "metadata": {},
   "source": [
    "## System parameters"
   ]
  },
  {
   "cell_type": "markdown",
   "metadata": {},
   "source": [
    "Parameters used to specify the initial conditions of the system:\n",
    "\n",
    "* **pure_tdse:** This is a boolean (True / False) flag and runs the pure state solver.\n",
    "* **mixed_tdse:** This boolean flag runs the mixed state solver.\n",
    "* **temp:** This sets the temperature for the mixed state solver in kelvins.\n",
    "* **initial_wavefunction:** For the pure state solver, the initial wavefunc- tion can be chosen to be the ground state of ∑σx (transverse) or H(0)(real). For the DWave anneal schedule, or when annealing offsets are used without extended annealing times, these two options are not the same. Can be \"true\" or \"transverse\".\n"
   ]
  },
  {
   "cell_type": "code",
   "execution_count": 8,
   "metadata": {},
   "outputs": [],
   "source": [
    "pure_tdse = False\n",
    "mixed_tdse = True\n",
    "temp = 15e-3\n",
    "initial_wavefunction = \"true\""
   ]
  },
  {
   "cell_type": "markdown",
   "metadata": {},
   "source": [
    "## Output parameters"
   ]
  },
  {
   "cell_type": "markdown",
   "metadata": {},
   "source": [
    "Parameters used for visializing results:\n",
    "* **degeneracy_tol:** This sets the numerical tolerance as to when an excited- state is labeled as degenerate to the ground state. This is important for graphs with degenerate ground states.\n",
    "* **debug:** Write more output during computations.\n",
    "* **save_result:** Store results to pickle files. "
   ]
  },
  {
   "cell_type": "code",
   "execution_count": 9,
   "metadata": {},
   "outputs": [],
   "source": [
    "degeneracy_tol = 2e-2\n",
    "debug = False\n",
    "save_result = True"
   ]
  },
  {
   "cell_type": "markdown",
   "metadata": {},
   "source": [
    "# Run computations"
   ]
  },
  {
   "cell_type": "markdown",
   "metadata": {},
   "source": [
    "In this section we run over different anneal time offsets"
   ]
  },
  {
   "cell_type": "code",
   "execution_count": 10,
   "metadata": {
    "scrolled": false
   },
   "outputs": [
    {
     "name": "stdout",
     "output_type": "stream",
     "text": [
      "offset -0.0\n"
     ]
    },
    {
     "data": {
      "image/png": "[encoded data removed]",
      "text/plain": [
       "<Figure size 432x288 with 1 Axes>"
      ]
     },
     "metadata": {
      "needs_background": "light"
     },
     "output_type": "display_data"
    },
    {
     "name": "stdout",
     "output_type": "stream",
     "text": [
      "Final Prob: 0.8700177244716175\n",
      "{'tag': 'NN(3)', 'total_vertices': 3, 'total_edges': 2, 'max_edges': 2, 'adjacency': [[0, 1], [1, 2]], 'adjacency_hash': '5c6af54e077bddcd12076955a2eee364'}\n",
      "END GET GRAPH\n",
      "offset -0.05\n"
     ]
    },
    {
     "data": {
      "image/png": "[encoded data removed]",
      "text/plain": [
       "<Figure size 432x288 with 1 Axes>"
      ]
     },
     "metadata": {
      "needs_background": "light"
     },
     "output_type": "display_data"
    },
    {
     "data": {
      "image/png": "[encoded data removed]",
      "text/plain": [
       "<Figure size 432x288 with 1 Axes>"
      ]
     },
     "metadata": {
      "needs_background": "light"
     },
     "output_type": "display_data"
    },
    {
     "data": {
      "image/png": "[encoded data removed]",
      "text/plain": [
       "<Figure size 432x288 with 1 Axes>"
      ]
     },
     "metadata": {
      "needs_background": "light"
     },
     "output_type": "display_data"
    },
    {
     "name": "stdout",
     "output_type": "stream",
     "text": [
      "Final Prob: 0.9120261498843841\n",
      "{'tag': 'NN(3)', 'total_vertices': 3, 'total_edges': 2, 'max_edges': 2, 'adjacency': [[0, 1], [1, 2]], 'adjacency_hash': '5c6af54e077bddcd12076955a2eee364'}\n",
      "END GET GRAPH\n"
     ]
    },
    {
     "data": {
      "image/png": "[encoded data removed]",
      "text/plain": [
       "<Figure size 432x288 with 1 Axes>"
      ]
     },
     "metadata": {
      "needs_background": "light"
     },
     "output_type": "display_data"
    },
    {
     "data": {
      "image/png": "[encoded data removed]",
      "text/plain": [
       "<Figure size 432x288 with 1 Axes>"
      ]
     },
     "metadata": {
      "needs_background": "light"
     },
     "output_type": "display_data"
    }
   ],
   "source": [
    "# brute force solving time-dependent schrodinger equation to simulate quantum annealing for small systems\n",
    "result = dict()\n",
    "offset_min_list = -0.05 * np.arange(2)\n",
    "\n",
    "for offset_min in offset_min_list:\n",
    "\n",
    "    print(\"offset\", offset_min)\n",
    "    offset_min = offset_min\n",
    "    offset_range = -2 * offset_min\n",
    "\n",
    "    offset_params = {\n",
    "        \"annealing_time\": annealing_time,\n",
    "        \"normalized_time\": normalized_time,\n",
    "        \"offset\": offset,\n",
    "        \"hi_for_offset\": hi_for_offset,\n",
    "        \"offset_min\": offset_min,\n",
    "        \"offset_range\": offset_range,\n",
    "        \"fill_value\": fill_value,\n",
    "        \"anneal_curve\": anneal_curve,\n",
    "    }\n",
    "\n",
    "    # instantiate ode solver\n",
    "    tdse = TDSE(n, ising_params, offset_params, solver_params)\n",
    "\n",
    "    # plot anneal schedule\n",
    "    tdse.AS.plot(normalized_time)\n",
    "\n",
    "    ############################################################\n",
    "    ###### code block for thermal mixed state simultation ######\n",
    "    ############################################################\n",
    "    if mixed_tdse:\n",
    "        # initial density matrix\n",
    "        rho = tdse.init_densitymatrix(temp, initial_wavefunction, debug=debug)\n",
    "\n",
    "        # solve\n",
    "        sol_densitymatrix = tdse.solve_mixed(rho)\n",
    "\n",
    "        # plot entanglement entropy\n",
    "        # this example partion 4 qubits into A:(3,4) and B:(1,2)\n",
    "\n",
    "        # get offset list to get partition for entanglement entropy\n",
    "        nA, indicesA = tdse.find_partition()\n",
    "\n",
    "        reg = 1e-7\n",
    "        # print(ent_entropy(sol_densitymatrix.y[:, 0],n,nA,indicesA,reg))\n",
    "        alls = np.asarray(\n",
    "            [\n",
    "                tdse.ent_entropy(sol_densitymatrix.y[:, i], nA, indicesA, reg)\n",
    "                for i in range(sol_densitymatrix.t.size)\n",
    "            ]\n",
    "        ).real\n",
    "        plt.figure()\n",
    "        plt.plot(sol_densitymatrix.t, alls)\n",
    "        plt.legend([\"ent entropy\"])\n",
    "        plt.title(\"ent entropy\")\n",
    "\n",
    "        # overlap with Ising ground state\n",
    "        gs_idx, Isingenergy, Isingeigv = tdse.ground_state_degeneracy(\n",
    "            tdse.IsingH, degeneracy_tol, debug=debug\n",
    "        )\n",
    "        project = sum(\n",
    "            [np.kron(Isingeigv[:, idx], np.conj(Isingeigv[:, idx])) for idx in gs_idx]\n",
    "        )\n",
    "        prob = np.asarray(\n",
    "            [\n",
    "                np.absolute((np.dot(np.conj(project), sol_densitymatrix.y[:, i])))\n",
    "                for i in range(sol_densitymatrix.t.size)\n",
    "            ]\n",
    "        )\n",
    "        plt.figure()\n",
    "        plt.plot(sol_densitymatrix.t, prob)\n",
    "        print(f\"Final Prob: {prob[-1]}\")\n",
    "\n",
    "        # save result to EspressoDB\n",
    "        wave_params = dict()\n",
    "        wave_params[\"type\"] = \"mixed\"\n",
    "        wave_params[\"temp\"] = temp\n",
    "        wave_params[\"initial_wavefunction\"] = initial_wavefunction\n",
    "        \n",
    "        tdse.summary(\n",
    "            graph_params = graph_params,\n",
    "            penalty = penalty,\n",
    "            ising_params = ising_params,\n",
    "            offset_params = offset_params,\n",
    "            solver_params = solver_params,\n",
    "            wave_params = wave_params,\n",
    "            time = sol_densitymatrix.t,\n",
    "            probability = prob,\n",
    "            nA = nA,\n",
    "            indicesA = indicesA,\n",
    "            entropy = alls,\n",
    "        )\n",
    "        \n",
    "    ############################################################\n",
    "    ###### end of code block for thermal mixed state simultation ######\n",
    "    ############################################################\n",
    "\n",
    "    if pure_tdse:\n",
    "        # Initial wavefunction\n",
    "        y1 = tdse.init_wavefunction(initial_wavefunction)\n",
    "\n",
    "        # solve\n",
    "        sol = tdse.solve_pure(y1, ngrid=2, debug=debug)\n",
    "\n",
    "        # brute force diagonalization Ising hamiltonain\n",
    "        ground_state_idx, energy, eigv = tdse.ground_state_degeneracy(\n",
    "            tdse.IsingH, degeneracy_tol, debug=debug\n",
    "        )\n",
    "\n",
    "        # plot probability overlap with Ising ground state\n",
    "        overlap = np.zeros(sol.t.size)\n",
    "        overlap_annealH = np.zeros(sol.t.size)\n",
    "        degen_number = np.zeros(sol.t.size)\n",
    "        for i, t in enumerate(sol.t):\n",
    "            # overlap with target Hamiltonian ground state\n",
    "            overlap[i] = tdse.calculate_overlap(eigv, sol.y[:, i], ground_state_idx)\n",
    "            # overlap with time-dependent Hamiltonian ground state\n",
    "            annealH_gs_idx, eigval_annealH, eigv_annealH = tdse.ground_state_degeneracy(\n",
    "                tdse.annealingH(t), degeneracy_tol\n",
    "            )\n",
    "            degen_number[i] = len(annealH_gs_idx)\n",
    "            overlap_annealH[i] = tdse.calculate_overlap(\n",
    "                eigv_annealH, sol.y[:, i], annealH_gs_idx\n",
    "            )\n",
    "\n",
    "        if save_result:\n",
    "            with open(\n",
    "                f\"../qlp/mds/tdse/{embed}_{initial_wavefunction}_{offset}_{offset_min}.pickle\",\n",
    "                \"wb\",\n",
    "            ) as file:\n",
    "                rpickle = dict()\n",
    "                rpickle[\"tdse\"] = tdse\n",
    "                rpickle[\"sol\"] = sol\n",
    "                rpickle[\"overlap\"] = overlap\n",
    "                rpickle[\"overlap_annealH\"] = overlap_annealH\n",
    "                rpickle[\"degen_number\"] = degen_number\n",
    "                pickle.dump(rpickle, file)"
   ]
  },
  {
   "cell_type": "code",
   "execution_count": null,
   "metadata": {
    "scrolled": false
   },
   "outputs": [],
   "source": [
    "result = dict()\n",
    "proba = dict()\n",
    "proba_annealH = dict()\n",
    "degen_number = dict()\n",
    "\n",
    "plt.figure(\"prob(s)\")\n",
    "ax = plt.axes()\n",
    "for offset_min in offset_min_list:\n",
    "    with open(\n",
    "        f\"../qlp/mds/tdse/{embed}_{initial_wavefunction}_{offset}_{offset_min}.pickle\",\n",
    "        \"rb\",\n",
    "    ) as file:\n",
    "        rpickle = pickle.load(file)\n",
    "        offset_range = -2 * offset_min\n",
    "        result[offset_range] = rpickle[\"tdse\"]\n",
    "        proba[offset_range] = rpickle[\"overlap\"][-1]\n",
    "        proba_annealH[offset_range] = rpickle[\"overlap_annealH\"][-1]\n",
    "        degen_number[offset_range] = rpickle[\"degen_number\"]\n",
    "    ax.errorbar(x=rpickle[\"sol\"].t, y=rpickle[\"overlap\"], label=offset_range)\n",
    "\n",
    "ax.legend()\n",
    "ax.set_xlabel(\"time s\")\n",
    "ax.set_ylabel(r\"$P= |<\\psi (s) | gnd >|^2$\")\n",
    "plt.title(\"Probability of reaching Ising ground state\")\n",
    "plt.savefig(\"./proba.pdf\")\n",
    "plt.show()\n",
    "\n",
    "plt.figure(\"annealH prob(s)\")\n",
    "ax = plt.axes()\n",
    "for offset_min in offset_min_list:\n",
    "    ax.errorbar(x=rpickle[\"sol\"].t, y=rpickle[\"overlap_annealH\"], label=offset_range)\n",
    "ax.legend()\n",
    "ax.set_xlabel(\"time s\")\n",
    "ax.set_ylabel(r\"$P= |<\\psi (s) | \\psi_0(s) >|^2$\")\n",
    "plt.title(\"Probability of wavefunction in H(s) ground-state\")\n",
    "plt.show()\n",
    "\n",
    "plt.figure(\"degeneracy number\")\n",
    "ax = plt.axes()\n",
    "for offset_min in offset_min_list:\n",
    "    ax.errorbar(x=rpickle[\"sol\"].t, y=rpickle[\"degen_number\"], label=offset_range)\n",
    "ax.legend()\n",
    "ax.set_xlabel(\"time s\")\n",
    "ax.set_ylabel(r\"ground-state degeneracy\")\n",
    "plt.show()\n",
    "\n",
    "plt.figure(\"prob final\")\n",
    "ax = plt.axes()\n",
    "ax.errorbar(x=list(proba.keys()), y=list(proba.values()), marker=\"o\")\n",
    "ax.set_xlabel(\"offset range\")\n",
    "ax.set_ylabel(\"s=1 probability\")\n",
    "plt.title(offset)\n",
    "plt.show()\n",
    "\n",
    "# plot last anneal schedule\n",
    "plt.figure()\n",
    "ax = plt.axes()\n",
    "X = np.linspace(*normalized_time)\n",
    "yA = np.array([tdse.AS.A(Xi) for Xi in X])\n",
    "yB = np.array([tdse.AS.B(Xi) for Xi in X])\n",
    "for qubit in range(len(yA[0])):\n",
    "    ax.errorbar(x=X, y=yA[:, qubit])\n",
    "    ax.errorbar(x=X, y=yB[:, qubit], ls=\"--\")"
   ]
  },
  {
   "cell_type": "code",
   "execution_count": null,
   "metadata": {},
   "outputs": [],
   "source": [
    "# unit conversion\n",
    "# sol.y = [GHz / h]\n",
    "make_dimensionless = 1 / energyscale * 1 / tdse.AS.B(normalized_time[1])[0]\n",
    "\n",
    "fig = plt.figure()\n",
    "ax = plt.axes()\n",
    "num_es = 10\n",
    "gap = dict()\n",
    "for key in result.keys():\n",
    "    x = []\n",
    "    y = {es: [] for es in range(num_es)}\n",
    "    for s in np.linspace(normalized_time[0], normalized_time[1]):\n",
    "        eigval, eigvec = eigh(result[key].annealingH(s))\n",
    "        seigval = (\n",
    "            np.sort(eigval) * make_dimensionless + ising_params[\"c\"] + qubo_constant\n",
    "        )\n",
    "        x.append(s)\n",
    "        for es in y.keys():\n",
    "            y[es].append(seigval[es])\n",
    "    for es in y.keys():\n",
    "        ax.errorbar(x=x, y=y[es])\n",
    "    gap[key] = {es: np.array(y[es]) - np.array(y[0]) for es in y.keys()}\n",
    "plt.draw()\n",
    "plt.show()\n",
    "print(\"ground state energy:\", y[0][-1])\n",
    "print(\"1st ex state energy:\", y[1][-1])\n",
    "eigval, eigvec = eigh(result[key].annealingH(s))\n",
    "print(\"ground state eigvec:\", np.round(eigvec[0]))\n",
    "print(\"1st ex state eigvec:\", np.round(eigvec[1]))"
   ]
  },
  {
   "cell_type": "code",
   "execution_count": null,
   "metadata": {},
   "outputs": [],
   "source": [
    "fig = plt.figure()\n",
    "ax = plt.axes()\n",
    "for key in gap.keys():\n",
    "    for es in gap[key].keys():\n",
    "        ax.errorbar(x=x, y=gap[key][es], label=es)\n",
    "# ax.legend()\n",
    "plt.draw()\n",
    "plt.show()\n",
    "# print(f\"e1-e0 gap[offset_range={min(gap.keys())}][{sum(mask)}]:\", gap[min(gap.keys())][sum(mask)][-1])\n",
    "# print(f\"e2-e0 gap[offset_range={min(gap.keys())}][{sum(mask)+1}]:\", gap[min(gap.keys())][sum(mask)+1][-1])"
   ]
  },
  {
   "cell_type": "code",
   "execution_count": null,
   "metadata": {},
   "outputs": [],
   "source": [
    "mingap = {key: min(gap[key][1]) for key in gap.keys()}\n",
    "plt.figure()\n",
    "ax = plt.axes()\n",
    "x = list(mingap.keys())\n",
    "y = list(mingap.values())\n",
    "ax.errorbar(x=x, y=y, marker=\"o\")\n",
    "plt.draw()\n",
    "plt.show()\n",
    "mingap"
   ]
  },
  {
   "cell_type": "code",
   "execution_count": null,
   "metadata": {},
   "outputs": [],
   "source": []
  },
  {
   "cell_type": "code",
   "execution_count": null,
   "metadata": {},
   "outputs": [],
   "source": []
  }
 ],
 "metadata": {
  "kernelspec": {
   "display_name": "Python 3",
   "language": "python",
   "name": "python3"
  },
  "language_info": {
   "codemirror_mode": {
    "name": "ipython",
    "version": 3
   },
   "file_extension": ".py",
   "mimetype": "text/x-python",
   "name": "python",
   "nbconvert_exporter": "python",
   "pygments_lexer": "ipython3",
   "version": "3.7.4"
  }
 },
 "nbformat": 4,
 "nbformat_minor": 2
}
