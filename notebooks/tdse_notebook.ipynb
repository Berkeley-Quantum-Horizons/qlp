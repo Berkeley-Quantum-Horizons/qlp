{
 "cells": [
  {
   "cell_type": "markdown",
   "metadata": {},
   "source": [
    "# imports"
   ]
  },
  {
   "cell_type": "code",
   "execution_count": 1,
   "metadata": {},
   "outputs": [],
   "source": [
    "from pandas import read_excel\n",
    "import numpy as np\n",
    "from numpy.linalg import eigh\n",
    "import scipy as sp\n",
    "from scipy.integrate import solve_ivp\n",
    "from scipy.interpolate import interp1d\n",
    "import matplotlib.pyplot as plt\n",
    "import matplotlib as mpl\n",
    "\n",
    "mpl.pyplot.ion()\n",
    "%matplotlib inline\n",
    "import pickle\n",
    "\n",
    "from qlp.mds import graph_tools as gt\n",
    "from qlp.mds.qubo import get_mds_qubo\n",
    "from qlp.mds.mds_qlpdb import QUBO_to_Ising, find_offset, AnnealOffset\n",
    "\n",
    "from qlp.tdse import AnnealSchedule, TDSE, embed_qubo_example\n",
    "\n",
    "import networkx as nx\n",
    "from networkx import Graph\n",
    "from networkx.drawing.nx_pylab import draw"
   ]
  },
  {
   "cell_type": "markdown",
   "metadata": {},
   "source": [
    "# Setup"
   ]
  },
  {
   "cell_type": "markdown",
   "metadata": {},
   "source": [
    "## Graph specific parameters "
   ]
  },
  {
   "cell_type": "markdown",
   "metadata": {},
   "source": [
    "Creates a line graph `o-o-o-...-o`"
   ]
  },
  {
   "cell_type": "code",
   "execution_count": 2,
   "metadata": {},
   "outputs": [],
   "source": [
    "nvertices = 2\n",
    "graph, tag = gt.generate_nn_graph(nvertices)\n",
    "directed = False"
   ]
  },
  {
   "cell_type": "markdown",
   "metadata": {},
   "source": [
    "## ILP / QUBO setup"
   ]
  },
  {
   "cell_type": "markdown",
   "metadata": {},
   "source": [
    "Initializes the Qubo for the Minimum Dominating Set problem"
   ]
  },
  {
   "cell_type": "code",
   "execution_count": 3,
   "metadata": {},
   "outputs": [],
   "source": [
    "penalty = 2\n",
    "qubo = get_mds_qubo(\n",
    "    graph, directed=directed, penalty=penalty, triangularize=True, dtype=\"d\"\n",
    ")\n",
    "qubo_constant = penalty * nvertices"
   ]
  },
  {
   "cell_type": "markdown",
   "metadata": {},
   "source": [
    "## Set up ising model"
   ]
  },
  {
   "cell_type": "markdown",
   "metadata": {},
   "source": [
    "Computes the corresponding Ising model parameters for the QUBO\n",
    "\n",
    "**if embed is True:** \n",
    "    This embeds the QUBO into a chimera graph. Currently there is only an explicit result from G(2). I will in the future actually embed with DWave minorminer."
   ]
  },
  {
   "cell_type": "code",
   "execution_count": 20,
   "metadata": {},
   "outputs": [],
   "source": [
    "Jij, hi, c = QUBO_to_Ising(qubo.todense().tolist())\n",
    "\n",
    "embed = False  # nvertices = [2] available\n",
    "if embed:\n",
    "    qubo, embedding = embed_qubo_example(nvertices)\n",
    "    hi_for_offset = np.array(\n",
    "        [\n",
    "            hi[key]\n",
    "            for key in np.sort(list(embedding.keys()))\n",
    "            for count in range(len(embedding[key]))\n",
    "        ]\n",
    "    )\n",
    "    Jij, hi, c = QUBO_to_Ising(qubo.todense().tolist())\n",
    "else:\n",
    "    \n",
    "    hi_for_offset = hi\n",
    "    \n",
    "n = len(qubo.todense())"
   ]
  },
  {
   "cell_type": "markdown",
   "metadata": {},
   "source": [
    "## Anneal specific parameters"
   ]
  },
  {
   "cell_type": "markdown",
   "metadata": {},
   "source": [
    "Parameters which are related to converting physical unites to unitless units\n",
    "\n",
    "* **annealing_time:** Annealing time as defined from s = [0, 1] in microseconds\n",
    "* **normalized_time:** This is s. Set it to < 0 or > 1 if offset is used to allow for a complete annealing schedule. The total time in microseconds will increase accordingly.\n",
    "* **energyscale:** Converts units from D-Wave parameters to unitless parameters (see eq. 65 in the notes)"
   ]
  },
  {
   "cell_type": "code",
   "execution_count": 21,
   "metadata": {},
   "outputs": [],
   "source": [
    "annealing_time = 0.0003\n",
    "normalized_time = [-0.2, 1.2]  # make larger range for complete offsets\n",
    "\n",
    "# assume annealing_time unit in microsecond and energy unit in Ghz\n",
    "def energyscaleconversion(annealing_time):\n",
    "    return annealing_time * 1000.0 * (2.0 * np.pi)\n",
    "\n",
    "energyscale = energyscaleconversion(annealing_time)\n",
    "ising_params = {\"Jij\": Jij, \"hi\": hi, \"c\": c, \"energyscale\": energyscale}"
   ]
  },
  {
   "cell_type": "markdown",
   "metadata": {},
   "source": [
    "## Anneal curve specific parameters"
   ]
  },
  {
   "cell_type": "markdown",
   "metadata": {},
   "source": [
    "Parameters which specify how the anneal curve is realized:\n",
    "\n",
    "* **offset:** This is a string argument to the fcn method of the class AnnealOffset in qlp.mds.mds_qlpdb. Define your own anneal offset routine here or call\n",
    "an existing one. E-mail me if you need more explanation.\n",
    "* **offset_min, offset_range:** Argument to AnnealOffset class. Specify offset boundaries and are set later in a loop.\n",
    "* **anneal_curve:** The realized curve. Currently implemented are linear, logistic and d-wave.\n",
    "* **fill_value:** If normalized_time is extended beyond (0, 1), this option decides whether to extrapolate the anneal schedule, or truncate it at the nearest value."
   ]
  },
  {
   "cell_type": "code",
   "execution_count": 22,
   "metadata": {},
   "outputs": [],
   "source": [
    "offset = \"negbinary\"\n",
    "anneal_curve = \"linear\"\n",
    "fill_value = \"truncate\""
   ]
  },
  {
   "cell_type": "markdown",
   "metadata": {},
   "source": [
    "## Parameters for numerical solve of ODE"
   ]
  },
  {
   "cell_type": "markdown",
   "metadata": {},
   "source": [
    "Parameters to solve the ODE. See also `scipy.integrate.solve_ivp`."
   ]
  },
  {
   "cell_type": "code",
   "execution_count": 23,
   "metadata": {},
   "outputs": [],
   "source": [
    "solver_params = dict()\n",
    "solver_params[\"method\"] = \"RK45\"\n",
    "solver_params[\"rtol\"] = 1e-6\n",
    "solver_params[\"atol\"] = 1e-7"
   ]
  },
  {
   "cell_type": "markdown",
   "metadata": {},
   "source": [
    "## System parameters"
   ]
  },
  {
   "cell_type": "markdown",
   "metadata": {},
   "source": [
    "Parameters used to specify the initial conditions of the system:\n",
    "\n",
    "* **pure_tdse:** This is a boolean (True / False) flag and runs the pure state solver.\n",
    "* **mixed_tdse:** This boolean flag runs the mixed state solver.\n",
    "* **temp:** This sets the temperature for the mixed state solver in kelvins.\n",
    "* **initial_wavefunction:** For the pure state solver, the initial wavefunc- tion can be chosen to be the ground state of ∑σx (transverse) or H(0)(real). For the DWave anneal schedule, or when annealing offsets are used without extended annealing times, these two options are not the same. Can be \"true\" or \"transverse\".\n"
   ]
  },
  {
   "cell_type": "code",
   "execution_count": 24,
   "metadata": {},
   "outputs": [],
   "source": [
    "pure_tdse = False\n",
    "mixed_tdse = True\n",
    "temp = 15e-3\n",
    "initial_wavefunction = \"true\" "
   ]
  },
  {
   "cell_type": "markdown",
   "metadata": {},
   "source": [
    "## Output parameters"
   ]
  },
  {
   "cell_type": "markdown",
   "metadata": {},
   "source": [
    "Parameters used for visializing results:\n",
    "* **degeneracy_tol:** This sets the numerical tolerance as to when an excited- state is labeled as degenerate to the ground state. This is important for graphs with degenerate ground states.\n",
    "* **debug:** Write more output during computations.\n",
    "* **save_result:** Store results to pickle files. "
   ]
  },
  {
   "cell_type": "code",
   "execution_count": 25,
   "metadata": {},
   "outputs": [],
   "source": [
    "degeneracy_tol = 2e-2\n",
    "debug = True\n",
    "save_result = True"
   ]
  },
  {
   "cell_type": "markdown",
   "metadata": {},
   "source": [
    "# Run computations"
   ]
  },
  {
   "cell_type": "markdown",
   "metadata": {},
   "source": [
    "In this section we run over different anneal time offsets"
   ]
  },
  {
   "cell_type": "code",
   "execution_count": 26,
   "metadata": {
    "scrolled": false
   },
   "outputs": [
    {
     "name": "stdout",
     "output_type": "stream",
     "text": [
      "-0.0\n"
     ]
    },
    {
     "data": {
      "image/png": "[encoded data removed]",
      "text/plain": [
       "<Figure size 432x288 with 1 Axes>"
      ]
     },
     "metadata": {
      "needs_background": "light"
     },
     "output_type": "display_data"
    },
    {
     "name": "stdout",
     "output_type": "stream",
     "text": [
      "dE [  0.          44.7129185   44.7129185   44.7129185   44.7129185\n",
      "  44.7129185   89.42583701  89.42583701  89.42583701  89.42583701\n",
      "  89.42583701  89.42583701  89.42583701  89.42583701  89.42583701\n",
      "  89.42583701 134.13875551 134.13875551 134.13875551 134.13875551\n",
      " 134.13875551 134.13875551 134.13875551 134.13875551 134.13875551\n",
      " 134.13875551 178.85167402 178.85167402 178.85167402 178.85167402\n",
      " 178.85167402 223.56459252]\n",
      "pr [1.00000000e+000 7.41929923e-063 7.41929923e-063 7.41929923e-063\n",
      " 7.41929923e-063 7.41929923e-063 5.50460011e-125 5.50460011e-125\n",
      " 5.50460011e-125 5.50460011e-125 5.50460011e-125 5.50460011e-125\n",
      " 5.50460011e-125 5.50460011e-125 5.50460011e-125 5.50460011e-125\n",
      " 4.08402754e-187 4.08402754e-187 4.08402754e-187 4.08402754e-187\n",
      " 4.08402754e-187 4.08402754e-187 4.08402754e-187 4.08402754e-187\n",
      " 4.08402754e-187 4.08402754e-187 3.03006224e-249 3.03006224e-249\n",
      " 3.03006224e-249 3.03006224e-249 3.03006224e-249 2.24809385e-311] total 1.0\n",
      "Num. degenerate states @ s=1.2: 2\n",
      "-0.05\n"
     ]
    },
    {
     "data": {
      "image/png": "[encoded data removed]",
      "text/plain": [
       "<Figure size 432x288 with 1 Axes>"
      ]
     },
     "metadata": {
      "needs_background": "light"
     },
     "output_type": "display_data"
    },
    {
     "data": {
      "text/plain": [
       "<Figure size 432x288 with 0 Axes>"
      ]
     },
     "metadata": {},
     "output_type": "display_data"
    },
    {
     "data": {
      "image/png": "[encoded data removed]",
      "text/plain": [
       "<Figure size 432x288 with 1 Axes>"
      ]
     },
     "metadata": {
      "needs_background": "light"
     },
     "output_type": "display_data"
    },
    {
     "data": {
      "image/png": "[encoded data removed]",
      "text/plain": [
       "<Figure size 432x288 with 1 Axes>"
      ]
     },
     "metadata": {
      "needs_background": "light"
     },
     "output_type": "display_data"
    },
    {
     "name": "stdout",
     "output_type": "stream",
     "text": [
      "dE [  0.          44.7129185   44.7129185   44.7129185   44.7129185\n",
      "  44.7129185   89.42583701  89.42583701  89.42583701  89.42583701\n",
      "  89.42583701  89.42583701  89.42583701  89.42583701  89.42583701\n",
      "  89.42583701 134.13875551 134.13875551 134.13875551 134.13875551\n",
      " 134.13875551 134.13875551 134.13875551 134.13875551 134.13875551\n",
      " 134.13875551 178.85167402 178.85167402 178.85167402 178.85167402\n",
      " 178.85167402 223.56459252]\n",
      "pr [1.00000000e+000 7.41929923e-063 7.41929923e-063 7.41929923e-063\n",
      " 7.41929923e-063 7.41929923e-063 5.50460011e-125 5.50460011e-125\n",
      " 5.50460011e-125 5.50460011e-125 5.50460011e-125 5.50460011e-125\n",
      " 5.50460011e-125 5.50460011e-125 5.50460011e-125 5.50460011e-125\n",
      " 4.08402754e-187 4.08402754e-187 4.08402754e-187 4.08402754e-187\n",
      " 4.08402754e-187 4.08402754e-187 4.08402754e-187 4.08402754e-187\n",
      " 4.08402754e-187 4.08402754e-187 3.03006224e-249 3.03006224e-249\n",
      " 3.03006224e-249 3.03006224e-249 3.03006224e-249 2.24809385e-311] total 1.0\n",
      "Num. degenerate states @ s=1.2: 2\n"
     ]
    },
    {
     "data": {
      "image/png": "[encoded data removed]",
      "text/plain": [
       "<Figure size 432x288 with 1 Axes>"
      ]
     },
     "metadata": {
      "needs_background": "light"
     },
     "output_type": "display_data"
    },
    {
     "data": {
      "text/plain": [
       "<Figure size 432x288 with 0 Axes>"
      ]
     },
     "metadata": {},
     "output_type": "display_data"
    },
    {
     "data": {
      "image/png": "[encoded data removed]",
      "text/plain": [
       "<Figure size 432x288 with 1 Axes>"
      ]
     },
     "metadata": {
      "needs_background": "light"
     },
     "output_type": "display_data"
    }
   ],
   "source": [
    "# brute force solving time-dependent schrodinger equation to simulate quantum annealing for small systems\n",
    "result = dict()\n",
    "offset_min_list = -0.05 * np.arange(2)\n",
    "\n",
    "for offset_min in offset_min_list:\n",
    "\n",
    "    print(offset_min)\n",
    "    offset_min = offset_min\n",
    "    offset_range = -2 * offset_min\n",
    "\n",
    "    offset_params = {\n",
    "        \"normalized_time\": normalized_time,\n",
    "        \"offset\": offset,\n",
    "        \"hi_for_offset\": hi_for_offset,\n",
    "        \"offset_min\": offset_min,\n",
    "        \"offset_range\": offset_range,\n",
    "        \"fill_value\": fill_value,\n",
    "        \"anneal_curve\": anneal_curve,\n",
    "    }\n",
    "\n",
    "    # instantiate ode solver\n",
    "    tdse = TDSE(n, ising_params, offset_params, solver_params)\n",
    "\n",
    "    # plot anneal schedule\n",
    "    tdse.AS.plot(normalized_time)\n",
    "\n",
    "    ############################################################\n",
    "    ###### code block for thermal mixed state simultation ######\n",
    "    ############################################################\n",
    "    if mixed_tdse:\n",
    "        # initial density matrix\n",
    "        rho = tdse.init_densitymatrix(temp, initial_wavefunction, debug=debug)\n",
    "\n",
    "        # solve\n",
    "        sol_densitymatrix = tdse.solve_mixed(rho)\n",
    "\n",
    "        # overlap with Ising ground state\n",
    "        gs_idx, Isingenergy, Isingeigv = tdse.ground_state_degeneracy(\n",
    "            tdse.IsingH, degeneracy_tol, debug=debug\n",
    "        )\n",
    "        project = sum(\n",
    "            [np.kron(Isingeigv[:, idx], np.conj(Isingeigv[:, idx])) for idx in gs_idx]\n",
    "        )\n",
    "        prob = np.asarray(\n",
    "            [\n",
    "                np.absolute((np.dot(np.conj(project), sol_densitymatrix.y[:, i])))\n",
    "                for i in range(sol_densitymatrix.t.size)\n",
    "            ]\n",
    "        )\n",
    "        plt.plot(sol_densitymatrix.t, prob)\n",
    "\n",
    "        # correlation functions\n",
    "        xgrid = np.arange(n)\n",
    "        # print(qubo.todense())\n",
    "\n",
    "        plt.figure()\n",
    "        data = np.asarray(\n",
    "            [\n",
    "                [\n",
    "                    np.absolute(tdse.cZ(t, xgrid[x], sol_densitymatrix))\n",
    "                    for t in range(sol_densitymatrix.t.size)\n",
    "                ]\n",
    "                for x in range(n)\n",
    "            ]\n",
    "        )\n",
    "        #fig = plt.figure()\n",
    "        #ax = fig.add_subplot(111)\n",
    "        #pos = ax.imshow(data)\n",
    "        #ax.set_aspect(\"auto\")\n",
    "        #ax.set_title(r\"$|< Z_i >|$\")\n",
    "        #ax.set_xlabel(r\"$t_i$\")\n",
    "        #ax.set_ylabel(r\"$x_i$\")\n",
    "        #fig.colorbar(pos)\n",
    "\n",
    "        # how correlated with sigma_z\n",
    "        plt.figure(\"Z_i\")\n",
    "        ax = plt.axes([0.15, 0.15, 0.8, 0.8])\n",
    "        for idx, datai in enumerate(data):\n",
    "            ax.errorbar(x=sol_densitymatrix.t, y=datai, label=f\"qubit {idx}\")\n",
    "        ax.set_title(r\"$|< Z_i >|$\")\n",
    "        ax.set_xlabel(r\"$t_i$\")\n",
    "        ax.set_ylabel(r\"$x_i$\")\n",
    "        \n",
    "        \"\"\"\n",
    "        plt.figure()\n",
    "        data = np.asarray(\n",
    "            [\n",
    "                [\n",
    "                    np.absolute(tdse.cZZ(t, xj, xgrid[x], sol_densitymatrix))\n",
    "                    for t in range(sol_densitymatrix.t.size)\n",
    "                ]\n",
    "                for x in range(n)\n",
    "            ]\n",
    "        )\n",
    "        fig = plt.figure()\n",
    "        ax = fig.add_subplot(111)\n",
    "        pos = ax.imshow(data)\n",
    "        ax.set_aspect(\"auto\")\n",
    "        ax.set_title(r\"$|< Z_i Z_j >|$\")\n",
    "        ax.set_xlabel(r\"$t_i$\")\n",
    "        ax.set_ylabel(r\"$x_i$\")\n",
    "        fig.colorbar(pos)\n",
    "\n",
    "        plt.figure()\n",
    "        data = np.asarray(\n",
    "            [\n",
    "                [\n",
    "                    np.absolute(tdse.cZZd(t, xgrid[x], xj, sol_densitymatrix))\n",
    "                    for t in range(sol_densitymatrix.t.size)\n",
    "                ]\n",
    "                for x in range(n)\n",
    "            ]\n",
    "        )\n",
    "        fig = plt.figure()\n",
    "        ax = fig.add_subplot(111)\n",
    "        pos = ax.imshow(data)\n",
    "        ax.set_aspect(\"auto\")\n",
    "        ax.set_title(r\"$|< Z_i Z_j>-< Z_i >< Z_j >|$\")\n",
    "        ax.set_xlabel(r\"$t_i$\")\n",
    "        ax.set_ylabel(r\"$x_i$\")\n",
    "        fig.colorbar(pos)\n",
    "        \n",
    "        \n",
    "        plt.figure()\n",
    "        t = 0\n",
    "        data = np.asarray(\n",
    "            [\n",
    "                [\n",
    "                    np.absolute(tdse.cZZd(t, xgrid[xi], xgrid[xj], sol_densitymatrix))\n",
    "                    for xi in range(n)\n",
    "                ]\n",
    "                for xj in range(n)\n",
    "            ]\n",
    "        )\n",
    "        fig = plt.figure()\n",
    "        ax = fig.add_subplot(111)\n",
    "        pos = ax.imshow(data)\n",
    "        ax.set_aspect(\"auto\")\n",
    "        ax.set_title(r\"$|< Z_i Z_j>-< Z_i >< Z_j >|$, initial\")\n",
    "        ax.set_xlabel(r\"$x_j$\")\n",
    "        ax.set_ylabel(r\"$x_i$\")\n",
    "        fig.colorbar(pos)\n",
    "\n",
    "        plt.figure()\n",
    "        t = sol_densitymatrix.t.size - 1\n",
    "        data = np.asarray(\n",
    "            [\n",
    "                [\n",
    "                    np.absolute(tdse.cZZd(t, xgrid[xi], xgrid[xj], sol_densitymatrix))\n",
    "                    for xi in range(n)\n",
    "                ]\n",
    "                for xj in range(n)\n",
    "            ]\n",
    "        )\n",
    "        fig = plt.figure()\n",
    "        ax = fig.add_subplot(111)\n",
    "        pos = ax.imshow(data)\n",
    "        ax.set_aspect(\"auto\")\n",
    "        ax.set_title(r\"$|< Z_i Z_j>-< Z_i >< Z_j >|$, final\")\n",
    "        ax.set_xlabel(r\"$x_j$\")\n",
    "        ax.set_ylabel(r\"$x_i$\")\n",
    "        fig.colorbar(pos)\n",
    "        \n",
    "        \n",
    "        # two time correlation functions\n",
    "        # need to solve again using different initial density matrix...\n",
    "\n",
    "        # choose one xj... if you want other xj you have to do this for each xj\n",
    "        tj = 0\n",
    "        xj = 0\n",
    "        rho2 = np.dot(tdse.FockZ[xj], rho.reshape(2 ** n, 2 ** n))\n",
    "        sol_densitymatrixt2 = tdse.solve_mixed(rho2.reshape(4 ** n))\n",
    "\n",
    "        plt.figure()\n",
    "        data = np.asarray(\n",
    "            [\n",
    "                [\n",
    "                    np.absolute(tdse.cZZt2(t, xgrid[x], sol_densitymatrixt2))\n",
    "                    for t in range(sol_densitymatrix.t.size)\n",
    "                ]\n",
    "                for x in range(n)\n",
    "            ]\n",
    "        )\n",
    "        fig = plt.figure()\n",
    "        ax = fig.add_subplot(111)\n",
    "        pos = ax.imshow(data)\n",
    "        ax.set_aspect(\"auto\")\n",
    "        ax.set_title(r\"$ double time |< Z_i(t) Z_j>|$\")\n",
    "        ax.set_xlabel(r\"$t_i$\")\n",
    "        ax.set_ylabel(r\"$x_i$\")\n",
    "        fig.colorbar(pos)\n",
    "\n",
    "        plt.figure()\n",
    "        data = np.asarray(\n",
    "            [\n",
    "                [\n",
    "                    np.absolute(\n",
    "                        tdse.cZZt2d(\n",
    "                            t, xgrid[x], tj, xj, sol_densitymatrix, sol_densitymatrixt2\n",
    "                        )\n",
    "                    )\n",
    "                    for t in range(sol_densitymatrix.t.size)\n",
    "                ]\n",
    "                for x in range(n)\n",
    "            ]\n",
    "        )\n",
    "        fig = plt.figure()\n",
    "        ax = fig.add_subplot(111)\n",
    "        pos = ax.imshow(data)\n",
    "        ax.set_aspect(\"auto\")\n",
    "        ax.set_title(r\"$ double time |< Z_i(t) Z_j>-< Z_i(t) >< Z_j >|$\")\n",
    "        ax.set_xlabel(r\"$t_i$\")\n",
    "        ax.set_ylabel(r\"$x_i$\")\n",
    "        fig.colorbar(pos)\n",
    "\n",
    "        \"\"\"\n",
    "        # end correlation functions\n",
    "\n",
    "    ############################################################\n",
    "    ###### end of code block for thermal mixed state simultation ######\n",
    "    ############################################################\n",
    "\n",
    "    if pure_tdse:\n",
    "        # Initial wavefunction\n",
    "        y1 = tdse.init_wavefunction(initial_wavefunction)\n",
    "\n",
    "        # solve\n",
    "        sol = tdse.solve_pure(y1, ngrid=2, debug=debug)\n",
    "\n",
    "        # brute force diagonalization Ising hamiltonain\n",
    "        ground_state_idx, energy, eigv = tdse.ground_state_degeneracy(\n",
    "            tdse.IsingH, degeneracy_tol, debug=debug\n",
    "        )\n",
    "\n",
    "        # plot probability overlap with Ising ground state\n",
    "        overlap = np.zeros(sol.t.size)\n",
    "        overlap_annealH = np.zeros(sol.t.size)\n",
    "        degen_number = np.zeros(sol.t.size)\n",
    "        for i, t in enumerate(sol.t):\n",
    "            # overlap with target Hamiltonian ground state\n",
    "            overlap[i] = tdse.calculate_overlap(eigv, sol.y[:, i], ground_state_idx)\n",
    "            # overlap with time-dependent Hamiltonian ground state\n",
    "            annealH_gs_idx, eigval_annealH, eigv_annealH = tdse.ground_state_degeneracy(\n",
    "                tdse.annealingH(t), degeneracy_tol\n",
    "            )\n",
    "            degen_number[i] = len(annealH_gs_idx)\n",
    "            overlap_annealH[i] = tdse.calculate_overlap(\n",
    "                eigv_annealH, sol.y[:, i], annealH_gs_idx\n",
    "            )\n",
    "\n",
    "        if save_result:\n",
    "            with open(\n",
    "                f\"../qlp/mds/tdse/{embed}_{initial_wavefunction}_{offset}_{offset_min}.pickle\",\n",
    "                \"wb\",\n",
    "            ) as file:\n",
    "                rpickle = dict()\n",
    "                rpickle[\"tdse\"] = tdse\n",
    "                rpickle[\"sol\"] = sol\n",
    "                rpickle[\"overlap\"] = overlap\n",
    "                rpickle[\"overlap_annealH\"] = overlap_annealH\n",
    "                rpickle[\"degen_number\"] = degen_number\n",
    "                pickle.dump(rpickle, file)"
   ]
  },
  {
   "cell_type": "code",
   "execution_count": 11,
   "metadata": {
    "scrolled": false
   },
   "outputs": [
    {
     "ename": "FileNotFoundError",
     "evalue": "[Errno 2] No such file or directory: '../qlp/mds/tdse/True_true_negbinary_-0.0.pickle'",
     "output_type": "error",
     "traceback": [
      "\u001b[0;31m--------------------\u001b[0m",
      "\u001b[0;31mFileNotFoundError\u001b[0mTraceback (most recent call last)",
      "\u001b[0;32m<ipython-input-11-cabe445030fc>\u001b[0m in \u001b[0;36m<module>\u001b[0;34m\u001b[0m\n\u001b[1;32m      9\u001b[0m     with open(\n\u001b[1;32m     10\u001b[0m         \u001b[0;34mf\"../qlp/mds/tdse/{embed}_{initial_wavefunction}_{offset}_{offset_min}.pickle\"\u001b[0m\u001b[0;34m,\u001b[0m\u001b[0;34m\u001b[0m\u001b[0;34m\u001b[0m\u001b[0m\n\u001b[0;32m---> 11\u001b[0;31m         \u001b[0;34m\"rb\"\u001b[0m\u001b[0;34m,\u001b[0m\u001b[0;34m\u001b[0m\u001b[0;34m\u001b[0m\u001b[0m\n\u001b[0m\u001b[1;32m     12\u001b[0m     ) as file:\n\u001b[1;32m     13\u001b[0m         \u001b[0mrpickle\u001b[0m \u001b[0;34m=\u001b[0m \u001b[0mpickle\u001b[0m\u001b[0;34m.\u001b[0m\u001b[0mload\u001b[0m\u001b[0;34m(\u001b[0m\u001b[0mfile\u001b[0m\u001b[0;34m)\u001b[0m\u001b[0;34m\u001b[0m\u001b[0;34m\u001b[0m\u001b[0m\n",
      "\u001b[0;31mFileNotFoundError\u001b[0m: [Errno 2] No such file or directory: '../qlp/mds/tdse/True_true_negbinary_-0.0.pickle'"
     ]
    },
    {
     "data": {
      "image/png": "[encoded data removed]",
      "text/plain": [
       "<Figure size 432x288 with 1 Axes>"
      ]
     },
     "metadata": {
      "needs_background": "light"
     },
     "output_type": "display_data"
    }
   ],
   "source": [
    "result = dict()\n",
    "proba = dict()\n",
    "proba_annealH = dict()\n",
    "degen_number = dict()\n",
    "\n",
    "plt.figure(\"prob(s)\")\n",
    "ax = plt.axes()\n",
    "for offset_min in offset_min_list:\n",
    "    with open(\n",
    "        f\"../qlp/mds/tdse/{embed}_{initial_wavefunction}_{offset}_{offset_min}.pickle\",\n",
    "        \"rb\",\n",
    "    ) as file:\n",
    "        rpickle = pickle.load(file)\n",
    "        offset_range = -2 * offset_min\n",
    "        result[offset_range] = rpickle[\"tdse\"]\n",
    "        proba[offset_range] = rpickle[\"overlap\"][-1]\n",
    "        proba_annealH[offset_range] = rpickle[\"overlap_annealH\"][-1]\n",
    "        degen_number[offset_range] = rpickle[\"degen_number\"]\n",
    "    ax.errorbar(x=rpickle[\"sol\"].t, y=rpickle[\"overlap\"], label=offset_range)\n",
    "\n",
    "ax.legend()\n",
    "ax.set_xlabel(\"time s\")\n",
    "ax.set_ylabel(r\"$P= |<\\psi (s) | gnd >|^2$\")\n",
    "plt.title(\"Probability of reaching Ising ground state\")\n",
    "plt.savefig(\"./proba.pdf\")\n",
    "plt.show()\n",
    "\n",
    "plt.figure(\"annealH prob(s)\")\n",
    "ax = plt.axes()\n",
    "for offset_min in offset_min_list:\n",
    "    ax.errorbar(x=rpickle[\"sol\"].t, y=rpickle[\"overlap_annealH\"], label=offset_range)\n",
    "ax.legend()\n",
    "ax.set_xlabel(\"time s\")\n",
    "ax.set_ylabel(r\"$P= |<\\psi (s) | \\psi_0(s) >|^2$\")\n",
    "plt.title(\"Probability of wavefunction in H(s) ground-state\")\n",
    "plt.show()\n",
    "\n",
    "plt.figure(\"degeneracy number\")\n",
    "ax = plt.axes()\n",
    "for offset_min in offset_min_list:\n",
    "    ax.errorbar(x=rpickle[\"sol\"].t, y=rpickle[\"degen_number\"], label=offset_range)\n",
    "ax.legend()\n",
    "ax.set_xlabel(\"time s\")\n",
    "ax.set_ylabel(r\"ground-state degeneracy\")\n",
    "plt.show()\n",
    "\n",
    "plt.figure(\"prob final\")\n",
    "ax = plt.axes()\n",
    "ax.errorbar(x=list(proba.keys()), y=list(proba.values()), marker=\"o\")\n",
    "ax.set_xlabel(\"offset range\")\n",
    "ax.set_ylabel(\"s=1 probability\")\n",
    "plt.title(offset)\n",
    "plt.show()\n",
    "\n",
    "# plot last anneal schedule\n",
    "plt.figure()\n",
    "ax = plt.axes()\n",
    "X = np.linspace(*normalized_time)\n",
    "yA = np.array([tdse.AS.A(Xi) for Xi in X])\n",
    "yB = np.array([tdse.AS.B(Xi) for Xi in X])\n",
    "for qubit in range(len(yA[0])):\n",
    "    ax.errorbar(x=X, y=yA[:, qubit])\n",
    "    ax.errorbar(x=X, y=yB[:, qubit], ls=\"--\")"
   ]
  },
  {
   "cell_type": "code",
   "execution_count": null,
   "metadata": {},
   "outputs": [],
   "source": [
    "# unit conversion\n",
    "# sol.y = [GHz / h]\n",
    "make_dimensionless = 1 / energyscale * 1 / tdse.AS.B(normalized_time[1])[0]\n",
    "\n",
    "fig = plt.figure()\n",
    "ax = plt.axes()\n",
    "num_es = 10\n",
    "gap = dict()\n",
    "for key in result.keys():\n",
    "    x = []\n",
    "    y = {es: [] for es in range(num_es)}\n",
    "    for s in np.linspace(normalized_time[0], normalized_time[1]):\n",
    "        eigval, eigvec = eigh(result[key].annealingH(s))\n",
    "        seigval = (\n",
    "            np.sort(eigval) * make_dimensionless + ising_params[\"c\"] + qubo_constant\n",
    "        )\n",
    "        x.append(s)\n",
    "        for es in y.keys():\n",
    "            y[es].append(seigval[es])\n",
    "    for es in y.keys():\n",
    "        ax.errorbar(x=x, y=y[es])\n",
    "    gap[key] = {es: np.array(y[es]) - np.array(y[0]) for es in y.keys()}\n",
    "plt.draw()\n",
    "plt.show()\n",
    "print(\"ground state energy:\", y[0][-1])\n",
    "print(\"1st ex state energy:\", y[1][-1])\n",
    "eigval, eigvec = eigh(result[key].annealingH(s))\n",
    "print(\"ground state eigvec:\", np.round(eigvec[0]))\n",
    "print(\"1st ex state eigvec:\", np.round(eigvec[1]))"
   ]
  },
  {
   "cell_type": "code",
   "execution_count": null,
   "metadata": {},
   "outputs": [],
   "source": [
    "fig = plt.figure()\n",
    "ax = plt.axes()\n",
    "for key in gap.keys():\n",
    "    for es in gap[key].keys():\n",
    "        ax.errorbar(x=x, y=gap[key][es], label=es)\n",
    "# ax.legend()\n",
    "plt.draw()\n",
    "plt.show()\n",
    "# print(f\"e1-e0 gap[offset_range={min(gap.keys())}][{sum(mask)}]:\", gap[min(gap.keys())][sum(mask)][-1])\n",
    "# print(f\"e2-e0 gap[offset_range={min(gap.keys())}][{sum(mask)+1}]:\", gap[min(gap.keys())][sum(mask)+1][-1])"
   ]
  },
  {
   "cell_type": "code",
   "execution_count": null,
   "metadata": {},
   "outputs": [],
   "source": [
    "mingap = {key: min(gap[key][1]) for key in gap.keys()}\n",
    "plt.figure()\n",
    "ax = plt.axes()\n",
    "x = list(mingap.keys())\n",
    "y = list(mingap.values())\n",
    "ax.errorbar(x=x, y=y, marker=\"o\")\n",
    "plt.draw()\n",
    "plt.show()\n",
    "mingap"
   ]
  },
  {
   "cell_type": "code",
   "execution_count": null,
   "metadata": {},
   "outputs": [],
   "source": []
  }
 ],
 "metadata": {
  "kernelspec": {
   "display_name": "quantum_linear_programming",
   "language": "python",
   "name": "quantum_linear_programming"
  },
  "language_info": {
   "codemirror_mode": {
    "name": "ipython",
    "version": 3
   },
   "file_extension": ".py",
   "mimetype": "text/x-python",
   "name": "python",
   "nbconvert_exporter": "python",
   "pygments_lexer": "ipython3",
   "version": "3.7.4"
  }
 },
 "nbformat": 4,
 "nbformat_minor": 2
}
