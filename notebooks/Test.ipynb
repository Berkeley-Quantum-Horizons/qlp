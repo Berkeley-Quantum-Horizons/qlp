{
 "cells": [
  {
   "cell_type": "code",
   "execution_count": null,
   "metadata": {},
   "outputs": [],
   "source": [
    "import matplotlib.pylab as plt\n",
    "import seaborn as sns\n",
    "import os\n",
    "\n",
    "os.environ[\"DJANGO_ALLOW_ASYNC_UNSAFE\"] = \"true\"\n",
    "import numpy as np\n",
    "import pandas as pd\n",
    "\n",
    "from qlp.mds import graph_tools as gt\n",
    "from qlp.mds.qubo import get_mds_qubo\n",
    "from qlp.mds.solver import classical_search\n",
    "from qlp.mds.mds_qlpdb import (\n",
    "    graph_summary,\n",
    "    experiment_summary,\n",
    "    data_summary,\n",
    "    insert_result,\n",
    "    QUBO_to_Ising,\n",
    "    retry_embedding,\n",
    "    find_offset,\n",
    "    AnnealOffset,\n",
    ")\n",
    "\n",
    "import networkx as nx\n",
    "from networkx import Graph\n",
    "from networkx.drawing.nx_pylab import draw\n",
    "from networkx.algorithms.approximation import min_weighted_dominating_set\n",
    "from networkx.algorithms.dominating import dominating_set\n",
    "\n",
    "from dwave.system.samplers import DWaveSampler\n",
    "from minorminer import find_embedding\n",
    "from dwave.system.composites import EmbeddingComposite, FixedEmbeddingComposite\n",
    "\n",
    "from math import factorial\n",
    "from qlp.mds.graph_tools import generate_nn_graph"
   ]
  },
  {
   "cell_type": "code",
   "execution_count": 99,
   "metadata": {
    "scrolled": false
   },
   "outputs": [],
   "source": [
    "\n",
    "def generate_limited_corona_graph(k: int, n: int):\n",
    "    \"\"\"Returns edges of a n-shortcut 3k-ring graph with broken rotational symmetry.\n",
    "\n",
    "    Has unique ground state solution with increased connectivity\n",
    "    For limited corona, the shortcuts are added to keep max connections / vertex the smallest\n",
    "\n",
    "    Arguments:\n",
    "        k: number of 3 vertex segments\n",
    "        n: number of shortcuts. \n",
    "    \"\"\"\n",
    "\n",
    "    if n >= factorial(3*k-2):\n",
    "        raise ValueError(\"n >= (3k-2)!: More shortcuts than allowed for graph.\\n Choose a smaller number.\")\n",
    "    \n",
    "    # construct base ring\n",
    "    ring, _ = generate_nn_graph(3*k)\n",
    "    ring.add((3*k-1, 0))\n",
    "\n",
    "    # add antigen\n",
    "    antigen = ((3*i+1,3*k+i) for i in range(k))\n",
    "    ring.update(antigen)\n",
    "\n",
    "    # connectivity\n",
    "    connections = {idx: 2 for idx in range(3*k)}\n",
    "    for i in range(k):\n",
    "        connections[3*i+1] += 1\n",
    "\n",
    "    # add shortcuts\n",
    "    shortcuts = [(kidx, (kidx+nidx+2)%(3*k)) for nidx in range(k) for kidx in range(3*k)]\n",
    "    count = 0\n",
    "    minconnections = min(connections.values())\n",
    "    while count < n:\n",
    "        for idx, shortcut in enumerate(shortcuts):\n",
    "            start = shortcut[0]\n",
    "            end = shortcut[1]\n",
    "            if connections[start] > minconnections or connections[end] > minconnections:\n",
    "                deadend = True\n",
    "                pass\n",
    "            else:\n",
    "                ring.add(shortcut)\n",
    "                shortcuts.pop(idx)\n",
    "                connections[start] += 1\n",
    "                connections[end] +=1\n",
    "                minconnections = min(connections.values())\n",
    "                count += 1\n",
    "                deadend = False\n",
    "                break\n",
    "        if idx == len(shortcuts)-1 and deadend:\n",
    "            minconnections += 1\n",
    "    return ring, f\"lC19({k},{n})\""
   ]
  },
  {
   "cell_type": "code",
   "execution_count": 101,
   "metadata": {},
   "outputs": [
    {
     "name": "stdout",
     "output_type": "stream",
     "text": [
      "2\n",
      "4\n",
      "4\n",
      "{0: 4, 1: 5, 2: 4, 3: 4, 4: 5, 5: 4}\n",
      "14\n"
     ]
    },
    {
     "data": {
      "image/png": "[encoded data removed]",
      "text/plain": [
       "<Figure size 432x288 with 1 Axes>"
      ]
     },
     "metadata": {},
     "output_type": "display_data"
    }
   ],
   "source": [
    "graph, tag = generate_limited_corona_graph(2, 6)\n",
    "print(len(graph))\n",
    "gt.get_plot(graph, directed=False)\n",
    "plt.show()"
   ]
  },
  {
   "cell_type": "code",
   "execution_count": null,
   "metadata": {},
   "outputs": [],
   "source": []
  }
 ],
 "metadata": {
  "kernelspec": {
   "display_name": "Python 3",
   "language": "python",
   "name": "python3"
  },
  "language_info": {
   "codemirror_mode": {
    "name": "ipython",
    "version": 3
   },
   "file_extension": ".py",
   "mimetype": "text/x-python",
   "name": "python",
   "nbconvert_exporter": "python",
   "pygments_lexer": "ipython3",
   "version": "3.7.4"
  }
 },
 "nbformat": 4,
 "nbformat_minor": 2
}
